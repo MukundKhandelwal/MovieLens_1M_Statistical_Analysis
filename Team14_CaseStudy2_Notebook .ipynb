{
 "cells": [
  {
   "cell_type": "markdown",
   "metadata": {},
   "source": [
    "## The MovieLens data sets\n",
    "\n",
    "<img src=\"https://pbs.twimg.com/profile_images/378800000380161537/b6fa868dce43807d4e67462587d0b0d2_400x400.png\">\n",
    "\n",
    "http://grouplens.org/datasets/movielens/\n",
    "\n"
   ]
  },
  {
   "cell_type": "code",
   "execution_count": 1,
   "metadata": {
    "collapsed": true
   },
   "outputs": [],
   "source": [
    "from IPython.lib.display import YouTubeVideo"
   ]
  },
  {
   "cell_type": "code",
   "execution_count": 2,
   "metadata": {
    "scrolled": true
   },
   "outputs": [
    {
     "data": {
      "image/jpeg": "[encoded data removed]",
      "text/html": [
       "\n",
       "        <iframe\n",
       "            width=\"400\"\n",
       "            height=\"300\"\n",
       "            src=\"https://www.youtube.com/embed/4tW9HY0Q460\"\n",
       "            frameborder=\"0\"\n",
       "            allowfullscreen\n",
       "        ></iframe>\n",
       "        "
      ],
      "text/plain": [
       "<IPython.lib.display.YouTubeVideo at 0x29cae55a6a0>"
      ]
     },
     "execution_count": 2,
     "metadata": {},
     "output_type": "execute_result"
    }
   ],
   "source": [
    "YouTubeVideo('4tW9HY0Q460')"
   ]
  },
  {
   "cell_type": "markdown",
   "metadata": {},
   "source": [
    "# Problem 1 (20 points total): \n",
    "\n",
    "## (10 points) Importing the MovieLens data set and merging it into a single Pandas DataFrame"
   ]
  },
  {
   "cell_type": "markdown",
   "metadata": {},
   "source": [
    "* Download the 1 million ratings data set from http://grouplens.org/datasets/movielens/ (though if you are feeling adventerous you can download the 10 million ratings file instead)\n",
    "* Merge all of the data into a single Pandas DataFrame\n",
    "* Store the data into an HDF5 file.\n",
    "\n",
    "## (10 points) Report some basic details of the data you collected.  For example:\n",
    "\n",
    "*  How many movies have an average rating over 4.5 overall?\n",
    "*  How many movies have an average rating over 4.5 among men?  How about women?\n",
    "*  How many movies have an *median* rating over 4.5 among men over age 30?  How about women over age 30?\n",
    "*  What are the ten most popular movies?\n",
    "    * Choose what you consider to be a reasonable defintion of \"popular\".\n",
    "    * Be perpared to defend this choice.\n",
    "*  Make some conjectures about how easy various groups are to please? Support your answers with data!  \n",
    "    *  For example, one might conjecture that people between the ages of 1 and 10 are the easiest to please since they are all young children.  This conjecture may or may not be true, but how would you support or disprove either conclusion with with data?\n",
    "    *  Be sure to come up with your own conjectures and support them with data!\n"
   ]
  },
  {
   "cell_type": "markdown",
   "metadata": {},
   "source": [
    "Download the 1 million ratings data set from GroupLens\n",
    "==="
   ]
  },
  {
   "cell_type": "code",
   "execution_count": 74,
   "metadata": {
    "collapsed": true
   },
   "outputs": [],
   "source": [
    "# These files contain 1,000,209 anonymous ratings of approximately 3,900 movies \n",
    "# made by 6,040 MovieLens users who joined MovieLens in 2000.\n",
    "import pandas as pd\n",
    "import matplotlib.pyplot as plt\n",
    "%matplotlib inline\n",
    "# read users .dat file into dataframe 'users'\n",
    "unames = ['user_id', 'gender', 'age', 'occupation', 'zip']\n",
    "users = pd.read_table('users.dat', sep='::', header=None, names=unames, engine='python')\n",
    "# read rating .dat file into dataframe 'ratings'\n",
    "rnames = ['user_id', 'movie_id','rating','timestamp']\n",
    "ratings = pd.read_table('ratings.dat', sep='::', header=None, names=rnames, engine='python')\n",
    "# read movies .dat file into dataframe 'movies'\n",
    "mnames = ['movie_id','title','genres']\n",
    "movies = pd.read_table('movies.dat', sep='::', header=None, names=mnames, engine='python')"
   ]
  },
  {
   "cell_type": "code",
   "execution_count": 75,
   "metadata": {
    "scrolled": true
   },
   "outputs": [
    {
     "data": {
      "text/html": [
       "<div>\n",
       "<style>\n",
       "    .dataframe thead tr:only-child th {\n",
       "        text-align: right;\n",
       "    }\n",
       "\n",
       "    .dataframe thead th {\n",
       "        text-align: left;\n",
       "    }\n",
       "\n",
       "    .dataframe tbody tr th {\n",
       "        vertical-align: top;\n",
       "    }\n",
       "</style>\n",
       "<table border=\"1\" class=\"dataframe\">\n",
       "  <thead>\n",
       "    <tr style=\"text-align: right;\">\n",
       "      <th></th>\n",
       "      <th>user_id</th>\n",
       "      <th>gender</th>\n",
       "      <th>age</th>\n",
       "      <th>occupation</th>\n",
       "      <th>zip</th>\n",
       "    </tr>\n",
       "  </thead>\n",
       "  <tbody>\n",
       "    <tr>\n",
       "      <th>0</th>\n",
       "      <td>1</td>\n",
       "      <td>F</td>\n",
       "      <td>1</td>\n",
       "      <td>10</td>\n",
       "      <td>48067</td>\n",
       "    </tr>\n",
       "    <tr>\n",
       "      <th>1</th>\n",
       "      <td>2</td>\n",
       "      <td>M</td>\n",
       "      <td>56</td>\n",
       "      <td>16</td>\n",
       "      <td>70072</td>\n",
       "    </tr>\n",
       "    <tr>\n",
       "      <th>2</th>\n",
       "      <td>3</td>\n",
       "      <td>M</td>\n",
       "      <td>25</td>\n",
       "      <td>15</td>\n",
       "      <td>55117</td>\n",
       "    </tr>\n",
       "    <tr>\n",
       "      <th>3</th>\n",
       "      <td>4</td>\n",
       "      <td>M</td>\n",
       "      <td>45</td>\n",
       "      <td>7</td>\n",
       "      <td>02460</td>\n",
       "    </tr>\n",
       "    <tr>\n",
       "      <th>4</th>\n",
       "      <td>5</td>\n",
       "      <td>M</td>\n",
       "      <td>25</td>\n",
       "      <td>20</td>\n",
       "      <td>55455</td>\n",
       "    </tr>\n",
       "  </tbody>\n",
       "</table>\n",
       "</div>"
      ],
      "text/plain": [
       "   user_id gender  age  occupation    zip\n",
       "0        1      F    1          10  48067\n",
       "1        2      M   56          16  70072\n",
       "2        3      M   25          15  55117\n",
       "3        4      M   45           7  02460\n",
       "4        5      M   25          20  55455"
      ]
     },
     "execution_count": 75,
     "metadata": {},
     "output_type": "execute_result"
    }
   ],
   "source": [
    "# verify dataframe users was loaded by viewing first 5 rows\n",
    "users.head()"
   ]
  },
  {
   "cell_type": "code",
   "execution_count": 76,
   "metadata": {},
   "outputs": [
    {
     "data": {
      "text/plain": [
       "<matplotlib.axes._subplots.AxesSubplot at 0x29c80c17ba8>"
      ]
     },
     "execution_count": 76,
     "metadata": {},
     "output_type": "execute_result"
    },
    {
     "data": {
      "image/png": "[encoded data removed]",
      "text/plain": [
       "<matplotlib.figure.Figure at 0x29c80da32e8>"
      ]
     },
     "metadata": {},
     "output_type": "display_data"
    }
   ],
   "source": [
    "# distribution of users ages\n",
    "import matplotlib\n",
    "users.age.plot.hist(bins=7)"
   ]
  },
  {
   "cell_type": "code",
   "execution_count": 77,
   "metadata": {
    "scrolled": false
   },
   "outputs": [
    {
     "data": {
      "text/plain": [
       "<matplotlib.axes._subplots.AxesSubplot at 0x29c8101eb38>"
      ]
     },
     "execution_count": 77,
     "metadata": {},
     "output_type": "execute_result"
    },
    {
     "data": {
      "image/png": "[encoded data removed]",
      "text/plain": [
       "<matplotlib.figure.Figure at 0x29c810269b0>"
      ]
     },
     "metadata": {},
     "output_type": "display_data"
    }
   ],
   "source": [
    "import matplotlib\n",
    "users.groupby('gender').size().plot(kind='bar')"
   ]
  },
  {
   "cell_type": "code",
   "execution_count": 78,
   "metadata": {},
   "outputs": [
    {
     "data": {
      "text/html": [
       "<div>\n",
       "<style>\n",
       "    .dataframe thead tr:only-child th {\n",
       "        text-align: right;\n",
       "    }\n",
       "\n",
       "    .dataframe thead th {\n",
       "        text-align: left;\n",
       "    }\n",
       "\n",
       "    .dataframe tbody tr th {\n",
       "        vertical-align: top;\n",
       "    }\n",
       "</style>\n",
       "<table border=\"1\" class=\"dataframe\">\n",
       "  <thead>\n",
       "    <tr style=\"text-align: right;\">\n",
       "      <th>gender</th>\n",
       "      <th>F</th>\n",
       "      <th>M</th>\n",
       "    </tr>\n",
       "    <tr>\n",
       "      <th>age</th>\n",
       "      <th></th>\n",
       "      <th></th>\n",
       "    </tr>\n",
       "  </thead>\n",
       "  <tbody>\n",
       "    <tr>\n",
       "      <th>1</th>\n",
       "      <td>78</td>\n",
       "      <td>144</td>\n",
       "    </tr>\n",
       "    <tr>\n",
       "      <th>18</th>\n",
       "      <td>298</td>\n",
       "      <td>805</td>\n",
       "    </tr>\n",
       "    <tr>\n",
       "      <th>25</th>\n",
       "      <td>558</td>\n",
       "      <td>1538</td>\n",
       "    </tr>\n",
       "    <tr>\n",
       "      <th>35</th>\n",
       "      <td>338</td>\n",
       "      <td>855</td>\n",
       "    </tr>\n",
       "    <tr>\n",
       "      <th>45</th>\n",
       "      <td>189</td>\n",
       "      <td>361</td>\n",
       "    </tr>\n",
       "    <tr>\n",
       "      <th>50</th>\n",
       "      <td>146</td>\n",
       "      <td>350</td>\n",
       "    </tr>\n",
       "    <tr>\n",
       "      <th>56</th>\n",
       "      <td>102</td>\n",
       "      <td>278</td>\n",
       "    </tr>\n",
       "  </tbody>\n",
       "</table>\n",
       "</div>"
      ],
      "text/plain": [
       "gender    F     M\n",
       "age              \n",
       "1        78   144\n",
       "18      298   805\n",
       "25      558  1538\n",
       "35      338   855\n",
       "45      189   361\n",
       "50      146   350\n",
       "56      102   278"
      ]
     },
     "execution_count": 78,
     "metadata": {},
     "output_type": "execute_result"
    }
   ],
   "source": [
    "users.groupby(['age','gender']).size().unstack()\n",
    "\n",
    "# 1709 female / 4331 male"
   ]
  },
  {
   "cell_type": "code",
   "execution_count": 79,
   "metadata": {},
   "outputs": [
    {
     "data": {
      "text/html": [
       "<div>\n",
       "<style>\n",
       "    .dataframe thead tr:only-child th {\n",
       "        text-align: right;\n",
       "    }\n",
       "\n",
       "    .dataframe thead th {\n",
       "        text-align: left;\n",
       "    }\n",
       "\n",
       "    .dataframe tbody tr th {\n",
       "        vertical-align: top;\n",
       "    }\n",
       "</style>\n",
       "<table border=\"1\" class=\"dataframe\">\n",
       "  <thead>\n",
       "    <tr style=\"text-align: right;\">\n",
       "      <th></th>\n",
       "      <th>user_id</th>\n",
       "      <th>movie_id</th>\n",
       "      <th>rating</th>\n",
       "      <th>timestamp</th>\n",
       "    </tr>\n",
       "  </thead>\n",
       "  <tbody>\n",
       "    <tr>\n",
       "      <th>0</th>\n",
       "      <td>1</td>\n",
       "      <td>1193</td>\n",
       "      <td>5</td>\n",
       "      <td>978300760</td>\n",
       "    </tr>\n",
       "    <tr>\n",
       "      <th>1</th>\n",
       "      <td>1</td>\n",
       "      <td>661</td>\n",
       "      <td>3</td>\n",
       "      <td>978302109</td>\n",
       "    </tr>\n",
       "    <tr>\n",
       "      <th>2</th>\n",
       "      <td>1</td>\n",
       "      <td>914</td>\n",
       "      <td>3</td>\n",
       "      <td>978301968</td>\n",
       "    </tr>\n",
       "    <tr>\n",
       "      <th>3</th>\n",
       "      <td>1</td>\n",
       "      <td>3408</td>\n",
       "      <td>4</td>\n",
       "      <td>978300275</td>\n",
       "    </tr>\n",
       "    <tr>\n",
       "      <th>4</th>\n",
       "      <td>1</td>\n",
       "      <td>2355</td>\n",
       "      <td>5</td>\n",
       "      <td>978824291</td>\n",
       "    </tr>\n",
       "  </tbody>\n",
       "</table>\n",
       "</div>"
      ],
      "text/plain": [
       "   user_id  movie_id  rating  timestamp\n",
       "0        1      1193       5  978300760\n",
       "1        1       661       3  978302109\n",
       "2        1       914       3  978301968\n",
       "3        1      3408       4  978300275\n",
       "4        1      2355       5  978824291"
      ]
     },
     "execution_count": 79,
     "metadata": {},
     "output_type": "execute_result"
    }
   ],
   "source": [
    "# verify dataframe ratings was loaded by viewing first 5 rows\n",
    "ratings[:5]"
   ]
  },
  {
   "cell_type": "code",
   "execution_count": 80,
   "metadata": {
    "scrolled": false
   },
   "outputs": [
    {
     "data": {
      "text/html": [
       "<div>\n",
       "<style>\n",
       "    .dataframe thead tr:only-child th {\n",
       "        text-align: right;\n",
       "    }\n",
       "\n",
       "    .dataframe thead th {\n",
       "        text-align: left;\n",
       "    }\n",
       "\n",
       "    .dataframe tbody tr th {\n",
       "        vertical-align: top;\n",
       "    }\n",
       "</style>\n",
       "<table border=\"1\" class=\"dataframe\">\n",
       "  <thead>\n",
       "    <tr style=\"text-align: right;\">\n",
       "      <th></th>\n",
       "      <th>movie_id</th>\n",
       "      <th>title</th>\n",
       "      <th>genres</th>\n",
       "    </tr>\n",
       "  </thead>\n",
       "  <tbody>\n",
       "    <tr>\n",
       "      <th>0</th>\n",
       "      <td>1</td>\n",
       "      <td>Toy Story (1995)</td>\n",
       "      <td>Animation|Children's|Comedy</td>\n",
       "    </tr>\n",
       "    <tr>\n",
       "      <th>1</th>\n",
       "      <td>2</td>\n",
       "      <td>Jumanji (1995)</td>\n",
       "      <td>Adventure|Children's|Fantasy</td>\n",
       "    </tr>\n",
       "    <tr>\n",
       "      <th>2</th>\n",
       "      <td>3</td>\n",
       "      <td>Grumpier Old Men (1995)</td>\n",
       "      <td>Comedy|Romance</td>\n",
       "    </tr>\n",
       "    <tr>\n",
       "      <th>3</th>\n",
       "      <td>4</td>\n",
       "      <td>Waiting to Exhale (1995)</td>\n",
       "      <td>Comedy|Drama</td>\n",
       "    </tr>\n",
       "    <tr>\n",
       "      <th>4</th>\n",
       "      <td>5</td>\n",
       "      <td>Father of the Bride Part II (1995)</td>\n",
       "      <td>Comedy</td>\n",
       "    </tr>\n",
       "  </tbody>\n",
       "</table>\n",
       "</div>"
      ],
      "text/plain": [
       "   movie_id                               title                        genres\n",
       "0         1                    Toy Story (1995)   Animation|Children's|Comedy\n",
       "1         2                      Jumanji (1995)  Adventure|Children's|Fantasy\n",
       "2         3             Grumpier Old Men (1995)                Comedy|Romance\n",
       "3         4            Waiting to Exhale (1995)                  Comedy|Drama\n",
       "4         5  Father of the Bride Part II (1995)                        Comedy"
      ]
     },
     "execution_count": 80,
     "metadata": {},
     "output_type": "execute_result"
    }
   ],
   "source": [
    "# verify dataframe movies was loded by viewing first 5 rows\n",
    "movies[:5]"
   ]
  },
  {
   "cell_type": "markdown",
   "metadata": {},
   "source": [
    "---"
   ]
  },
  {
   "cell_type": "markdown",
   "metadata": {},
   "source": [
    "Merge all of the data into a single Pandas DataFrame\n",
    "==="
   ]
  },
  {
   "cell_type": "code",
   "execution_count": 81,
   "metadata": {
    "collapsed": true
   },
   "outputs": [],
   "source": [
    "# merge 3 dataframes using panda's merge function. pandas infers which columns to use as merge keys (joins) based on overlapping names\n",
    "merged_data = pd.merge( pd.merge(ratings, users), movies)"
   ]
  },
  {
   "cell_type": "markdown",
   "metadata": {},
   "source": [
    "---"
   ]
  },
  {
   "cell_type": "code",
   "execution_count": 82,
   "metadata": {
    "scrolled": true
   },
   "outputs": [
    {
     "data": {
      "text/html": [
       "<div>\n",
       "<style>\n",
       "    .dataframe thead tr:only-child th {\n",
       "        text-align: right;\n",
       "    }\n",
       "\n",
       "    .dataframe thead th {\n",
       "        text-align: left;\n",
       "    }\n",
       "\n",
       "    .dataframe tbody tr th {\n",
       "        vertical-align: top;\n",
       "    }\n",
       "</style>\n",
       "<table border=\"1\" class=\"dataframe\">\n",
       "  <thead>\n",
       "    <tr style=\"text-align: right;\">\n",
       "      <th></th>\n",
       "      <th>user_id</th>\n",
       "      <th>movie_id</th>\n",
       "      <th>rating</th>\n",
       "      <th>timestamp</th>\n",
       "      <th>gender</th>\n",
       "      <th>age</th>\n",
       "      <th>occupation</th>\n",
       "      <th>zip</th>\n",
       "      <th>title</th>\n",
       "      <th>genres</th>\n",
       "    </tr>\n",
       "  </thead>\n",
       "  <tbody>\n",
       "    <tr>\n",
       "      <th>0</th>\n",
       "      <td>1</td>\n",
       "      <td>1193</td>\n",
       "      <td>5</td>\n",
       "      <td>978300760</td>\n",
       "      <td>F</td>\n",
       "      <td>1</td>\n",
       "      <td>10</td>\n",
       "      <td>48067</td>\n",
       "      <td>One Flew Over the Cuckoo's Nest (1975)</td>\n",
       "      <td>Drama</td>\n",
       "    </tr>\n",
       "    <tr>\n",
       "      <th>1</th>\n",
       "      <td>2</td>\n",
       "      <td>1193</td>\n",
       "      <td>5</td>\n",
       "      <td>978298413</td>\n",
       "      <td>M</td>\n",
       "      <td>56</td>\n",
       "      <td>16</td>\n",
       "      <td>70072</td>\n",
       "      <td>One Flew Over the Cuckoo's Nest (1975)</td>\n",
       "      <td>Drama</td>\n",
       "    </tr>\n",
       "    <tr>\n",
       "      <th>2</th>\n",
       "      <td>12</td>\n",
       "      <td>1193</td>\n",
       "      <td>4</td>\n",
       "      <td>978220179</td>\n",
       "      <td>M</td>\n",
       "      <td>25</td>\n",
       "      <td>12</td>\n",
       "      <td>32793</td>\n",
       "      <td>One Flew Over the Cuckoo's Nest (1975)</td>\n",
       "      <td>Drama</td>\n",
       "    </tr>\n",
       "    <tr>\n",
       "      <th>3</th>\n",
       "      <td>15</td>\n",
       "      <td>1193</td>\n",
       "      <td>4</td>\n",
       "      <td>978199279</td>\n",
       "      <td>M</td>\n",
       "      <td>25</td>\n",
       "      <td>7</td>\n",
       "      <td>22903</td>\n",
       "      <td>One Flew Over the Cuckoo's Nest (1975)</td>\n",
       "      <td>Drama</td>\n",
       "    </tr>\n",
       "    <tr>\n",
       "      <th>4</th>\n",
       "      <td>17</td>\n",
       "      <td>1193</td>\n",
       "      <td>5</td>\n",
       "      <td>978158471</td>\n",
       "      <td>M</td>\n",
       "      <td>50</td>\n",
       "      <td>1</td>\n",
       "      <td>95350</td>\n",
       "      <td>One Flew Over the Cuckoo's Nest (1975)</td>\n",
       "      <td>Drama</td>\n",
       "    </tr>\n",
       "  </tbody>\n",
       "</table>\n",
       "</div>"
      ],
      "text/plain": [
       "   user_id  movie_id  rating  timestamp gender  age  occupation    zip  \\\n",
       "0        1      1193       5  978300760      F    1          10  48067   \n",
       "1        2      1193       5  978298413      M   56          16  70072   \n",
       "2       12      1193       4  978220179      M   25          12  32793   \n",
       "3       15      1193       4  978199279      M   25           7  22903   \n",
       "4       17      1193       5  978158471      M   50           1  95350   \n",
       "\n",
       "                                    title genres  \n",
       "0  One Flew Over the Cuckoo's Nest (1975)  Drama  \n",
       "1  One Flew Over the Cuckoo's Nest (1975)  Drama  \n",
       "2  One Flew Over the Cuckoo's Nest (1975)  Drama  \n",
       "3  One Flew Over the Cuckoo's Nest (1975)  Drama  \n",
       "4  One Flew Over the Cuckoo's Nest (1975)  Drama  "
      ]
     },
     "execution_count": 82,
     "metadata": {},
     "output_type": "execute_result"
    }
   ],
   "source": [
    "# verify merge by viewing first 5 head rows\n",
    "merged_data.head()"
   ]
  },
  {
   "cell_type": "code",
   "execution_count": 83,
   "metadata": {
    "scrolled": false
   },
   "outputs": [
    {
     "data": {
      "text/plain": [
       "user_id                                            1\n",
       "movie_id                                        1193\n",
       "rating                                             5\n",
       "timestamp                                  978300760\n",
       "gender                                             F\n",
       "age                                                1\n",
       "occupation                                        10\n",
       "zip                                            48067\n",
       "title         One Flew Over the Cuckoo's Nest (1975)\n",
       "genres                                         Drama\n",
       "Name: 0, dtype: object"
      ]
     },
     "execution_count": 83,
     "metadata": {},
     "output_type": "execute_result"
    }
   ],
   "source": [
    "# use pandas indexer on merged data\n",
    "# switched to .loc method... \".ix is deprecated. Please use .loc for label based indexing or .iloc for positional indexing\"\n",
    "merged_data.loc[0]"
   ]
  },
  {
   "cell_type": "markdown",
   "metadata": {},
   "source": [
    "---"
   ]
  },
  {
   "cell_type": "markdown",
   "metadata": {},
   "source": [
    "Store the data into an HDF5 file\n",
    "==="
   ]
  },
  {
   "cell_type": "code",
   "execution_count": 13,
   "metadata": {
    "collapsed": true
   },
   "outputs": [],
   "source": [
    "# store merged data as an HDF5 file\n",
    "#  save as merged_data.hdf5 with 'df' as key/identifier for group in the store, \n",
    "#  mode of 'w' for Write; a new file is created (an existing file with the same name would be deleted).\n",
    "#  format of 'table'; Write as a PyTables Table structure which may perform worse but allow more flexible operations like \n",
    "#  searching / selecting subsets of the data\n",
    "#  data_columns is TRUE; List of columns to create as indexed data columns for on-disk queries, or True to use all columns. \n",
    "#    By default only the axes of the object are indexed. \n",
    "#    See here http://pandas.pydata.org/pandas-docs/stable/io.html#query-via-data-columns\n",
    "#    Applicable only to format=’table’.\n",
    "\n",
    "merged_data.to_hdf('merged_data.hdf5','movielens',mode='w',format='table',data_columns=True)"
   ]
  },
  {
   "cell_type": "markdown",
   "metadata": {},
   "source": [
    "---"
   ]
  },
  {
   "cell_type": "markdown",
   "metadata": {},
   "source": [
    "Start code for: How many movies have an average rating over 4.5 overall?\n",
    "===\n"
   ]
  },
  {
   "cell_type": "code",
   "execution_count": 14,
   "metadata": {},
   "outputs": [
    {
     "data": {
      "text/html": [
       "<div>\n",
       "<style>\n",
       "    .dataframe thead tr:only-child th {\n",
       "        text-align: right;\n",
       "    }\n",
       "\n",
       "    .dataframe thead th {\n",
       "        text-align: left;\n",
       "    }\n",
       "\n",
       "    .dataframe tbody tr th {\n",
       "        vertical-align: top;\n",
       "    }\n",
       "</style>\n",
       "<table border=\"1\" class=\"dataframe\">\n",
       "  <thead>\n",
       "    <tr style=\"text-align: right;\">\n",
       "      <th></th>\n",
       "      <th>rating</th>\n",
       "    </tr>\n",
       "    <tr>\n",
       "      <th>title</th>\n",
       "      <th></th>\n",
       "    </tr>\n",
       "  </thead>\n",
       "  <tbody>\n",
       "    <tr>\n",
       "      <th>$1,000,000 Duck (1971)</th>\n",
       "      <td>3.027027</td>\n",
       "    </tr>\n",
       "    <tr>\n",
       "      <th>'Night Mother (1986)</th>\n",
       "      <td>3.371429</td>\n",
       "    </tr>\n",
       "    <tr>\n",
       "      <th>'Til There Was You (1997)</th>\n",
       "      <td>2.692308</td>\n",
       "    </tr>\n",
       "    <tr>\n",
       "      <th>'burbs, The (1989)</th>\n",
       "      <td>2.910891</td>\n",
       "    </tr>\n",
       "    <tr>\n",
       "      <th>...And Justice for All (1979)</th>\n",
       "      <td>3.713568</td>\n",
       "    </tr>\n",
       "  </tbody>\n",
       "</table>\n",
       "</div>"
      ],
      "text/plain": [
       "                                 rating\n",
       "title                                  \n",
       "$1,000,000 Duck (1971)         3.027027\n",
       "'Night Mother (1986)           3.371429\n",
       "'Til There Was You (1997)      2.692308\n",
       "'burbs, The (1989)             2.910891\n",
       "...And Justice for All (1979)  3.713568"
      ]
     },
     "execution_count": 14,
     "metadata": {},
     "output_type": "execute_result"
    }
   ],
   "source": [
    "# Create pivot table for answering: How many movies have an average rating over 4.5 overall?\n",
    "mean_ratings = pd.pivot_table(merged_data,index=['title'],values=['rating'],aggfunc='mean')\n",
    "# verify new pivot table 'mean_ratings' (with average ratings by title) by viewing first 5 rows\n",
    "mean_ratings.head()"
   ]
  },
  {
   "cell_type": "code",
   "execution_count": 15,
   "metadata": {
    "scrolled": true
   },
   "outputs": [
    {
     "data": {
      "text/html": [
       "<div>\n",
       "<style>\n",
       "    .dataframe thead tr:only-child th {\n",
       "        text-align: right;\n",
       "    }\n",
       "\n",
       "    .dataframe thead th {\n",
       "        text-align: left;\n",
       "    }\n",
       "\n",
       "    .dataframe tbody tr th {\n",
       "        vertical-align: top;\n",
       "    }\n",
       "</style>\n",
       "<table border=\"1\" class=\"dataframe\">\n",
       "  <thead>\n",
       "    <tr style=\"text-align: right;\">\n",
       "      <th></th>\n",
       "      <th>rating</th>\n",
       "    </tr>\n",
       "    <tr>\n",
       "      <th>title</th>\n",
       "      <th></th>\n",
       "    </tr>\n",
       "  </thead>\n",
       "  <tbody>\n",
       "    <tr>\n",
       "      <th>One Little Indian (1973)</th>\n",
       "      <td>5.000000</td>\n",
       "    </tr>\n",
       "    <tr>\n",
       "      <th>Schlafes Bruder (Brother of Sleep) (1995)</th>\n",
       "      <td>5.000000</td>\n",
       "    </tr>\n",
       "    <tr>\n",
       "      <th>Bittersweet Motel (2000)</th>\n",
       "      <td>5.000000</td>\n",
       "    </tr>\n",
       "    <tr>\n",
       "      <th>Ulysses (Ulisse) (1954)</th>\n",
       "      <td>5.000000</td>\n",
       "    </tr>\n",
       "    <tr>\n",
       "      <th>Follow the Bitch (1998)</th>\n",
       "      <td>5.000000</td>\n",
       "    </tr>\n",
       "    <tr>\n",
       "      <th>Gate of Heavenly Peace, The (1995)</th>\n",
       "      <td>5.000000</td>\n",
       "    </tr>\n",
       "    <tr>\n",
       "      <th>Song of Freedom (1936)</th>\n",
       "      <td>5.000000</td>\n",
       "    </tr>\n",
       "    <tr>\n",
       "      <th>Lured (1947)</th>\n",
       "      <td>5.000000</td>\n",
       "    </tr>\n",
       "    <tr>\n",
       "      <th>Baby, The (1973)</th>\n",
       "      <td>5.000000</td>\n",
       "    </tr>\n",
       "    <tr>\n",
       "      <th>Smashing Time (1967)</th>\n",
       "      <td>5.000000</td>\n",
       "    </tr>\n",
       "    <tr>\n",
       "      <th>I Am Cuba (Soy Cuba/Ya Kuba) (1964)</th>\n",
       "      <td>4.800000</td>\n",
       "    </tr>\n",
       "    <tr>\n",
       "      <th>Lamerica (1994)</th>\n",
       "      <td>4.750000</td>\n",
       "    </tr>\n",
       "    <tr>\n",
       "      <th>Apple, The (Sib) (1998)</th>\n",
       "      <td>4.666667</td>\n",
       "    </tr>\n",
       "    <tr>\n",
       "      <th>Sanjuro (1962)</th>\n",
       "      <td>4.608696</td>\n",
       "    </tr>\n",
       "    <tr>\n",
       "      <th>Seven Samurai (The Magnificent Seven) (Shichinin no samurai) (1954)</th>\n",
       "      <td>4.560510</td>\n",
       "    </tr>\n",
       "    <tr>\n",
       "      <th>Shawshank Redemption, The (1994)</th>\n",
       "      <td>4.554558</td>\n",
       "    </tr>\n",
       "    <tr>\n",
       "      <th>Godfather, The (1972)</th>\n",
       "      <td>4.524966</td>\n",
       "    </tr>\n",
       "    <tr>\n",
       "      <th>Close Shave, A (1995)</th>\n",
       "      <td>4.520548</td>\n",
       "    </tr>\n",
       "    <tr>\n",
       "      <th>Usual Suspects, The (1995)</th>\n",
       "      <td>4.517106</td>\n",
       "    </tr>\n",
       "    <tr>\n",
       "      <th>Schindler's List (1993)</th>\n",
       "      <td>4.510417</td>\n",
       "    </tr>\n",
       "    <tr>\n",
       "      <th>Wrong Trousers, The (1993)</th>\n",
       "      <td>4.507937</td>\n",
       "    </tr>\n",
       "  </tbody>\n",
       "</table>\n",
       "</div>"
      ],
      "text/plain": [
       "                                                      rating\n",
       "title                                                       \n",
       "One Little Indian (1973)                            5.000000\n",
       "Schlafes Bruder (Brother of Sleep) (1995)           5.000000\n",
       "Bittersweet Motel (2000)                            5.000000\n",
       "Ulysses (Ulisse) (1954)                             5.000000\n",
       "Follow the Bitch (1998)                             5.000000\n",
       "Gate of Heavenly Peace, The (1995)                  5.000000\n",
       "Song of Freedom (1936)                              5.000000\n",
       "Lured (1947)                                        5.000000\n",
       "Baby, The (1973)                                    5.000000\n",
       "Smashing Time (1967)                                5.000000\n",
       "I Am Cuba (Soy Cuba/Ya Kuba) (1964)                 4.800000\n",
       "Lamerica (1994)                                     4.750000\n",
       "Apple, The (Sib) (1998)                             4.666667\n",
       "Sanjuro (1962)                                      4.608696\n",
       "Seven Samurai (The Magnificent Seven) (Shichini...  4.560510\n",
       "Shawshank Redemption, The (1994)                    4.554558\n",
       "Godfather, The (1972)                               4.524966\n",
       "Close Shave, A (1995)                               4.520548\n",
       "Usual Suspects, The (1995)                          4.517106\n",
       "Schindler's List (1993)                             4.510417\n",
       "Wrong Trousers, The (1993)                          4.507937"
      ]
     },
     "execution_count": 15,
     "metadata": {},
     "output_type": "execute_result"
    }
   ],
   "source": [
    "# filter pivot table 'mean_ratings' where rating > 4.5 and store results in new dataframe\n",
    "greater_than_45 = mean_ratings.query('rating > 4.5')\n",
    "# display movie titles with rating greater than 4.5 in descending order of rating\n",
    "greater_than_45.sort_values(by='rating', ascending=False)"
   ]
  },
  {
   "cell_type": "code",
   "execution_count": 16,
   "metadata": {},
   "outputs": [
    {
     "data": {
      "text/plain": [
       "21"
      ]
     },
     "execution_count": 16,
     "metadata": {},
     "output_type": "execute_result"
    }
   ],
   "source": [
    "# Answer the question: How many movies have an average rating over 4.5 overall?\n",
    "len(greater_than_45.index)"
   ]
  },
  {
   "cell_type": "markdown",
   "metadata": {},
   "source": [
    "Q: How many movies have an average rating over 4.5 overall?\n",
    "===\n",
    "A: 21\n",
    "==="
   ]
  },
  {
   "cell_type": "markdown",
   "metadata": {},
   "source": [
    "---"
   ]
  },
  {
   "cell_type": "markdown",
   "metadata": {},
   "source": [
    "Start code for: How many movies have an average rating over 4.5 among men?\n",
    "==="
   ]
  },
  {
   "cell_type": "code",
   "execution_count": 17,
   "metadata": {
    "collapsed": true
   },
   "outputs": [],
   "source": [
    "# How many movies have an average rating over 4.5 among men? \n",
    "# create dataframe with gender = M\n",
    "men_ratings = merged_data.loc[merged_data.gender == 'M']"
   ]
  },
  {
   "cell_type": "code",
   "execution_count": 18,
   "metadata": {
    "scrolled": true
   },
   "outputs": [
    {
     "data": {
      "text/html": [
       "<div>\n",
       "<style>\n",
       "    .dataframe thead tr:only-child th {\n",
       "        text-align: right;\n",
       "    }\n",
       "\n",
       "    .dataframe thead th {\n",
       "        text-align: left;\n",
       "    }\n",
       "\n",
       "    .dataframe tbody tr th {\n",
       "        vertical-align: top;\n",
       "    }\n",
       "</style>\n",
       "<table border=\"1\" class=\"dataframe\">\n",
       "  <thead>\n",
       "    <tr style=\"text-align: right;\">\n",
       "      <th></th>\n",
       "      <th>user_id</th>\n",
       "      <th>movie_id</th>\n",
       "      <th>rating</th>\n",
       "      <th>timestamp</th>\n",
       "      <th>gender</th>\n",
       "      <th>age</th>\n",
       "      <th>occupation</th>\n",
       "      <th>zip</th>\n",
       "      <th>title</th>\n",
       "      <th>genres</th>\n",
       "    </tr>\n",
       "  </thead>\n",
       "  <tbody>\n",
       "    <tr>\n",
       "      <th>1</th>\n",
       "      <td>2</td>\n",
       "      <td>1193</td>\n",
       "      <td>5</td>\n",
       "      <td>978298413</td>\n",
       "      <td>M</td>\n",
       "      <td>56</td>\n",
       "      <td>16</td>\n",
       "      <td>70072</td>\n",
       "      <td>One Flew Over the Cuckoo's Nest (1975)</td>\n",
       "      <td>Drama</td>\n",
       "    </tr>\n",
       "    <tr>\n",
       "      <th>2</th>\n",
       "      <td>12</td>\n",
       "      <td>1193</td>\n",
       "      <td>4</td>\n",
       "      <td>978220179</td>\n",
       "      <td>M</td>\n",
       "      <td>25</td>\n",
       "      <td>12</td>\n",
       "      <td>32793</td>\n",
       "      <td>One Flew Over the Cuckoo's Nest (1975)</td>\n",
       "      <td>Drama</td>\n",
       "    </tr>\n",
       "    <tr>\n",
       "      <th>3</th>\n",
       "      <td>15</td>\n",
       "      <td>1193</td>\n",
       "      <td>4</td>\n",
       "      <td>978199279</td>\n",
       "      <td>M</td>\n",
       "      <td>25</td>\n",
       "      <td>7</td>\n",
       "      <td>22903</td>\n",
       "      <td>One Flew Over the Cuckoo's Nest (1975)</td>\n",
       "      <td>Drama</td>\n",
       "    </tr>\n",
       "    <tr>\n",
       "      <th>4</th>\n",
       "      <td>17</td>\n",
       "      <td>1193</td>\n",
       "      <td>5</td>\n",
       "      <td>978158471</td>\n",
       "      <td>M</td>\n",
       "      <td>50</td>\n",
       "      <td>1</td>\n",
       "      <td>95350</td>\n",
       "      <td>One Flew Over the Cuckoo's Nest (1975)</td>\n",
       "      <td>Drama</td>\n",
       "    </tr>\n",
       "    <tr>\n",
       "      <th>6</th>\n",
       "      <td>19</td>\n",
       "      <td>1193</td>\n",
       "      <td>5</td>\n",
       "      <td>982730936</td>\n",
       "      <td>M</td>\n",
       "      <td>1</td>\n",
       "      <td>10</td>\n",
       "      <td>48073</td>\n",
       "      <td>One Flew Over the Cuckoo's Nest (1975)</td>\n",
       "      <td>Drama</td>\n",
       "    </tr>\n",
       "  </tbody>\n",
       "</table>\n",
       "</div>"
      ],
      "text/plain": [
       "   user_id  movie_id  rating  timestamp gender  age  occupation    zip  \\\n",
       "1        2      1193       5  978298413      M   56          16  70072   \n",
       "2       12      1193       4  978220179      M   25          12  32793   \n",
       "3       15      1193       4  978199279      M   25           7  22903   \n",
       "4       17      1193       5  978158471      M   50           1  95350   \n",
       "6       19      1193       5  982730936      M    1          10  48073   \n",
       "\n",
       "                                    title genres  \n",
       "1  One Flew Over the Cuckoo's Nest (1975)  Drama  \n",
       "2  One Flew Over the Cuckoo's Nest (1975)  Drama  \n",
       "3  One Flew Over the Cuckoo's Nest (1975)  Drama  \n",
       "4  One Flew Over the Cuckoo's Nest (1975)  Drama  \n",
       "6  One Flew Over the Cuckoo's Nest (1975)  Drama  "
      ]
     },
     "execution_count": 18,
     "metadata": {},
     "output_type": "execute_result"
    }
   ],
   "source": [
    "# verify dataframe contains ratings only for gender = M by viewing first 5 rows\n",
    "men_ratings.head()"
   ]
  },
  {
   "cell_type": "code",
   "execution_count": 19,
   "metadata": {
    "collapsed": true
   },
   "outputs": [],
   "source": [
    "# create pivot table with ratings by MEN for all movies\n",
    "men_avg_ratings = pd.pivot_table(men_ratings,index=['title','gender'],values=['rating'],aggfunc='mean')"
   ]
  },
  {
   "cell_type": "code",
   "execution_count": 20,
   "metadata": {},
   "outputs": [
    {
     "data": {
      "text/html": [
       "<div>\n",
       "<style>\n",
       "    .dataframe thead tr:only-child th {\n",
       "        text-align: right;\n",
       "    }\n",
       "\n",
       "    .dataframe thead th {\n",
       "        text-align: left;\n",
       "    }\n",
       "\n",
       "    .dataframe tbody tr th {\n",
       "        vertical-align: top;\n",
       "    }\n",
       "</style>\n",
       "<table border=\"1\" class=\"dataframe\">\n",
       "  <thead>\n",
       "    <tr style=\"text-align: right;\">\n",
       "      <th></th>\n",
       "      <th></th>\n",
       "      <th>rating</th>\n",
       "    </tr>\n",
       "    <tr>\n",
       "      <th>title</th>\n",
       "      <th>gender</th>\n",
       "      <th></th>\n",
       "    </tr>\n",
       "  </thead>\n",
       "  <tbody>\n",
       "    <tr>\n",
       "      <th>$1,000,000 Duck (1971)</th>\n",
       "      <th>M</th>\n",
       "      <td>2.761905</td>\n",
       "    </tr>\n",
       "    <tr>\n",
       "      <th>'Night Mother (1986)</th>\n",
       "      <th>M</th>\n",
       "      <td>3.352941</td>\n",
       "    </tr>\n",
       "    <tr>\n",
       "      <th>'Til There Was You (1997)</th>\n",
       "      <th>M</th>\n",
       "      <td>2.733333</td>\n",
       "    </tr>\n",
       "    <tr>\n",
       "      <th>'burbs, The (1989)</th>\n",
       "      <th>M</th>\n",
       "      <td>2.962085</td>\n",
       "    </tr>\n",
       "    <tr>\n",
       "      <th>...And Justice for All (1979)</th>\n",
       "      <th>M</th>\n",
       "      <td>3.689024</td>\n",
       "    </tr>\n",
       "  </tbody>\n",
       "</table>\n",
       "</div>"
      ],
      "text/plain": [
       "                                        rating\n",
       "title                         gender          \n",
       "$1,000,000 Duck (1971)        M       2.761905\n",
       "'Night Mother (1986)          M       3.352941\n",
       "'Til There Was You (1997)     M       2.733333\n",
       "'burbs, The (1989)            M       2.962085\n",
       "...And Justice for All (1979) M       3.689024"
      ]
     },
     "execution_count": 20,
     "metadata": {},
     "output_type": "execute_result"
    }
   ],
   "source": [
    "# verify pivot table contains avg rating by MEN for all movies\n",
    "men_avg_ratings.head()"
   ]
  },
  {
   "cell_type": "code",
   "execution_count": 21,
   "metadata": {
    "scrolled": true
   },
   "outputs": [
    {
     "data": {
      "text/html": [
       "<div>\n",
       "<style>\n",
       "    .dataframe thead tr:only-child th {\n",
       "        text-align: right;\n",
       "    }\n",
       "\n",
       "    .dataframe thead th {\n",
       "        text-align: left;\n",
       "    }\n",
       "\n",
       "    .dataframe tbody tr th {\n",
       "        vertical-align: top;\n",
       "    }\n",
       "</style>\n",
       "<table border=\"1\" class=\"dataframe\">\n",
       "  <thead>\n",
       "    <tr style=\"text-align: right;\">\n",
       "      <th></th>\n",
       "      <th></th>\n",
       "      <th>rating</th>\n",
       "    </tr>\n",
       "    <tr>\n",
       "      <th>title</th>\n",
       "      <th>gender</th>\n",
       "      <th></th>\n",
       "    </tr>\n",
       "  </thead>\n",
       "  <tbody>\n",
       "    <tr>\n",
       "      <th>Angela (1995)</th>\n",
       "      <th>M</th>\n",
       "      <td>5.000000</td>\n",
       "    </tr>\n",
       "    <tr>\n",
       "      <th>Gate of Heavenly Peace, The (1995)</th>\n",
       "      <th>M</th>\n",
       "      <td>5.000000</td>\n",
       "    </tr>\n",
       "    <tr>\n",
       "      <th>Ulysses (Ulisse) (1954)</th>\n",
       "      <th>M</th>\n",
       "      <td>5.000000</td>\n",
       "    </tr>\n",
       "    <tr>\n",
       "      <th>Smashing Time (1967)</th>\n",
       "      <th>M</th>\n",
       "      <td>5.000000</td>\n",
       "    </tr>\n",
       "    <tr>\n",
       "      <th>Small Wonders (1996)</th>\n",
       "      <th>M</th>\n",
       "      <td>5.000000</td>\n",
       "    </tr>\n",
       "    <tr>\n",
       "      <th>Schlafes Bruder (Brother of Sleep) (1995)</th>\n",
       "      <th>M</th>\n",
       "      <td>5.000000</td>\n",
       "    </tr>\n",
       "    <tr>\n",
       "      <th>Lured (1947)</th>\n",
       "      <th>M</th>\n",
       "      <td>5.000000</td>\n",
       "    </tr>\n",
       "    <tr>\n",
       "      <th>Follow the Bitch (1998)</th>\n",
       "      <th>M</th>\n",
       "      <td>5.000000</td>\n",
       "    </tr>\n",
       "    <tr>\n",
       "      <th>Dangerous Game (1993)</th>\n",
       "      <th>M</th>\n",
       "      <td>5.000000</td>\n",
       "    </tr>\n",
       "    <tr>\n",
       "      <th>Bells, The (1926)</th>\n",
       "      <th>M</th>\n",
       "      <td>5.000000</td>\n",
       "    </tr>\n",
       "    <tr>\n",
       "      <th>Baby, The (1973)</th>\n",
       "      <th>M</th>\n",
       "      <td>5.000000</td>\n",
       "    </tr>\n",
       "    <tr>\n",
       "      <th>Time of the Gypsies (Dom za vesanje) (1989)</th>\n",
       "      <th>M</th>\n",
       "      <td>4.833333</td>\n",
       "    </tr>\n",
       "    <tr>\n",
       "      <th>I Am Cuba (Soy Cuba/Ya Kuba) (1964)</th>\n",
       "      <th>M</th>\n",
       "      <td>4.750000</td>\n",
       "    </tr>\n",
       "    <tr>\n",
       "      <th>Lamerica (1994)</th>\n",
       "      <th>M</th>\n",
       "      <td>4.666667</td>\n",
       "    </tr>\n",
       "    <tr>\n",
       "      <th>Window to Paris (1994)</th>\n",
       "      <th>M</th>\n",
       "      <td>4.666667</td>\n",
       "    </tr>\n",
       "    <tr>\n",
       "      <th>Sanjuro (1962)</th>\n",
       "      <th>M</th>\n",
       "      <td>4.639344</td>\n",
       "    </tr>\n",
       "    <tr>\n",
       "      <th>Apple, The (Sib) (1998)</th>\n",
       "      <th>M</th>\n",
       "      <td>4.600000</td>\n",
       "    </tr>\n",
       "    <tr>\n",
       "      <th>For All Mankind (1989)</th>\n",
       "      <th>M</th>\n",
       "      <td>4.583333</td>\n",
       "    </tr>\n",
       "    <tr>\n",
       "      <th>Godfather, The (1972)</th>\n",
       "      <th>M</th>\n",
       "      <td>4.583333</td>\n",
       "    </tr>\n",
       "    <tr>\n",
       "      <th>Seven Samurai (The Magnificent Seven) (Shichinin no samurai) (1954)</th>\n",
       "      <th>M</th>\n",
       "      <td>4.576628</td>\n",
       "    </tr>\n",
       "    <tr>\n",
       "      <th>Shawshank Redemption, The (1994)</th>\n",
       "      <th>M</th>\n",
       "      <td>4.560625</td>\n",
       "    </tr>\n",
       "    <tr>\n",
       "      <th>Raiders of the Lost Ark (1981)</th>\n",
       "      <th>M</th>\n",
       "      <td>4.520597</td>\n",
       "    </tr>\n",
       "    <tr>\n",
       "      <th>Usual Suspects, The (1995)</th>\n",
       "      <th>M</th>\n",
       "      <td>4.518248</td>\n",
       "    </tr>\n",
       "  </tbody>\n",
       "</table>\n",
       "</div>"
      ],
      "text/plain": [
       "                                                             rating\n",
       "title                                              gender          \n",
       "Angela (1995)                                      M       5.000000\n",
       "Gate of Heavenly Peace, The (1995)                 M       5.000000\n",
       "Ulysses (Ulisse) (1954)                            M       5.000000\n",
       "Smashing Time (1967)                               M       5.000000\n",
       "Small Wonders (1996)                               M       5.000000\n",
       "Schlafes Bruder (Brother of Sleep) (1995)          M       5.000000\n",
       "Lured (1947)                                       M       5.000000\n",
       "Follow the Bitch (1998)                            M       5.000000\n",
       "Dangerous Game (1993)                              M       5.000000\n",
       "Bells, The (1926)                                  M       5.000000\n",
       "Baby, The (1973)                                   M       5.000000\n",
       "Time of the Gypsies (Dom za vesanje) (1989)        M       4.833333\n",
       "I Am Cuba (Soy Cuba/Ya Kuba) (1964)                M       4.750000\n",
       "Lamerica (1994)                                    M       4.666667\n",
       "Window to Paris (1994)                             M       4.666667\n",
       "Sanjuro (1962)                                     M       4.639344\n",
       "Apple, The (Sib) (1998)                            M       4.600000\n",
       "For All Mankind (1989)                             M       4.583333\n",
       "Godfather, The (1972)                              M       4.583333\n",
       "Seven Samurai (The Magnificent Seven) (Shichini... M       4.576628\n",
       "Shawshank Redemption, The (1994)                   M       4.560625\n",
       "Raiders of the Lost Ark (1981)                     M       4.520597\n",
       "Usual Suspects, The (1995)                         M       4.518248"
      ]
     },
     "execution_count": 21,
     "metadata": {},
     "output_type": "execute_result"
    }
   ],
   "source": [
    "# create pivot table for movie titles with rating by MEN greater than 4.5\n",
    "men_greater_than_45 = men_avg_ratings.query('rating > 4.5')\n",
    "# list the movies with avg rating by MEN greater than 4.5\n",
    "men_greater_than_45.sort_values(by='rating', ascending=False)"
   ]
  },
  {
   "cell_type": "code",
   "execution_count": 22,
   "metadata": {
    "scrolled": true
   },
   "outputs": [
    {
     "data": {
      "text/plain": [
       "23"
      ]
     },
     "execution_count": 22,
     "metadata": {},
     "output_type": "execute_result"
    }
   ],
   "source": [
    "# Answer the question: How many movies have an average rating over 4.5 among men?\n",
    "len(men_greater_than_45.index)"
   ]
  },
  {
   "cell_type": "markdown",
   "metadata": {},
   "source": [
    "Q: How many movies have an average rating over 4.5 among men?\n",
    "===\n",
    "A: 23\n",
    "==="
   ]
  },
  {
   "cell_type": "markdown",
   "metadata": {},
   "source": [
    "---"
   ]
  },
  {
   "cell_type": "markdown",
   "metadata": {},
   "source": [
    "Start code for: How many movies have an average rating over 4.5 among women?\n",
    "==="
   ]
  },
  {
   "cell_type": "code",
   "execution_count": 23,
   "metadata": {
    "collapsed": true
   },
   "outputs": [],
   "source": [
    "# How many movies have an average rating over 4.5 among women?\n",
    "# create dataframe where gender = F\n",
    "women_ratings = merged_data.loc[merged_data.gender == 'F']"
   ]
  },
  {
   "cell_type": "code",
   "execution_count": 24,
   "metadata": {},
   "outputs": [
    {
     "data": {
      "text/html": [
       "<div>\n",
       "<style>\n",
       "    .dataframe thead tr:only-child th {\n",
       "        text-align: right;\n",
       "    }\n",
       "\n",
       "    .dataframe thead th {\n",
       "        text-align: left;\n",
       "    }\n",
       "\n",
       "    .dataframe tbody tr th {\n",
       "        vertical-align: top;\n",
       "    }\n",
       "</style>\n",
       "<table border=\"1\" class=\"dataframe\">\n",
       "  <thead>\n",
       "    <tr style=\"text-align: right;\">\n",
       "      <th></th>\n",
       "      <th>user_id</th>\n",
       "      <th>movie_id</th>\n",
       "      <th>rating</th>\n",
       "      <th>timestamp</th>\n",
       "      <th>gender</th>\n",
       "      <th>age</th>\n",
       "      <th>occupation</th>\n",
       "      <th>zip</th>\n",
       "      <th>title</th>\n",
       "      <th>genres</th>\n",
       "    </tr>\n",
       "  </thead>\n",
       "  <tbody>\n",
       "    <tr>\n",
       "      <th>0</th>\n",
       "      <td>1</td>\n",
       "      <td>1193</td>\n",
       "      <td>5</td>\n",
       "      <td>978300760</td>\n",
       "      <td>F</td>\n",
       "      <td>1</td>\n",
       "      <td>10</td>\n",
       "      <td>48067</td>\n",
       "      <td>One Flew Over the Cuckoo's Nest (1975)</td>\n",
       "      <td>Drama</td>\n",
       "    </tr>\n",
       "    <tr>\n",
       "      <th>5</th>\n",
       "      <td>18</td>\n",
       "      <td>1193</td>\n",
       "      <td>4</td>\n",
       "      <td>978156168</td>\n",
       "      <td>F</td>\n",
       "      <td>18</td>\n",
       "      <td>3</td>\n",
       "      <td>95825</td>\n",
       "      <td>One Flew Over the Cuckoo's Nest (1975)</td>\n",
       "      <td>Drama</td>\n",
       "    </tr>\n",
       "    <tr>\n",
       "      <th>7</th>\n",
       "      <td>24</td>\n",
       "      <td>1193</td>\n",
       "      <td>5</td>\n",
       "      <td>978136709</td>\n",
       "      <td>F</td>\n",
       "      <td>25</td>\n",
       "      <td>7</td>\n",
       "      <td>10023</td>\n",
       "      <td>One Flew Over the Cuckoo's Nest (1975)</td>\n",
       "      <td>Drama</td>\n",
       "    </tr>\n",
       "    <tr>\n",
       "      <th>8</th>\n",
       "      <td>28</td>\n",
       "      <td>1193</td>\n",
       "      <td>3</td>\n",
       "      <td>978125194</td>\n",
       "      <td>F</td>\n",
       "      <td>25</td>\n",
       "      <td>1</td>\n",
       "      <td>14607</td>\n",
       "      <td>One Flew Over the Cuckoo's Nest (1975)</td>\n",
       "      <td>Drama</td>\n",
       "    </tr>\n",
       "    <tr>\n",
       "      <th>19</th>\n",
       "      <td>59</td>\n",
       "      <td>1193</td>\n",
       "      <td>4</td>\n",
       "      <td>977934292</td>\n",
       "      <td>F</td>\n",
       "      <td>50</td>\n",
       "      <td>1</td>\n",
       "      <td>55413</td>\n",
       "      <td>One Flew Over the Cuckoo's Nest (1975)</td>\n",
       "      <td>Drama</td>\n",
       "    </tr>\n",
       "  </tbody>\n",
       "</table>\n",
       "</div>"
      ],
      "text/plain": [
       "    user_id  movie_id  rating  timestamp gender  age  occupation    zip  \\\n",
       "0         1      1193       5  978300760      F    1          10  48067   \n",
       "5        18      1193       4  978156168      F   18           3  95825   \n",
       "7        24      1193       5  978136709      F   25           7  10023   \n",
       "8        28      1193       3  978125194      F   25           1  14607   \n",
       "19       59      1193       4  977934292      F   50           1  55413   \n",
       "\n",
       "                                     title genres  \n",
       "0   One Flew Over the Cuckoo's Nest (1975)  Drama  \n",
       "5   One Flew Over the Cuckoo's Nest (1975)  Drama  \n",
       "7   One Flew Over the Cuckoo's Nest (1975)  Drama  \n",
       "8   One Flew Over the Cuckoo's Nest (1975)  Drama  \n",
       "19  One Flew Over the Cuckoo's Nest (1975)  Drama  "
      ]
     },
     "execution_count": 24,
     "metadata": {},
     "output_type": "execute_result"
    }
   ],
   "source": [
    "# verify dataframe contains ratings only for gender = F by viewing first 5 rows\n",
    "women_ratings.head()"
   ]
  },
  {
   "cell_type": "code",
   "execution_count": 25,
   "metadata": {
    "collapsed": true
   },
   "outputs": [],
   "source": [
    "# create pivot table with ratings by WOMEN for all movies\n",
    "women_avg_ratings = pd.pivot_table(women_ratings,index=['title','gender'],values=['rating'],aggfunc='mean')"
   ]
  },
  {
   "cell_type": "code",
   "execution_count": 26,
   "metadata": {},
   "outputs": [
    {
     "data": {
      "text/html": [
       "<div>\n",
       "<style>\n",
       "    .dataframe thead tr:only-child th {\n",
       "        text-align: right;\n",
       "    }\n",
       "\n",
       "    .dataframe thead th {\n",
       "        text-align: left;\n",
       "    }\n",
       "\n",
       "    .dataframe tbody tr th {\n",
       "        vertical-align: top;\n",
       "    }\n",
       "</style>\n",
       "<table border=\"1\" class=\"dataframe\">\n",
       "  <thead>\n",
       "    <tr style=\"text-align: right;\">\n",
       "      <th></th>\n",
       "      <th></th>\n",
       "      <th>rating</th>\n",
       "    </tr>\n",
       "    <tr>\n",
       "      <th>title</th>\n",
       "      <th>gender</th>\n",
       "      <th></th>\n",
       "    </tr>\n",
       "  </thead>\n",
       "  <tbody>\n",
       "    <tr>\n",
       "      <th>$1,000,000 Duck (1971)</th>\n",
       "      <th>F</th>\n",
       "      <td>3.375000</td>\n",
       "    </tr>\n",
       "    <tr>\n",
       "      <th>'Night Mother (1986)</th>\n",
       "      <th>F</th>\n",
       "      <td>3.388889</td>\n",
       "    </tr>\n",
       "    <tr>\n",
       "      <th>'Til There Was You (1997)</th>\n",
       "      <th>F</th>\n",
       "      <td>2.675676</td>\n",
       "    </tr>\n",
       "    <tr>\n",
       "      <th>'burbs, The (1989)</th>\n",
       "      <th>F</th>\n",
       "      <td>2.793478</td>\n",
       "    </tr>\n",
       "    <tr>\n",
       "      <th>...And Justice for All (1979)</th>\n",
       "      <th>F</th>\n",
       "      <td>3.828571</td>\n",
       "    </tr>\n",
       "  </tbody>\n",
       "</table>\n",
       "</div>"
      ],
      "text/plain": [
       "                                        rating\n",
       "title                         gender          \n",
       "$1,000,000 Duck (1971)        F       3.375000\n",
       "'Night Mother (1986)          F       3.388889\n",
       "'Til There Was You (1997)     F       2.675676\n",
       "'burbs, The (1989)            F       2.793478\n",
       "...And Justice for All (1979) F       3.828571"
      ]
     },
     "execution_count": 26,
     "metadata": {},
     "output_type": "execute_result"
    }
   ],
   "source": [
    "# verify pivot table contains avg rating by WOMEN for all movies\n",
    "women_avg_ratings.head()"
   ]
  },
  {
   "cell_type": "code",
   "execution_count": 27,
   "metadata": {
    "scrolled": true
   },
   "outputs": [
    {
     "data": {
      "text/html": [
       "<div>\n",
       "<style>\n",
       "    .dataframe thead tr:only-child th {\n",
       "        text-align: right;\n",
       "    }\n",
       "\n",
       "    .dataframe thead th {\n",
       "        text-align: left;\n",
       "    }\n",
       "\n",
       "    .dataframe tbody tr th {\n",
       "        vertical-align: top;\n",
       "    }\n",
       "</style>\n",
       "<table border=\"1\" class=\"dataframe\">\n",
       "  <thead>\n",
       "    <tr style=\"text-align: right;\">\n",
       "      <th></th>\n",
       "      <th></th>\n",
       "      <th>rating</th>\n",
       "    </tr>\n",
       "    <tr>\n",
       "      <th>title</th>\n",
       "      <th>gender</th>\n",
       "      <th></th>\n",
       "    </tr>\n",
       "  </thead>\n",
       "  <tbody>\n",
       "    <tr>\n",
       "      <th>24 7: Twenty Four Seven (1997)</th>\n",
       "      <th>F</th>\n",
       "      <td>5.000000</td>\n",
       "    </tr>\n",
       "    <tr>\n",
       "      <th>Dancemaker (1998)</th>\n",
       "      <th>F</th>\n",
       "      <td>5.000000</td>\n",
       "    </tr>\n",
       "    <tr>\n",
       "      <th>Raw Deal (1948)</th>\n",
       "      <th>F</th>\n",
       "      <td>5.000000</td>\n",
       "    </tr>\n",
       "    <tr>\n",
       "      <th>Prisoner of the Mountains (Kavkazsky Plennik) (1996)</th>\n",
       "      <th>F</th>\n",
       "      <td>5.000000</td>\n",
       "    </tr>\n",
       "    <tr>\n",
       "      <th>Song of Freedom (1936)</th>\n",
       "      <th>F</th>\n",
       "      <td>5.000000</td>\n",
       "    </tr>\n",
       "    <tr>\n",
       "      <th>Other Side of Sunday, The (Søndagsengler) (1996)</th>\n",
       "      <th>F</th>\n",
       "      <td>5.000000</td>\n",
       "    </tr>\n",
       "    <tr>\n",
       "      <th>One Little Indian (1973)</th>\n",
       "      <th>F</th>\n",
       "      <td>5.000000</td>\n",
       "    </tr>\n",
       "    <tr>\n",
       "      <th>Message to Love: The Isle of Wight Festival (1996)</th>\n",
       "      <th>F</th>\n",
       "      <td>5.000000</td>\n",
       "    </tr>\n",
       "    <tr>\n",
       "      <th>Lamerica (1994)</th>\n",
       "      <th>F</th>\n",
       "      <td>5.000000</td>\n",
       "    </tr>\n",
       "    <tr>\n",
       "      <th>I Am Cuba (Soy Cuba/Ya Kuba) (1964)</th>\n",
       "      <th>F</th>\n",
       "      <td>5.000000</td>\n",
       "    </tr>\n",
       "    <tr>\n",
       "      <th>Twice Upon a Yesterday (1998)</th>\n",
       "      <th>F</th>\n",
       "      <td>5.000000</td>\n",
       "    </tr>\n",
       "    <tr>\n",
       "      <th>Woman of Paris, A (1923)</th>\n",
       "      <th>F</th>\n",
       "      <td>5.000000</td>\n",
       "    </tr>\n",
       "    <tr>\n",
       "      <th>Gate of Heavenly Peace, The (1995)</th>\n",
       "      <th>F</th>\n",
       "      <td>5.000000</td>\n",
       "    </tr>\n",
       "    <tr>\n",
       "      <th>Gambler, The (A Játékos) (1997)</th>\n",
       "      <th>F</th>\n",
       "      <td>5.000000</td>\n",
       "    </tr>\n",
       "    <tr>\n",
       "      <th>For the Moment (1994)</th>\n",
       "      <th>F</th>\n",
       "      <td>5.000000</td>\n",
       "    </tr>\n",
       "    <tr>\n",
       "      <th>Skipped Parts (2000)</th>\n",
       "      <th>F</th>\n",
       "      <td>5.000000</td>\n",
       "    </tr>\n",
       "    <tr>\n",
       "      <th>Saltmen of Tibet, The (1997)</th>\n",
       "      <th>F</th>\n",
       "      <td>5.000000</td>\n",
       "    </tr>\n",
       "    <tr>\n",
       "      <th>Belly (1998)</th>\n",
       "      <th>F</th>\n",
       "      <td>5.000000</td>\n",
       "    </tr>\n",
       "    <tr>\n",
       "      <th>Big Combo, The (1955)</th>\n",
       "      <th>F</th>\n",
       "      <td>5.000000</td>\n",
       "    </tr>\n",
       "    <tr>\n",
       "      <th>Country Life (1994)</th>\n",
       "      <th>F</th>\n",
       "      <td>5.000000</td>\n",
       "    </tr>\n",
       "    <tr>\n",
       "      <th>Coldblooded (1995)</th>\n",
       "      <th>F</th>\n",
       "      <td>5.000000</td>\n",
       "    </tr>\n",
       "    <tr>\n",
       "      <th>Ayn Rand: A Sense of Life (1997)</th>\n",
       "      <th>F</th>\n",
       "      <td>5.000000</td>\n",
       "    </tr>\n",
       "    <tr>\n",
       "      <th>Clean Slate (Coup de Torchon) (1981)</th>\n",
       "      <th>F</th>\n",
       "      <td>5.000000</td>\n",
       "    </tr>\n",
       "    <tr>\n",
       "      <th>Brother, Can You Spare a Dime? (1975)</th>\n",
       "      <th>F</th>\n",
       "      <td>5.000000</td>\n",
       "    </tr>\n",
       "    <tr>\n",
       "      <th>Bittersweet Motel (2000)</th>\n",
       "      <th>F</th>\n",
       "      <td>5.000000</td>\n",
       "    </tr>\n",
       "    <tr>\n",
       "      <th>Ballad of Narayama, The (Narayama Bushiko) (1958)</th>\n",
       "      <th>F</th>\n",
       "      <td>5.000000</td>\n",
       "    </tr>\n",
       "    <tr>\n",
       "      <th>Battling Butler (1926)</th>\n",
       "      <th>F</th>\n",
       "      <td>5.000000</td>\n",
       "    </tr>\n",
       "    <tr>\n",
       "      <th>World of Apu, The (Apur Sansar) (1959)</th>\n",
       "      <th>F</th>\n",
       "      <td>4.842105</td>\n",
       "    </tr>\n",
       "    <tr>\n",
       "      <th>Hearts and Minds (1996)</th>\n",
       "      <th>F</th>\n",
       "      <td>4.833333</td>\n",
       "    </tr>\n",
       "    <tr>\n",
       "      <th>Apple, The (Sib) (1998)</th>\n",
       "      <th>F</th>\n",
       "      <td>4.750000</td>\n",
       "    </tr>\n",
       "    <tr>\n",
       "      <th>Rain (1932)</th>\n",
       "      <th>F</th>\n",
       "      <td>4.750000</td>\n",
       "    </tr>\n",
       "    <tr>\n",
       "      <th>Marcello Mastroianni: I Remember Yes, I Remember (1997)</th>\n",
       "      <th>F</th>\n",
       "      <td>4.666667</td>\n",
       "    </tr>\n",
       "    <tr>\n",
       "      <th>Among Giants (1998)</th>\n",
       "      <th>F</th>\n",
       "      <td>4.666667</td>\n",
       "    </tr>\n",
       "    <tr>\n",
       "      <th>Panther (1995)</th>\n",
       "      <th>F</th>\n",
       "      <td>4.666667</td>\n",
       "    </tr>\n",
       "    <tr>\n",
       "      <th>Aparajito (1956)</th>\n",
       "      <th>F</th>\n",
       "      <td>4.666667</td>\n",
       "    </tr>\n",
       "    <tr>\n",
       "      <th>Close Shave, A (1995)</th>\n",
       "      <th>F</th>\n",
       "      <td>4.644444</td>\n",
       "    </tr>\n",
       "    <tr>\n",
       "      <th>Firelight (1997)</th>\n",
       "      <th>F</th>\n",
       "      <td>4.600000</td>\n",
       "    </tr>\n",
       "    <tr>\n",
       "      <th>Before the Rain (Pred dozhdot) (1994)</th>\n",
       "      <th>F</th>\n",
       "      <td>4.600000</td>\n",
       "    </tr>\n",
       "    <tr>\n",
       "      <th>Flower of My Secret, The (La Flor de Mi Secreto) (1995)</th>\n",
       "      <th>F</th>\n",
       "      <td>4.600000</td>\n",
       "    </tr>\n",
       "    <tr>\n",
       "      <th>Wrong Trousers, The (1993)</th>\n",
       "      <th>F</th>\n",
       "      <td>4.588235</td>\n",
       "    </tr>\n",
       "    <tr>\n",
       "      <th>General, The (1927)</th>\n",
       "      <th>F</th>\n",
       "      <td>4.575758</td>\n",
       "    </tr>\n",
       "    <tr>\n",
       "      <th>Sunset Blvd. (a.k.a. Sunset Boulevard) (1950)</th>\n",
       "      <th>F</th>\n",
       "      <td>4.572650</td>\n",
       "    </tr>\n",
       "    <tr>\n",
       "      <th>Pather Panchali (1955)</th>\n",
       "      <th>F</th>\n",
       "      <td>4.571429</td>\n",
       "    </tr>\n",
       "    <tr>\n",
       "      <th>Wallace &amp; Gromit: The Best of Aardman Animation (1996)</th>\n",
       "      <th>F</th>\n",
       "      <td>4.563107</td>\n",
       "    </tr>\n",
       "    <tr>\n",
       "      <th>Schindler's List (1993)</th>\n",
       "      <th>F</th>\n",
       "      <td>4.562602</td>\n",
       "    </tr>\n",
       "    <tr>\n",
       "      <th>Grand Illusion (Grande illusion, La) (1937)</th>\n",
       "      <th>F</th>\n",
       "      <td>4.560976</td>\n",
       "    </tr>\n",
       "    <tr>\n",
       "      <th>Shawshank Redemption, The (1994)</th>\n",
       "      <th>F</th>\n",
       "      <td>4.539075</td>\n",
       "    </tr>\n",
       "    <tr>\n",
       "      <th>Grand Day Out, A (1992)</th>\n",
       "      <th>F</th>\n",
       "      <td>4.537879</td>\n",
       "    </tr>\n",
       "    <tr>\n",
       "      <th>To Kill a Mockingbird (1962)</th>\n",
       "      <th>F</th>\n",
       "      <td>4.536667</td>\n",
       "    </tr>\n",
       "    <tr>\n",
       "      <th>Creature Comforts (1990)</th>\n",
       "      <th>F</th>\n",
       "      <td>4.513889</td>\n",
       "    </tr>\n",
       "    <tr>\n",
       "      <th>Usual Suspects, The (1995)</th>\n",
       "      <th>F</th>\n",
       "      <td>4.513317</td>\n",
       "    </tr>\n",
       "  </tbody>\n",
       "</table>\n",
       "</div>"
      ],
      "text/plain": [
       "                                                             rating\n",
       "title                                              gender          \n",
       "24 7: Twenty Four Seven (1997)                     F       5.000000\n",
       "Dancemaker (1998)                                  F       5.000000\n",
       "Raw Deal (1948)                                    F       5.000000\n",
       "Prisoner of the Mountains (Kavkazsky Plennik) (... F       5.000000\n",
       "Song of Freedom (1936)                             F       5.000000\n",
       "Other Side of Sunday, The (Søndagsengler) (1996)   F       5.000000\n",
       "One Little Indian (1973)                           F       5.000000\n",
       "Message to Love: The Isle of Wight Festival (1996) F       5.000000\n",
       "Lamerica (1994)                                    F       5.000000\n",
       "I Am Cuba (Soy Cuba/Ya Kuba) (1964)                F       5.000000\n",
       "Twice Upon a Yesterday (1998)                      F       5.000000\n",
       "Woman of Paris, A (1923)                           F       5.000000\n",
       "Gate of Heavenly Peace, The (1995)                 F       5.000000\n",
       "Gambler, The (A Játékos) (1997)                    F       5.000000\n",
       "For the Moment (1994)                              F       5.000000\n",
       "Skipped Parts (2000)                               F       5.000000\n",
       "Saltmen of Tibet, The (1997)                       F       5.000000\n",
       "Belly (1998)                                       F       5.000000\n",
       "Big Combo, The (1955)                              F       5.000000\n",
       "Country Life (1994)                                F       5.000000\n",
       "Coldblooded (1995)                                 F       5.000000\n",
       "Ayn Rand: A Sense of Life (1997)                   F       5.000000\n",
       "Clean Slate (Coup de Torchon) (1981)               F       5.000000\n",
       "Brother, Can You Spare a Dime? (1975)              F       5.000000\n",
       "Bittersweet Motel (2000)                           F       5.000000\n",
       "Ballad of Narayama, The (Narayama Bushiko) (1958)  F       5.000000\n",
       "Battling Butler (1926)                             F       5.000000\n",
       "World of Apu, The (Apur Sansar) (1959)             F       4.842105\n",
       "Hearts and Minds (1996)                            F       4.833333\n",
       "Apple, The (Sib) (1998)                            F       4.750000\n",
       "Rain (1932)                                        F       4.750000\n",
       "Marcello Mastroianni: I Remember Yes, I Remembe... F       4.666667\n",
       "Among Giants (1998)                                F       4.666667\n",
       "Panther (1995)                                     F       4.666667\n",
       "Aparajito (1956)                                   F       4.666667\n",
       "Close Shave, A (1995)                              F       4.644444\n",
       "Firelight (1997)                                   F       4.600000\n",
       "Before the Rain (Pred dozhdot) (1994)              F       4.600000\n",
       "Flower of My Secret, The (La Flor de Mi Secreto... F       4.600000\n",
       "Wrong Trousers, The (1993)                         F       4.588235\n",
       "General, The (1927)                                F       4.575758\n",
       "Sunset Blvd. (a.k.a. Sunset Boulevard) (1950)      F       4.572650\n",
       "Pather Panchali (1955)                             F       4.571429\n",
       "Wallace & Gromit: The Best of Aardman Animation... F       4.563107\n",
       "Schindler's List (1993)                            F       4.562602\n",
       "Grand Illusion (Grande illusion, La) (1937)        F       4.560976\n",
       "Shawshank Redemption, The (1994)                   F       4.539075\n",
       "Grand Day Out, A (1992)                            F       4.537879\n",
       "To Kill a Mockingbird (1962)                       F       4.536667\n",
       "Creature Comforts (1990)                           F       4.513889\n",
       "Usual Suspects, The (1995)                         F       4.513317"
      ]
     },
     "execution_count": 27,
     "metadata": {},
     "output_type": "execute_result"
    }
   ],
   "source": [
    "# create pivot table for movie titles with rating by WOMEN greater than 4.5\n",
    "women_greater_than_45 = women_avg_ratings.query('rating > 4.5')\n",
    "# list the movies with avg rating by WOMEN greater than 4.5\n",
    "women_greater_than_45.sort_values(by='rating', ascending=False)"
   ]
  },
  {
   "cell_type": "code",
   "execution_count": 28,
   "metadata": {},
   "outputs": [
    {
     "data": {
      "text/plain": [
       "51"
      ]
     },
     "execution_count": 28,
     "metadata": {},
     "output_type": "execute_result"
    }
   ],
   "source": [
    "# Answer the question: How many movies have an average rating over 4.5 among women?\n",
    "len(women_greater_than_45.index)"
   ]
  },
  {
   "cell_type": "markdown",
   "metadata": {},
   "source": [
    "Q: How many movies have an average rating over 4.5 among women?\n",
    "===\n",
    "A: 51\n",
    "==="
   ]
  },
  {
   "cell_type": "markdown",
   "metadata": {},
   "source": [
    "---"
   ]
  },
  {
   "cell_type": "markdown",
   "metadata": {},
   "source": [
    "Start code for: How many movies have an median rating over 4.5 among men over age 30?\n",
    "==="
   ]
  },
  {
   "cell_type": "code",
   "execution_count": 29,
   "metadata": {
    "collapsed": true
   },
   "outputs": [],
   "source": [
    "# How many movies have an median rating over 4.5 among men over age 30?\n",
    "# create dataframe with gender = M and age > 30\n",
    "men_over_30_ratings = merged_data.loc[merged_data.gender == 'M']\n",
    "men_ovr_30_ratings = men_over_30_ratings.loc[men_over_30_ratings.age > 30]"
   ]
  },
  {
   "cell_type": "code",
   "execution_count": 30,
   "metadata": {},
   "outputs": [
    {
     "data": {
      "text/html": [
       "<div>\n",
       "<style>\n",
       "    .dataframe thead tr:only-child th {\n",
       "        text-align: right;\n",
       "    }\n",
       "\n",
       "    .dataframe thead th {\n",
       "        text-align: left;\n",
       "    }\n",
       "\n",
       "    .dataframe tbody tr th {\n",
       "        vertical-align: top;\n",
       "    }\n",
       "</style>\n",
       "<table border=\"1\" class=\"dataframe\">\n",
       "  <thead>\n",
       "    <tr style=\"text-align: right;\">\n",
       "      <th></th>\n",
       "      <th>user_id</th>\n",
       "      <th>movie_id</th>\n",
       "      <th>rating</th>\n",
       "      <th>timestamp</th>\n",
       "      <th>gender</th>\n",
       "      <th>age</th>\n",
       "      <th>occupation</th>\n",
       "      <th>zip</th>\n",
       "      <th>title</th>\n",
       "      <th>genres</th>\n",
       "    </tr>\n",
       "  </thead>\n",
       "  <tbody>\n",
       "    <tr>\n",
       "      <th>1</th>\n",
       "      <td>2</td>\n",
       "      <td>1193</td>\n",
       "      <td>5</td>\n",
       "      <td>978298413</td>\n",
       "      <td>M</td>\n",
       "      <td>56</td>\n",
       "      <td>16</td>\n",
       "      <td>70072</td>\n",
       "      <td>One Flew Over the Cuckoo's Nest (1975)</td>\n",
       "      <td>Drama</td>\n",
       "    </tr>\n",
       "    <tr>\n",
       "      <th>4</th>\n",
       "      <td>17</td>\n",
       "      <td>1193</td>\n",
       "      <td>5</td>\n",
       "      <td>978158471</td>\n",
       "      <td>M</td>\n",
       "      <td>50</td>\n",
       "      <td>1</td>\n",
       "      <td>95350</td>\n",
       "      <td>One Flew Over the Cuckoo's Nest (1975)</td>\n",
       "      <td>Drama</td>\n",
       "    </tr>\n",
       "    <tr>\n",
       "      <th>9</th>\n",
       "      <td>33</td>\n",
       "      <td>1193</td>\n",
       "      <td>5</td>\n",
       "      <td>978557765</td>\n",
       "      <td>M</td>\n",
       "      <td>45</td>\n",
       "      <td>3</td>\n",
       "      <td>55421</td>\n",
       "      <td>One Flew Over the Cuckoo's Nest (1975)</td>\n",
       "      <td>Drama</td>\n",
       "    </tr>\n",
       "    <tr>\n",
       "      <th>12</th>\n",
       "      <td>44</td>\n",
       "      <td>1193</td>\n",
       "      <td>4</td>\n",
       "      <td>978018995</td>\n",
       "      <td>M</td>\n",
       "      <td>45</td>\n",
       "      <td>17</td>\n",
       "      <td>98052</td>\n",
       "      <td>One Flew Over the Cuckoo's Nest (1975)</td>\n",
       "      <td>Drama</td>\n",
       "    </tr>\n",
       "    <tr>\n",
       "      <th>17</th>\n",
       "      <td>54</td>\n",
       "      <td>1193</td>\n",
       "      <td>5</td>\n",
       "      <td>977944039</td>\n",
       "      <td>M</td>\n",
       "      <td>50</td>\n",
       "      <td>1</td>\n",
       "      <td>56723</td>\n",
       "      <td>One Flew Over the Cuckoo's Nest (1975)</td>\n",
       "      <td>Drama</td>\n",
       "    </tr>\n",
       "  </tbody>\n",
       "</table>\n",
       "</div>"
      ],
      "text/plain": [
       "    user_id  movie_id  rating  timestamp gender  age  occupation    zip  \\\n",
       "1         2      1193       5  978298413      M   56          16  70072   \n",
       "4        17      1193       5  978158471      M   50           1  95350   \n",
       "9        33      1193       5  978557765      M   45           3  55421   \n",
       "12       44      1193       4  978018995      M   45          17  98052   \n",
       "17       54      1193       5  977944039      M   50           1  56723   \n",
       "\n",
       "                                     title genres  \n",
       "1   One Flew Over the Cuckoo's Nest (1975)  Drama  \n",
       "4   One Flew Over the Cuckoo's Nest (1975)  Drama  \n",
       "9   One Flew Over the Cuckoo's Nest (1975)  Drama  \n",
       "12  One Flew Over the Cuckoo's Nest (1975)  Drama  \n",
       "17  One Flew Over the Cuckoo's Nest (1975)  Drama  "
      ]
     },
     "execution_count": 30,
     "metadata": {},
     "output_type": "execute_result"
    }
   ],
   "source": [
    "# verify dataframe contains MEN over 30 ratings only by viewing first 5 rows\n",
    "men_ovr_30_ratings.head()"
   ]
  },
  {
   "cell_type": "code",
   "execution_count": 31,
   "metadata": {
    "collapsed": true
   },
   "outputs": [],
   "source": [
    "# create pivot table with median ratings by MEN over 30 for all movies\n",
    "men_ovr_30_median_ratings = pd.pivot_table(men_ovr_30_ratings,index=['title','gender'],values=['rating'],aggfunc='median')"
   ]
  },
  {
   "cell_type": "code",
   "execution_count": 32,
   "metadata": {},
   "outputs": [
    {
     "data": {
      "text/html": [
       "<div>\n",
       "<style>\n",
       "    .dataframe thead tr:only-child th {\n",
       "        text-align: right;\n",
       "    }\n",
       "\n",
       "    .dataframe thead th {\n",
       "        text-align: left;\n",
       "    }\n",
       "\n",
       "    .dataframe tbody tr th {\n",
       "        vertical-align: top;\n",
       "    }\n",
       "</style>\n",
       "<table border=\"1\" class=\"dataframe\">\n",
       "  <thead>\n",
       "    <tr style=\"text-align: right;\">\n",
       "      <th></th>\n",
       "      <th></th>\n",
       "      <th>rating</th>\n",
       "    </tr>\n",
       "    <tr>\n",
       "      <th>title</th>\n",
       "      <th>gender</th>\n",
       "      <th></th>\n",
       "    </tr>\n",
       "  </thead>\n",
       "  <tbody>\n",
       "    <tr>\n",
       "      <th>$1,000,000 Duck (1971)</th>\n",
       "      <th>M</th>\n",
       "      <td>2.5</td>\n",
       "    </tr>\n",
       "    <tr>\n",
       "      <th>'Night Mother (1986)</th>\n",
       "      <th>M</th>\n",
       "      <td>3.0</td>\n",
       "    </tr>\n",
       "    <tr>\n",
       "      <th>'Til There Was You (1997)</th>\n",
       "      <th>M</th>\n",
       "      <td>2.0</td>\n",
       "    </tr>\n",
       "    <tr>\n",
       "      <th>'burbs, The (1989)</th>\n",
       "      <th>M</th>\n",
       "      <td>3.0</td>\n",
       "    </tr>\n",
       "    <tr>\n",
       "      <th>...And Justice for All (1979)</th>\n",
       "      <th>M</th>\n",
       "      <td>4.0</td>\n",
       "    </tr>\n",
       "  </tbody>\n",
       "</table>\n",
       "</div>"
      ],
      "text/plain": [
       "                                      rating\n",
       "title                         gender        \n",
       "$1,000,000 Duck (1971)        M          2.5\n",
       "'Night Mother (1986)          M          3.0\n",
       "'Til There Was You (1997)     M          2.0\n",
       "'burbs, The (1989)            M          3.0\n",
       "...And Justice for All (1979) M          4.0"
      ]
     },
     "execution_count": 32,
     "metadata": {},
     "output_type": "execute_result"
    }
   ],
   "source": [
    "# verify pivot table contains a median rating by MEN over 30 for all movies by viewing firt 5 rows\n",
    "men_ovr_30_median_ratings.head()"
   ]
  },
  {
   "cell_type": "code",
   "execution_count": 33,
   "metadata": {},
   "outputs": [
    {
     "name": "stdout",
     "output_type": "stream",
     "text": [
      "                                                           rating\n",
      "title                                              gender        \n",
      "42 Up (1998)                                       M          5.0\n",
      "All Quiet on the Western Front (1930)              M          5.0\n",
      "American Beauty (1999)                             M          5.0\n",
      "Among Giants (1998)                                M          5.0\n",
      "Angela (1995)                                      M          5.0\n",
      "Ayn Rand: A Sense of Life (1997)                   M          5.0\n",
      "Bells, The (1926)                                  M          5.0\n",
      "Bicycle Thief, The (Ladri di biciclette) (1948)    M          5.0\n",
      "Boat, The (Das Boot) (1981)                        M          5.0\n",
      "Bridge on the River Kwai, The (1957)               M          5.0\n",
      "Carmen (1984)                                      M          5.0\n",
      "Casablanca (1942)                                  M          5.0\n",
      "Chinatown (1974)                                   M          5.0\n",
      "Chushingura (1962)                                 M          5.0\n",
      "Citizen Kane (1941)                                M          5.0\n",
      "City Lights (1931)                                 M          5.0\n",
      "Close Shave, A (1995)                              M          5.0\n",
      "Conformist, The (Il Conformista) (1970)            M          5.0\n",
      "Creature Comforts (1990)                           M          5.0\n",
      "Double Indemnity (1944)                            M          5.0\n",
      "Dr. Strangelove or: How I Learned to Stop Worry... M          5.0\n",
      "Ed's Next Move (1996)                              M          5.0\n",
      "Fargo (1996)                                       M          5.0\n",
      "Firelight (1997)                                   M          5.0\n",
      "Follow the Bitch (1998)                            M          5.0\n",
      "For All Mankind (1989)                             M          5.0\n",
      "Gambler, The (A Játékos) (1997)                    M          5.0\n",
      "General, The (1927)                                M          5.0\n",
      "Godfather, The (1972)                              M          5.0\n",
      "Godfather: Part II, The (1974)                     M          5.0\n",
      "Grand Illusion (Grande illusion, La) (1937)        M          5.0\n",
      "Grapes of Wrath, The (1940)                        M          5.0\n",
      "Grateful Dead (1995)                               M          5.0\n",
      "Hearts and Minds (1996)                            M          5.0\n",
      "I Am Cuba (Soy Cuba/Ya Kuba) (1964)                M          5.0\n",
      "Inherit the Wind (1960)                            M          5.0\n",
      "It's a Wonderful Life (1946)                       M          5.0\n",
      "Jean de Florette (1986)                            M          5.0\n",
      "Jupiter's Wife (1994)                              M          5.0\n",
      "Lamerica (1994)                                    M          5.0\n",
      "Lawrence of Arabia (1962)                          M          5.0\n",
      "Lured (1947)                                       M          5.0\n",
      "Maltese Falcon, The (1941)                         M          5.0\n",
      "Manon of the Spring (Manon des sources) (1986)     M          5.0\n",
      "Modern Times (1936)                                M          5.0\n",
      "North by Northwest (1959)                          M          5.0\n",
      "One Flew Over the Cuckoo's Nest (1975)             M          5.0\n",
      "Palm Beach Story, The (1942)                       M          5.0\n",
      "Paralyzing Fear: The Story of Polio in America,... M          5.0\n",
      "Pather Panchali (1955)                             M          5.0\n",
      "Paths of Glory (1957)                              M          5.0\n",
      "Patton (1970)                                      M          5.0\n",
      "Psycho (1960)                                      M          5.0\n",
      "Raiders of the Lost Ark (1981)                     M          5.0\n",
      "Rear Window (1954)                                 M          5.0\n",
      "Return with Honor (1998)                           M          5.0\n",
      "Sanjuro (1962)                                     M          5.0\n",
      "Saving Private Ryan (1998)                         M          5.0\n",
      "Schindler's List (1993)                            M          5.0\n",
      "Schlafes Bruder (Brother of Sleep) (1995)          M          5.0\n",
      "See the Sea (Regarde la mer) (1997)                M          5.0\n",
      "Seven Chances (1925)                               M          5.0\n",
      "Seven Samurai (The Magnificent Seven) (Shichini... M          5.0\n",
      "Seventh Seal, The (Sjunde inseglet, Det) (1957)    M          5.0\n",
      "Shawshank Redemption, The (1994)                   M          5.0\n",
      "Silence of the Lambs, The (1991)                   M          5.0\n",
      "Sixth Sense, The (1999)                            M          5.0\n",
      "Small Wonders (1996)                               M          5.0\n",
      "Smashing Time (1967)                               M          5.0\n",
      "Star Wars: Episode IV - A New Hope (1977)          M          5.0\n",
      "Sunset Blvd. (a.k.a. Sunset Boulevard) (1950)      M          5.0\n",
      "Third Man, The (1949)                              M          5.0\n",
      "Tigrero: A Film That Was Never Made (1994)         M          5.0\n",
      "Time of the Gypsies (Dom za vesanje) (1989)        M          5.0\n",
      "To Kill a Mockingbird (1962)                       M          5.0\n",
      "To Live (Huozhe) (1994)                            M          5.0\n",
      "Treasure of the Sierra Madre, The (1948)           M          5.0\n",
      "Two or Three Things I Know About Her (1966)        M          5.0\n",
      "Usual Suspects, The (1995)                         M          5.0\n",
      "Vampyros Lesbos (Las Vampiras) (1970)              M          5.0\n",
      "Wallace & Gromit: The Best of Aardman Animation... M          5.0\n",
      "Window to Paris (1994)                             M          5.0\n",
      "Wizard of Oz, The (1939)                           M          5.0\n",
      "Wrong Trousers, The (1993)                         M          5.0\n",
      "Yojimbo (1961)                                     M          5.0\n",
      "Young Frankenstein (1974)                          M          5.0\n"
     ]
    }
   ],
   "source": [
    "# display movie titles with median rating, by MEN over 30, greater than 4.5\n",
    "men_ovr_30_median_grtr_than_45 = men_ovr_30_median_ratings.query('rating > 4.5')\n",
    "# list the movies with median rating, by MEN over 30, greater than 4.5\n",
    "\n",
    "pd.options.display.max_rows = 99\n",
    "\n",
    "print(men_ovr_30_median_grtr_than_45)"
   ]
  },
  {
   "cell_type": "code",
   "execution_count": 34,
   "metadata": {
    "scrolled": true
   },
   "outputs": [
    {
     "data": {
      "text/plain": [
       "86"
      ]
     },
     "execution_count": 34,
     "metadata": {},
     "output_type": "execute_result"
    }
   ],
   "source": [
    "# Answer the question: How many movies have an median rating over 4.5 among men over age 30?\n",
    "len(men_ovr_30_median_grtr_than_45.index)"
   ]
  },
  {
   "cell_type": "markdown",
   "metadata": {},
   "source": [
    "Q: How many movies have an median rating over 4.5 among men over age 30?\n",
    "===\n",
    "A: 86\n",
    "==="
   ]
  },
  {
   "cell_type": "markdown",
   "metadata": {},
   "source": [
    "---"
   ]
  },
  {
   "cell_type": "markdown",
   "metadata": {},
   "source": [
    "Start code for: How many movies have an median rating over 4.5 among women over age 30?\n",
    "==="
   ]
  },
  {
   "cell_type": "code",
   "execution_count": 35,
   "metadata": {
    "collapsed": true
   },
   "outputs": [],
   "source": [
    "# How many movies have an median rating over 4.5 among women over age 30?\n",
    "# create dataframe with gender = F and age > 30\n",
    "women_over_30_ratings = merged_data.loc[merged_data.gender == 'F']\n",
    "women_ovr_30_ratings = women_over_30_ratings.loc[women_over_30_ratings.age > 30]"
   ]
  },
  {
   "cell_type": "code",
   "execution_count": 36,
   "metadata": {},
   "outputs": [
    {
     "data": {
      "text/html": [
       "<div>\n",
       "<style>\n",
       "    .dataframe thead tr:only-child th {\n",
       "        text-align: right;\n",
       "    }\n",
       "\n",
       "    .dataframe thead th {\n",
       "        text-align: left;\n",
       "    }\n",
       "\n",
       "    .dataframe tbody tr th {\n",
       "        vertical-align: top;\n",
       "    }\n",
       "</style>\n",
       "<table border=\"1\" class=\"dataframe\">\n",
       "  <thead>\n",
       "    <tr style=\"text-align: right;\">\n",
       "      <th></th>\n",
       "      <th>user_id</th>\n",
       "      <th>movie_id</th>\n",
       "      <th>rating</th>\n",
       "      <th>timestamp</th>\n",
       "      <th>gender</th>\n",
       "      <th>age</th>\n",
       "      <th>occupation</th>\n",
       "      <th>zip</th>\n",
       "      <th>title</th>\n",
       "      <th>genres</th>\n",
       "    </tr>\n",
       "  </thead>\n",
       "  <tbody>\n",
       "    <tr>\n",
       "      <th>19</th>\n",
       "      <td>59</td>\n",
       "      <td>1193</td>\n",
       "      <td>4</td>\n",
       "      <td>977934292</td>\n",
       "      <td>F</td>\n",
       "      <td>50</td>\n",
       "      <td>1</td>\n",
       "      <td>55413</td>\n",
       "      <td>One Flew Over the Cuckoo's Nest (1975)</td>\n",
       "      <td>Drama</td>\n",
       "    </tr>\n",
       "    <tr>\n",
       "      <th>20</th>\n",
       "      <td>62</td>\n",
       "      <td>1193</td>\n",
       "      <td>4</td>\n",
       "      <td>977968584</td>\n",
       "      <td>F</td>\n",
       "      <td>35</td>\n",
       "      <td>3</td>\n",
       "      <td>98105</td>\n",
       "      <td>One Flew Over the Cuckoo's Nest (1975)</td>\n",
       "      <td>Drama</td>\n",
       "    </tr>\n",
       "    <tr>\n",
       "      <th>23</th>\n",
       "      <td>88</td>\n",
       "      <td>1193</td>\n",
       "      <td>5</td>\n",
       "      <td>977694161</td>\n",
       "      <td>F</td>\n",
       "      <td>45</td>\n",
       "      <td>1</td>\n",
       "      <td>02476</td>\n",
       "      <td>One Flew Over the Cuckoo's Nest (1975)</td>\n",
       "      <td>Drama</td>\n",
       "    </tr>\n",
       "    <tr>\n",
       "      <th>24</th>\n",
       "      <td>89</td>\n",
       "      <td>1193</td>\n",
       "      <td>5</td>\n",
       "      <td>977683596</td>\n",
       "      <td>F</td>\n",
       "      <td>56</td>\n",
       "      <td>9</td>\n",
       "      <td>85749</td>\n",
       "      <td>One Flew Over the Cuckoo's Nest (1975)</td>\n",
       "      <td>Drama</td>\n",
       "    </tr>\n",
       "    <tr>\n",
       "      <th>37</th>\n",
       "      <td>146</td>\n",
       "      <td>1193</td>\n",
       "      <td>4</td>\n",
       "      <td>979940868</td>\n",
       "      <td>F</td>\n",
       "      <td>35</td>\n",
       "      <td>20</td>\n",
       "      <td>10954</td>\n",
       "      <td>One Flew Over the Cuckoo's Nest (1975)</td>\n",
       "      <td>Drama</td>\n",
       "    </tr>\n",
       "  </tbody>\n",
       "</table>\n",
       "</div>"
      ],
      "text/plain": [
       "    user_id  movie_id  rating  timestamp gender  age  occupation    zip  \\\n",
       "19       59      1193       4  977934292      F   50           1  55413   \n",
       "20       62      1193       4  977968584      F   35           3  98105   \n",
       "23       88      1193       5  977694161      F   45           1  02476   \n",
       "24       89      1193       5  977683596      F   56           9  85749   \n",
       "37      146      1193       4  979940868      F   35          20  10954   \n",
       "\n",
       "                                     title genres  \n",
       "19  One Flew Over the Cuckoo's Nest (1975)  Drama  \n",
       "20  One Flew Over the Cuckoo's Nest (1975)  Drama  \n",
       "23  One Flew Over the Cuckoo's Nest (1975)  Drama  \n",
       "24  One Flew Over the Cuckoo's Nest (1975)  Drama  \n",
       "37  One Flew Over the Cuckoo's Nest (1975)  Drama  "
      ]
     },
     "execution_count": 36,
     "metadata": {},
     "output_type": "execute_result"
    }
   ],
   "source": [
    "# verify dataframe contains WOMEN over 30 ratings only by viewing first 5 rows\n",
    "women_ovr_30_ratings.head()"
   ]
  },
  {
   "cell_type": "code",
   "execution_count": 37,
   "metadata": {
    "collapsed": true
   },
   "outputs": [],
   "source": [
    "# create pivot table with median ratings by WOMEN over 30 for all movies\n",
    "women_ovr_30_median_ratings = pd.pivot_table(women_ovr_30_ratings,index=['title','gender'],values=['rating'],aggfunc='median')"
   ]
  },
  {
   "cell_type": "code",
   "execution_count": 38,
   "metadata": {},
   "outputs": [
    {
     "data": {
      "text/html": [
       "<div>\n",
       "<style>\n",
       "    .dataframe thead tr:only-child th {\n",
       "        text-align: right;\n",
       "    }\n",
       "\n",
       "    .dataframe thead th {\n",
       "        text-align: left;\n",
       "    }\n",
       "\n",
       "    .dataframe tbody tr th {\n",
       "        vertical-align: top;\n",
       "    }\n",
       "</style>\n",
       "<table border=\"1\" class=\"dataframe\">\n",
       "  <thead>\n",
       "    <tr style=\"text-align: right;\">\n",
       "      <th></th>\n",
       "      <th></th>\n",
       "      <th>rating</th>\n",
       "    </tr>\n",
       "    <tr>\n",
       "      <th>title</th>\n",
       "      <th>gender</th>\n",
       "      <th></th>\n",
       "    </tr>\n",
       "  </thead>\n",
       "  <tbody>\n",
       "    <tr>\n",
       "      <th>$1,000,000 Duck (1971)</th>\n",
       "      <th>F</th>\n",
       "      <td>3.0</td>\n",
       "    </tr>\n",
       "    <tr>\n",
       "      <th>'Night Mother (1986)</th>\n",
       "      <th>F</th>\n",
       "      <td>3.0</td>\n",
       "    </tr>\n",
       "    <tr>\n",
       "      <th>'Til There Was You (1997)</th>\n",
       "      <th>F</th>\n",
       "      <td>3.0</td>\n",
       "    </tr>\n",
       "    <tr>\n",
       "      <th>'burbs, The (1989)</th>\n",
       "      <th>F</th>\n",
       "      <td>3.0</td>\n",
       "    </tr>\n",
       "    <tr>\n",
       "      <th>...And Justice for All (1979)</th>\n",
       "      <th>F</th>\n",
       "      <td>4.0</td>\n",
       "    </tr>\n",
       "  </tbody>\n",
       "</table>\n",
       "</div>"
      ],
      "text/plain": [
       "                                      rating\n",
       "title                         gender        \n",
       "$1,000,000 Duck (1971)        F          3.0\n",
       "'Night Mother (1986)          F          3.0\n",
       "'Til There Was You (1997)     F          3.0\n",
       "'burbs, The (1989)            F          3.0\n",
       "...And Justice for All (1979) F          4.0"
      ]
     },
     "execution_count": 38,
     "metadata": {},
     "output_type": "execute_result"
    }
   ],
   "source": [
    "# verify pivot table contains a median rating by WOMEN over 30 for all movies by viewing first 5 rows\n",
    "women_ovr_30_median_ratings.head()"
   ]
  },
  {
   "cell_type": "code",
   "execution_count": 39,
   "metadata": {},
   "outputs": [
    {
     "name": "stdout",
     "output_type": "stream",
     "text": [
      "                                                           rating\n",
      "title                                              gender        \n",
      "24 7: Twenty Four Seven (1997)                     F          5.0\n",
      "400 Blows, The (Les Quatre cents coups) (1959)     F          5.0\n",
      "Across the Sea of Time (1995)                      F          5.0\n",
      "African Queen, The (1951)                          F          5.0\n",
      "After Life (1998)                                  F          5.0\n",
      "Amadeus (1984)                                     F          5.0\n",
      "Among Giants (1998)                                F          5.0\n",
      "Aparajito (1956)                                   F          5.0\n",
      "Apple, The (Sib) (1998)                            F          5.0\n",
      "Ballad of Narayama, The (Narayama Bushiko) (1958)  F          5.0\n",
      "Before the Rain (Pred dozhdot) (1994)              F          5.0\n",
      "Belly (1998)                                       F          5.0\n",
      "Best Man, The (Il Testimone dello sposo) (1997)    F          5.0\n",
      "Bicycle Thief, The (Ladri di biciclette) (1948)    F          5.0\n",
      "Big Combo, The (1955)                              F          5.0\n",
      "Blue in the Face (1995)                            F          5.0\n",
      "Bogus (1996)                                       F          5.0\n",
      "Bridge on the River Kwai, The (1957)               F          5.0\n",
      "Brother, Can You Spare a Dime? (1975)              F          5.0\n",
      "Buena Vista Social Club (1999)                     F          5.0\n",
      "Casablanca (1942)                                  F          5.0\n",
      "Christmas Story, A (1983)                          F          5.0\n",
      "Cinema Paradiso (1988)                             F          5.0\n",
      "Citizen Kane (1941)                                F          5.0\n",
      "City Lights (1931)                                 F          5.0\n",
      "Clean Slate (Coup de Torchon) (1981)               F          5.0\n",
      "Cleo From 5 to 7 (Cléo de 5 à 7) (1962)            F          5.0\n",
      "Close Shave, A (1995)                              F          5.0\n",
      "Cold Fever (Á köldum klaka) (1994)                 F          5.0\n",
      "Conformist, The (Il Conformista) (1970)            F          5.0\n",
      "Country Life (1994)                                F          5.0\n",
      "Creature Comforts (1990)                           F          5.0\n",
      "Croupier (1998)                                    F          5.0\n",
      "Dancemaker (1998)                                  F          5.0\n",
      "Dark Command (1940)                                F          5.0\n",
      "Dr. Strangelove or: How I Learned to Stop Worry... F          5.0\n",
      "Dreaming of Joseph Lees (1998)                     F          5.0\n",
      "Eighth Day, The (Le Huitième jour ) (1996)         F          5.0\n",
      "Enchanted April (1991)                             F          5.0\n",
      "Everest (1998)                                     F          5.0\n",
      "Eyes Without a Face (1959)                         F          5.0\n",
      "Faraway, So Close (In Weiter Ferne, So Nah!) (1... F          5.0\n",
      "Fargo (1996)                                       F          5.0\n",
      "Firelight (1997)                                   F          5.0\n",
      "Flower of My Secret, The (La Flor de Mi Secreto... F          5.0\n",
      "Force of Evil (1948)                               F          5.0\n",
      "Funeral, The (1996)                                F          5.0\n",
      "Gambler, The (A Játékos) (1997)                    F          5.0\n",
      "Garden of Finzi-Contini, The (Giardino dei Finz... F          5.0\n",
      "Gaslight (1944)                                    F          5.0\n",
      "General, The (1927)                                F          5.0\n",
      "Godfather, The (1972)                              F          5.0\n",
      "Gone with the Wind (1939)                          F          5.0\n",
      "Grand Day Out, A (1992)                            F          5.0\n",
      "Grand Illusion (Grande illusion, La) (1937)        F          5.0\n",
      "Grandfather, The (El Abuelo) (1998)                F          5.0\n",
      "Green Mile, The (1999)                             F          5.0\n",
      "Haunted World of Edward D. Wood Jr., The (1995)    F          5.0\n",
      "Hear My Song (1991)                                F          5.0\n",
      "Hearts and Minds (1996)                            F          5.0\n",
      "Idiots, The (Idioterne) (1998)                     F          5.0\n",
      "Innocents, The (1961)                              F          5.0\n",
      "It Happened One Night (1934)                       F          5.0\n",
      "It Takes Two (1995)                                F          5.0\n",
      "It's a Wonderful Life (1946)                       F          5.0\n",
      "Jupiter's Wife (1994)                              F          5.0\n",
      "Kagemusha (1980)                                   F          5.0\n",
      "Killing Fields, The (1984)                         F          5.0\n",
      "King of Masks, The (Bian Lian) (1996)              F          5.0\n",
      "Lamerica (1994)                                    F          5.0\n",
      "Lawn Dogs (1997)                                   F          5.0\n",
      "Lawrence of Arabia (1962)                          F          5.0\n",
      "Legend of 1900, The (Leggenda del pianista sull... F          5.0\n",
      "Local Hero (1983)                                  F          5.0\n",
      "Love Serenade (1996)                               F          5.0\n",
      "Lucie Aubrac (1997)                                F          5.0\n",
      "Maltese Falcon, The (1941)                         F          5.0\n",
      "Man Facing Southeast (Hombre Mirando al Sudeste... F          5.0\n",
      "Manon of the Spring (Manon des sources) (1986)     F          5.0\n",
      "Marcello Mastroianni: I Remember Yes, I Remembe... F          5.0\n",
      "Microcosmos (Microcosmos: Le peuple de l'herbe)... F          5.0\n",
      "My Fair Lady (1964)                                F          5.0\n",
      "Nights of Cabiria (Le Notti di Cabiria) (1957)     F          5.0\n",
      "North by Northwest (1959)                          F          5.0\n",
      "Notorious (1946)                                   F          5.0\n",
      "Official Story, The (La Historia Oficial) (1985)   F          5.0\n",
      "Only Angels Have Wings (1939)                      F          5.0\n",
      "Other Side of Sunday, The (Søndagsengler) (1996)   F          5.0\n",
      "Palookaville (1996)                                F          5.0\n",
      "Paradine Case, The (1947)                          F          5.0\n",
      "Paradise Lost: The Child Murders at Robin Hood ... F          5.0\n",
      "Paris, France (1993)                               F          5.0\n",
      "Paths of Glory (1957)                              F          5.0\n",
      "Perils of Pauline, The (1947)                      F          5.0\n",
      "Philadelphia Story, The (1940)                     F          5.0\n",
      "Prisoner of the Mountains (Kavkazsky Plennik) (... F          5.0\n",
      "Producers, The (1968)                              F          5.0\n",
      "Promise, The (La Promesse) (1996)                  F          5.0\n",
      "Psycho (1960)                                      F          5.0\n",
      "Quiet Room, The (1996)                             F          5.0\n",
      "Raiders of the Lost Ark (1981)                     F          5.0\n",
      "Rain (1932)                                        F          5.0\n",
      "Ran (1985)                                         F          5.0\n",
      "Raw Deal (1948)                                    F          5.0\n",
      "Rear Window (1954)                                 F          5.0\n",
      "Rebecca (1940)                                     F          5.0\n",
      "Red Sorghum (Hong Gao Liang) (1987)                F          5.0\n",
      "Saltmen of Tibet, The (1997)                       F          5.0\n",
      "Sanjuro (1962)                                     F          5.0\n",
      "Schindler's List (1993)                            F          5.0\n",
      "Seven Samurai (The Magnificent Seven) (Shichini... F          5.0\n",
      "Shadow of a Doubt (1943)                           F          5.0\n",
      "Shawshank Redemption, The (1994)                   F          5.0\n",
      "Singin' in the Rain (1952)                         F          5.0\n",
      "Sixth Sense, The (1999)                            F          5.0\n",
      "Skipped Parts (2000)                               F          5.0\n",
      "Sling Blade (1996)                                 F          5.0\n",
      "Some Folks Call It a Sling Blade (1993)            F          5.0\n",
      "Some Like It Hot (1959)                            F          5.0\n",
      "Song of Freedom (1936)                             F          5.0\n",
      "Sound of Music, The (1965)                         F          5.0\n",
      "Source, The (1999)                                 F          5.0\n",
      "Star Wars: Episode IV - A New Hope (1977)          F          5.0\n",
      "Still Breathing (1997)                             F          5.0\n",
      "Substance of Fire, The (1996)                      F          5.0\n",
      "Sum of Us, The (1994)                              F          5.0\n",
      "Sunset Blvd. (a.k.a. Sunset Boulevard) (1950)      F          5.0\n",
      "Sunset Strip (2000)                                F          5.0\n",
      "Taste of Cherry (1997)                             F          5.0\n",
      "Terrorist, The (Malli) (1998)                      F          5.0\n",
      "Third Man, The (1949)                              F          5.0\n",
      "Three Days of the Condor (1975)                    F          5.0\n",
      "To Kill a Mockingbird (1962)                       F          5.0\n",
      "To Live (Huozhe) (1994)                            F          5.0\n",
      "Trial, The (Le Procès) (1963)                      F          5.0\n",
      "Trouble in Paradise (1932)                         F          5.0\n",
      "Two Women (La Ciociara) (1961)                     F          5.0\n",
      "Two or Three Things I Know About Her (1966)        F          5.0\n",
      "Usual Suspects, The (1995)                         F          5.0\n",
      "Vertigo (1958)                                     F          5.0\n",
      "Wallace & Gromit: The Best of Aardman Animation... F          5.0\n",
      "What Happened Was... (1994)                        F          5.0\n",
      "Window to Paris (1994)                             F          5.0\n",
      "Wizard of Oz, The (1939)                           F          5.0\n",
      "Woman of Paris, A (1923)                           F          5.0\n",
      "World of Apu, The (Apur Sansar) (1959)             F          5.0\n",
      "Wrong Trousers, The (1993)                         F          5.0\n",
      "Yojimbo (1961)                                     F          5.0\n",
      "Young Frankenstein (1974)                          F          5.0\n"
     ]
    }
   ],
   "source": [
    "# display movie titles with median rating, by WOMEN over 30, greater than 4.5\n",
    "women_ovr_30_median_grtr_than_45 = women_ovr_30_median_ratings.query('rating > 4.5')\n",
    "# list the movies with median rating, by WOMEN over 30, greater than 4.5\n",
    "\n",
    "\n",
    "pd.options.display.max_rows = 150\n",
    "\n",
    "print(women_ovr_30_median_grtr_than_45)"
   ]
  },
  {
   "cell_type": "code",
   "execution_count": 40,
   "metadata": {
    "scrolled": true
   },
   "outputs": [
    {
     "data": {
      "text/plain": [
       "149"
      ]
     },
     "execution_count": 40,
     "metadata": {},
     "output_type": "execute_result"
    }
   ],
   "source": [
    "# Answer the question: How many movies have an median rating over 4.5 among women over age 30?\n",
    "len(women_ovr_30_median_grtr_than_45.index)"
   ]
  },
  {
   "cell_type": "markdown",
   "metadata": {},
   "source": [
    "Q: How many movies have an median rating over 4.5 among women over age 30?\n",
    "===\n",
    "A: 149\n",
    "==="
   ]
  },
  {
   "cell_type": "markdown",
   "metadata": {},
   "source": [
    "---"
   ]
  },
  {
   "cell_type": "markdown",
   "metadata": {},
   "source": [
    "Start code for: What are the ten most popular movies?\n",
    "==="
   ]
  },
  {
   "cell_type": "code",
   "execution_count": 41,
   "metadata": {
    "collapsed": true
   },
   "outputs": [],
   "source": [
    "# What are the ten most popular movies?\n",
    "#  Choose what you consider to be a reasonable defintion of \"popular\".  Be prepared to defend this choice.\n",
    "#\n",
    "# We would argue that \"popular\" movies are those which have the greatest number of people sharing their opinion \n",
    "# about the movie.    \n",
    "#\n",
    "# If a person shares their opinion about a movie we can assume that means the person saw the movie.  We consider\n",
    "# each review to represent a viewing, and each viewing of a movie is a \"vote\" in favor of the movie being \"popular\"."
   ]
  },
  {
   "cell_type": "code",
   "execution_count": 42,
   "metadata": {
    "collapsed": true,
    "scrolled": true
   },
   "outputs": [],
   "source": [
    "# create pivot table popular_movies which contains the average ratingby title\n",
    "popular_movies = pd.pivot_table(merged_data,index=['title','genres'],values=['rating'],aggfunc={'mean'})\n",
    "# add a column called 'reviews' which represents the number of reviews for the movie\n",
    "popular_movies['reviews'] = pd.pivot_table(merged_data,index=['title','genres'],values=['rating'],aggfunc={len})"
   ]
  },
  {
   "cell_type": "code",
   "execution_count": 43,
   "metadata": {},
   "outputs": [
    {
     "data": {
      "text/html": [
       "<div>\n",
       "<style>\n",
       "    .dataframe thead tr:only-child th {\n",
       "        text-align: right;\n",
       "    }\n",
       "\n",
       "    .dataframe thead th {\n",
       "        text-align: left;\n",
       "    }\n",
       "\n",
       "    .dataframe tbody tr th {\n",
       "        vertical-align: top;\n",
       "    }\n",
       "</style>\n",
       "<table border=\"1\" class=\"dataframe\">\n",
       "  <thead>\n",
       "    <tr>\n",
       "      <th></th>\n",
       "      <th></th>\n",
       "      <th>rating</th>\n",
       "      <th>reviews</th>\n",
       "    </tr>\n",
       "    <tr>\n",
       "      <th></th>\n",
       "      <th></th>\n",
       "      <th>mean</th>\n",
       "      <th></th>\n",
       "    </tr>\n",
       "    <tr>\n",
       "      <th>title</th>\n",
       "      <th>genres</th>\n",
       "      <th></th>\n",
       "      <th></th>\n",
       "    </tr>\n",
       "  </thead>\n",
       "  <tbody>\n",
       "    <tr>\n",
       "      <th>American Beauty (1999)</th>\n",
       "      <th>Comedy|Drama</th>\n",
       "      <td>4.317386</td>\n",
       "      <td>3428</td>\n",
       "    </tr>\n",
       "    <tr>\n",
       "      <th>Star Wars: Episode IV - A New Hope (1977)</th>\n",
       "      <th>Action|Adventure|Fantasy|Sci-Fi</th>\n",
       "      <td>4.453694</td>\n",
       "      <td>2991</td>\n",
       "    </tr>\n",
       "    <tr>\n",
       "      <th>Star Wars: Episode V - The Empire Strikes Back (1980)</th>\n",
       "      <th>Action|Adventure|Drama|Sci-Fi|War</th>\n",
       "      <td>4.292977</td>\n",
       "      <td>2990</td>\n",
       "    </tr>\n",
       "    <tr>\n",
       "      <th>Star Wars: Episode VI - Return of the Jedi (1983)</th>\n",
       "      <th>Action|Adventure|Romance|Sci-Fi|War</th>\n",
       "      <td>4.022893</td>\n",
       "      <td>2883</td>\n",
       "    </tr>\n",
       "    <tr>\n",
       "      <th>Jurassic Park (1993)</th>\n",
       "      <th>Action|Adventure|Sci-Fi</th>\n",
       "      <td>3.763847</td>\n",
       "      <td>2672</td>\n",
       "    </tr>\n",
       "    <tr>\n",
       "      <th>Saving Private Ryan (1998)</th>\n",
       "      <th>Action|Drama|War</th>\n",
       "      <td>4.337354</td>\n",
       "      <td>2653</td>\n",
       "    </tr>\n",
       "    <tr>\n",
       "      <th>Terminator 2: Judgment Day (1991)</th>\n",
       "      <th>Action|Sci-Fi|Thriller</th>\n",
       "      <td>4.058513</td>\n",
       "      <td>2649</td>\n",
       "    </tr>\n",
       "    <tr>\n",
       "      <th>Matrix, The (1999)</th>\n",
       "      <th>Action|Sci-Fi|Thriller</th>\n",
       "      <td>4.315830</td>\n",
       "      <td>2590</td>\n",
       "    </tr>\n",
       "    <tr>\n",
       "      <th>Back to the Future (1985)</th>\n",
       "      <th>Comedy|Sci-Fi</th>\n",
       "      <td>3.990321</td>\n",
       "      <td>2583</td>\n",
       "    </tr>\n",
       "    <tr>\n",
       "      <th>Silence of the Lambs, The (1991)</th>\n",
       "      <th>Drama|Thriller</th>\n",
       "      <td>4.351823</td>\n",
       "      <td>2578</td>\n",
       "    </tr>\n",
       "  </tbody>\n",
       "</table>\n",
       "</div>"
      ],
      "text/plain": [
       "                                                                                          rating  \\\n",
       "                                                                                            mean   \n",
       "title                                              genres                                          \n",
       "American Beauty (1999)                             Comedy|Drama                         4.317386   \n",
       "Star Wars: Episode IV - A New Hope (1977)          Action|Adventure|Fantasy|Sci-Fi      4.453694   \n",
       "Star Wars: Episode V - The Empire Strikes Back ... Action|Adventure|Drama|Sci-Fi|War    4.292977   \n",
       "Star Wars: Episode VI - Return of the Jedi (1983)  Action|Adventure|Romance|Sci-Fi|War  4.022893   \n",
       "Jurassic Park (1993)                               Action|Adventure|Sci-Fi              3.763847   \n",
       "Saving Private Ryan (1998)                         Action|Drama|War                     4.337354   \n",
       "Terminator 2: Judgment Day (1991)                  Action|Sci-Fi|Thriller               4.058513   \n",
       "Matrix, The (1999)                                 Action|Sci-Fi|Thriller               4.315830   \n",
       "Back to the Future (1985)                          Comedy|Sci-Fi                        3.990321   \n",
       "Silence of the Lambs, The (1991)                   Drama|Thriller                       4.351823   \n",
       "\n",
       "                                                                                       reviews  \n",
       "                                                                                                \n",
       "title                                              genres                                       \n",
       "American Beauty (1999)                             Comedy|Drama                           3428  \n",
       "Star Wars: Episode IV - A New Hope (1977)          Action|Adventure|Fantasy|Sci-Fi        2991  \n",
       "Star Wars: Episode V - The Empire Strikes Back ... Action|Adventure|Drama|Sci-Fi|War      2990  \n",
       "Star Wars: Episode VI - Return of the Jedi (1983)  Action|Adventure|Romance|Sci-Fi|War    2883  \n",
       "Jurassic Park (1993)                               Action|Adventure|Sci-Fi                2672  \n",
       "Saving Private Ryan (1998)                         Action|Drama|War                       2653  \n",
       "Terminator 2: Judgment Day (1991)                  Action|Sci-Fi|Thriller                 2649  \n",
       "Matrix, The (1999)                                 Action|Sci-Fi|Thriller                 2590  \n",
       "Back to the Future (1985)                          Comedy|Sci-Fi                          2583  \n",
       "Silence of the Lambs, The (1991)                   Drama|Thriller                         2578  "
      ]
     },
     "execution_count": 43,
     "metadata": {},
     "output_type": "execute_result"
    }
   ],
   "source": [
    "# Slice the first 10 movies from the descending order, popular_movies pivot table... \n",
    "# I argue that THESE are the TOP 10 MOST POPULAR MOVIES because they have the MOST reviews.\n",
    "#-------------------------------------------------------------------------------------------\n",
    "popular_movies.sort_values(by='reviews', ascending=False)[:10]"
   ]
  },
  {
   "cell_type": "markdown",
   "metadata": {},
   "source": [
    "Q: What are the ten most popular movies?\n",
    "===\n",
    "A: \n",
    "===\n",
    "American Beauty (1999)\n",
    "===\n",
    "Star Wars: Episode IV - A New Hope (1977)\n",
    "===\n",
    "Star Wars: Episode V - The Empire Strikes Back (1980)\n",
    "===\n",
    "Star Wars: Episode VI - Return of the Jedi (1983)\n",
    "===\n",
    "Jurassic Park (1993)\n",
    "===\n",
    "Saving Private Ryan (1998)\n",
    "===\n",
    "Terminator 2: Judgment Day (1991)\n",
    "===\n",
    "Matrix, The (1999)\n",
    "===\n",
    "Back to the Future (1985)\n",
    "===\n",
    "Silence of the Lambs, The (1991)\n",
    "==="
   ]
  },
  {
   "cell_type": "markdown",
   "metadata": {},
   "source": [
    "---"
   ]
  },
  {
   "cell_type": "markdown",
   "metadata": {
    "collapsed": true
   },
   "source": [
    "The above results are supported by the following data from Box Office Mojo (http://www.boxofficemojo.com) which shows domestic, wide-opening weekend gross dollars earned for each title.\n",
    "==="
   ]
  },
  {
   "cell_type": "markdown",
   "metadata": {},
   "source": [
    "9 out of 10 titles on our \"Ten Most Popular Movies\" were the top grossing movies for their opening weekend.\n",
    "==="
   ]
  },
  {
   "cell_type": "markdown",
   "metadata": {},
   "source": [
    " American Beauty:                                       No.3 rank, 706 theaters, $11,598 average\n",
    "\n",
    " Star Wars: Episode IV - A New Hope:                    No.1 rank, 757 theaters, $8,992 average\n",
    "\n",
    " Star Wars: Episode V - The Empire Strikes Back (1980): No.1 rank, 823 theaters, $13,171 average\n",
    "\n",
    " Star Wars: Episode VI - Return of the Jedi (1983):     No. 1 rank, 1,002 theaters, $22,973\n",
    "\n",
    " Jurassic Park (1993):                                  No. 1 rank, 2,404 theaters, $19,561 average\n",
    "\n",
    " Saving Private Ryan (1998):                            No. 1 rank, 2,463 theaters, $12,414 average\n",
    "\n",
    " Terminator 2: Judgment Day (1991):                     (Non-3D) No. 1 rank, 2,463 theaters, $12,414 average\n",
    " \n",
    "                              (3D) No. 25 rank, 371 theaters, $1,490 average\n",
    "\n",
    " Matrix, The (1999:                                     No. 1 rank, 2,849 theaters, $9,753 average\n",
    "\n",
    " Back to the Future (1985):                             No. 1 rank, 1,420 theaters, $7,853 average\n",
    "\n",
    " Silence of the Lambs, The (1991):                      No. 1 rank, 1,497 theaters, $9,196 average\n"
   ]
  },
  {
   "cell_type": "markdown",
   "metadata": {},
   "source": [
    "---"
   ]
  },
  {
   "cell_type": "markdown",
   "metadata": {},
   "source": [
    "Conjecture 1: Movie reviewers who are retired have the highest average rating.\n",
    "==="
   ]
  },
  {
   "cell_type": "code",
   "execution_count": 44,
   "metadata": {
    "collapsed": true
   },
   "outputs": [],
   "source": [
    "# Conjecture: Movie reviewers who are retired are most generous with their ratings. \n",
    "#----------------------------------------------------------------------------------\n",
    "# Our theory is that this population generally has:\n",
    "# 1) a happier disposition\n",
    "# 2) more time for entertainment \n",
    "# 3) they tend to be older and are more easily impressed with the technical advances showcased in todays films "
   ]
  },
  {
   "cell_type": "code",
   "execution_count": 45,
   "metadata": {},
   "outputs": [
    {
     "data": {
      "text/html": [
       "<div>\n",
       "<style>\n",
       "    .dataframe thead tr:only-child th {\n",
       "        text-align: right;\n",
       "    }\n",
       "\n",
       "    .dataframe thead th {\n",
       "        text-align: left;\n",
       "    }\n",
       "\n",
       "    .dataframe tbody tr th {\n",
       "        vertical-align: top;\n",
       "    }\n",
       "</style>\n",
       "<table border=\"1\" class=\"dataframe\">\n",
       "  <thead>\n",
       "    <tr style=\"text-align: right;\">\n",
       "      <th></th>\n",
       "      <th>age</th>\n",
       "      <th>age_desc</th>\n",
       "      <th>age_group</th>\n",
       "    </tr>\n",
       "  </thead>\n",
       "  <tbody>\n",
       "    <tr>\n",
       "      <th>0</th>\n",
       "      <td>1</td>\n",
       "      <td>Under 18</td>\n",
       "      <td>Under 18</td>\n",
       "    </tr>\n",
       "    <tr>\n",
       "      <th>1</th>\n",
       "      <td>18</td>\n",
       "      <td>18-24</td>\n",
       "      <td>18-49</td>\n",
       "    </tr>\n",
       "    <tr>\n",
       "      <th>2</th>\n",
       "      <td>25</td>\n",
       "      <td>25-34</td>\n",
       "      <td>18-49</td>\n",
       "    </tr>\n",
       "    <tr>\n",
       "      <th>3</th>\n",
       "      <td>35</td>\n",
       "      <td>35-44</td>\n",
       "      <td>18-49</td>\n",
       "    </tr>\n",
       "    <tr>\n",
       "      <th>4</th>\n",
       "      <td>45</td>\n",
       "      <td>45-49</td>\n",
       "      <td>18-49</td>\n",
       "    </tr>\n",
       "    <tr>\n",
       "      <th>5</th>\n",
       "      <td>50</td>\n",
       "      <td>50-55</td>\n",
       "      <td>50+</td>\n",
       "    </tr>\n",
       "    <tr>\n",
       "      <th>6</th>\n",
       "      <td>56</td>\n",
       "      <td>56+</td>\n",
       "      <td>50+</td>\n",
       "    </tr>\n",
       "  </tbody>\n",
       "</table>\n",
       "</div>"
      ],
      "text/plain": [
       "   age  age_desc age_group\n",
       "0    1  Under 18  Under 18\n",
       "1   18     18-24     18-49\n",
       "2   25     25-34     18-49\n",
       "3   35     35-44     18-49\n",
       "4   45     45-49     18-49\n",
       "5   50     50-55       50+\n",
       "6   56       56+       50+"
      ]
     },
     "execution_count": 45,
     "metadata": {},
     "output_type": "execute_result"
    }
   ],
   "source": [
    "# bring in more descriptive data for age \n",
    "# read age.xls file into dataframe 'age'\n",
    "age = pd.read_excel('age.xls',sheetname='age', header=0)\n",
    "# verify the dataframe was loaded by viewing all rows\n",
    "age"
   ]
  },
  {
   "cell_type": "code",
   "execution_count": 46,
   "metadata": {
    "collapsed": true
   },
   "outputs": [],
   "source": [
    "# bring in more descriptive data for zip code\n",
    "# read zip2.xls file into dataframe 'zipcode'\n",
    "zipcode = pd.read_excel('zips2.xls',sheetname='zips', header=0)\n",
    "# verify the dataframe was loaded by viewing all rows\n",
    "#zipcode"
   ]
  },
  {
   "cell_type": "code",
   "execution_count": 47,
   "metadata": {
    "collapsed": true
   },
   "outputs": [],
   "source": [
    "# read occuption.xls file into dataframe 'occupation' \n",
    "# We added a Science-Technology-Engineering-Education-Math indicator (STEEM) for additional conjecture(s)\n",
    "occupation = pd.read_excel('occupation.xls',sheetname='occupation', header=0)\n",
    "# verify the dataframe was loaded by viewing all row\n",
    "#occupation"
   ]
  },
  {
   "cell_type": "code",
   "execution_count": 48,
   "metadata": {},
   "outputs": [
    {
     "data": {
      "text/html": [
       "<div>\n",
       "<style>\n",
       "    .dataframe thead tr:only-child th {\n",
       "        text-align: right;\n",
       "    }\n",
       "\n",
       "    .dataframe thead th {\n",
       "        text-align: left;\n",
       "    }\n",
       "\n",
       "    .dataframe tbody tr th {\n",
       "        vertical-align: top;\n",
       "    }\n",
       "</style>\n",
       "<table border=\"1\" class=\"dataframe\">\n",
       "  <thead>\n",
       "    <tr style=\"text-align: right;\">\n",
       "      <th></th>\n",
       "      <th>user_id</th>\n",
       "      <th>movie_id</th>\n",
       "      <th>rating</th>\n",
       "      <th>timestamp</th>\n",
       "      <th>gender</th>\n",
       "      <th>age</th>\n",
       "      <th>occupation</th>\n",
       "      <th>zip</th>\n",
       "      <th>title</th>\n",
       "      <th>genres</th>\n",
       "      <th>...</th>\n",
       "      <th>steem_ind</th>\n",
       "      <th>state_abbrev</th>\n",
       "      <th>latitude</th>\n",
       "      <th>longitude</th>\n",
       "      <th>city</th>\n",
       "      <th>state</th>\n",
       "      <th>2000_median_hh_income</th>\n",
       "      <th>us_census_region</th>\n",
       "      <th>us_census_division</th>\n",
       "      <th>us_census_region_and_division</th>\n",
       "    </tr>\n",
       "  </thead>\n",
       "  <tbody>\n",
       "    <tr>\n",
       "      <th>0</th>\n",
       "      <td>1</td>\n",
       "      <td>1193</td>\n",
       "      <td>5</td>\n",
       "      <td>978300760</td>\n",
       "      <td>F</td>\n",
       "      <td>1</td>\n",
       "      <td>10</td>\n",
       "      <td>48067</td>\n",
       "      <td>One Flew Over the Cuckoo's Nest (1975)</td>\n",
       "      <td>Drama</td>\n",
       "      <td>...</td>\n",
       "      <td>N</td>\n",
       "      <td>MI</td>\n",
       "      <td>42.488735</td>\n",
       "      <td>-83.13752</td>\n",
       "      <td>Royal Oak</td>\n",
       "      <td>Michigan</td>\n",
       "      <td>45512.0</td>\n",
       "      <td>Midwest</td>\n",
       "      <td>East North Central</td>\n",
       "      <td>Midwest - East North Central</td>\n",
       "    </tr>\n",
       "    <tr>\n",
       "      <th>1</th>\n",
       "      <td>19</td>\n",
       "      <td>1193</td>\n",
       "      <td>5</td>\n",
       "      <td>982730936</td>\n",
       "      <td>M</td>\n",
       "      <td>1</td>\n",
       "      <td>10</td>\n",
       "      <td>48073</td>\n",
       "      <td>One Flew Over the Cuckoo's Nest (1975)</td>\n",
       "      <td>Drama</td>\n",
       "      <td>...</td>\n",
       "      <td>N</td>\n",
       "      <td>MI</td>\n",
       "      <td>42.518635</td>\n",
       "      <td>-83.16357</td>\n",
       "      <td>Royal Oak</td>\n",
       "      <td>Michigan</td>\n",
       "      <td>45512.0</td>\n",
       "      <td>Midwest</td>\n",
       "      <td>East North Central</td>\n",
       "      <td>Midwest - East North Central</td>\n",
       "    </tr>\n",
       "    <tr>\n",
       "      <th>2</th>\n",
       "      <td>99</td>\n",
       "      <td>1193</td>\n",
       "      <td>2</td>\n",
       "      <td>982791053</td>\n",
       "      <td>F</td>\n",
       "      <td>1</td>\n",
       "      <td>10</td>\n",
       "      <td>19390</td>\n",
       "      <td>One Flew Over the Cuckoo's Nest (1975)</td>\n",
       "      <td>Drama</td>\n",
       "      <td>...</td>\n",
       "      <td>N</td>\n",
       "      <td>PA</td>\n",
       "      <td>39.820841</td>\n",
       "      <td>-75.84233</td>\n",
       "      <td>West Grove</td>\n",
       "      <td>Pennsylvania</td>\n",
       "      <td>42176.0</td>\n",
       "      <td>Northeast</td>\n",
       "      <td>Middle Atlantic</td>\n",
       "      <td>Northeast - Middle Atlantic</td>\n",
       "    </tr>\n",
       "    <tr>\n",
       "      <th>3</th>\n",
       "      <td>349</td>\n",
       "      <td>1193</td>\n",
       "      <td>4</td>\n",
       "      <td>1007923963</td>\n",
       "      <td>M</td>\n",
       "      <td>1</td>\n",
       "      <td>10</td>\n",
       "      <td>08035</td>\n",
       "      <td>One Flew Over the Cuckoo's Nest (1975)</td>\n",
       "      <td>Drama</td>\n",
       "      <td>...</td>\n",
       "      <td>N</td>\n",
       "      <td>NJ</td>\n",
       "      <td>39.879130</td>\n",
       "      <td>-75.06599</td>\n",
       "      <td>Haddon Heights</td>\n",
       "      <td>New Jersey</td>\n",
       "      <td>50405.0</td>\n",
       "      <td>Northeast</td>\n",
       "      <td>Middle Atlantic</td>\n",
       "      <td>Northeast - Middle Atlantic</td>\n",
       "    </tr>\n",
       "    <tr>\n",
       "      <th>4</th>\n",
       "      <td>960</td>\n",
       "      <td>1193</td>\n",
       "      <td>4</td>\n",
       "      <td>975122486</td>\n",
       "      <td>M</td>\n",
       "      <td>1</td>\n",
       "      <td>10</td>\n",
       "      <td>45244</td>\n",
       "      <td>One Flew Over the Cuckoo's Nest (1975)</td>\n",
       "      <td>Drama</td>\n",
       "      <td>...</td>\n",
       "      <td>N</td>\n",
       "      <td>OH</td>\n",
       "      <td>39.119161</td>\n",
       "      <td>-84.33389</td>\n",
       "      <td>Newtown</td>\n",
       "      <td>Ohio</td>\n",
       "      <td>42962.0</td>\n",
       "      <td>Midwest</td>\n",
       "      <td>East North Central</td>\n",
       "      <td>Midwest - East North Central</td>\n",
       "    </tr>\n",
       "  </tbody>\n",
       "</table>\n",
       "<p>5 rows × 23 columns</p>\n",
       "</div>"
      ],
      "text/plain": [
       "   user_id  movie_id  rating   timestamp gender  age  occupation    zip  \\\n",
       "0        1      1193       5   978300760      F    1          10  48067   \n",
       "1       19      1193       5   982730936      M    1          10  48073   \n",
       "2       99      1193       2   982791053      F    1          10  19390   \n",
       "3      349      1193       4  1007923963      M    1          10  08035   \n",
       "4      960      1193       4   975122486      M    1          10  45244   \n",
       "\n",
       "                                    title genres  \\\n",
       "0  One Flew Over the Cuckoo's Nest (1975)  Drama   \n",
       "1  One Flew Over the Cuckoo's Nest (1975)  Drama   \n",
       "2  One Flew Over the Cuckoo's Nest (1975)  Drama   \n",
       "3  One Flew Over the Cuckoo's Nest (1975)  Drama   \n",
       "4  One Flew Over the Cuckoo's Nest (1975)  Drama   \n",
       "\n",
       "               ...               steem_ind state_abbrev   latitude longitude  \\\n",
       "0              ...                       N           MI  42.488735 -83.13752   \n",
       "1              ...                       N           MI  42.518635 -83.16357   \n",
       "2              ...                       N           PA  39.820841 -75.84233   \n",
       "3              ...                       N           NJ  39.879130 -75.06599   \n",
       "4              ...                       N           OH  39.119161 -84.33389   \n",
       "\n",
       "             city         state  2000_median_hh_income us_census_region  \\\n",
       "0       Royal Oak      Michigan                45512.0          Midwest   \n",
       "1       Royal Oak      Michigan                45512.0          Midwest   \n",
       "2      West Grove  Pennsylvania                42176.0        Northeast   \n",
       "3  Haddon Heights    New Jersey                50405.0        Northeast   \n",
       "4         Newtown          Ohio                42962.0          Midwest   \n",
       "\n",
       "   us_census_division  us_census_region_and_division  \n",
       "0  East North Central   Midwest - East North Central  \n",
       "1  East North Central   Midwest - East North Central  \n",
       "2     Middle Atlantic    Northeast - Middle Atlantic  \n",
       "3     Middle Atlantic    Northeast - Middle Atlantic  \n",
       "4  East North Central   Midwest - East North Central  \n",
       "\n",
       "[5 rows x 23 columns]"
      ]
     },
     "execution_count": 48,
     "metadata": {},
     "output_type": "execute_result"
    }
   ],
   "source": [
    "# merge age and occupation data with prior merged datafrme\n",
    "conjecture_merged_data = pd.merge( pd.merge(merged_data, age), occupation)\n",
    "# merge zipcode data with datafram\n",
    "conjecture_merged_data = pd.merge(left=conjecture_merged_data, right=zipcode, how='left', on=['zip'])\n",
    "# verify dataframe was loaded by viewing the first 5 head rows\n",
    "conjecture_merged_data.head()"
   ]
  },
  {
   "cell_type": "code",
   "execution_count": 49,
   "metadata": {},
   "outputs": [
    {
     "data": {
      "text/plain": [
       "user_id                                                               1\n",
       "movie_id                                                           1193\n",
       "rating                                                                5\n",
       "timestamp                                                     978300760\n",
       "gender                                                                F\n",
       "age                                                                   1\n",
       "occupation                                                           10\n",
       "zip                                                               48067\n",
       "title                            One Flew Over the Cuckoo's Nest (1975)\n",
       "genres                                                            Drama\n",
       "age_desc                                                       Under 18\n",
       "age_group                                                      Under 18\n",
       "occupation_desc                                            K-12 student\n",
       "steem_ind                                                             N\n",
       "state_abbrev                                                         MI\n",
       "latitude                                                        42.4887\n",
       "longitude                                                      -83.1375\n",
       "city                                                          Royal Oak\n",
       "state                                                          Michigan\n",
       "2000_median_hh_income                                             45512\n",
       "us_census_region                                                Midwest\n",
       "us_census_division                                   East North Central\n",
       "us_census_region_and_division              Midwest - East North Central\n",
       "Name: 0, dtype: object"
      ]
     },
     "execution_count": 49,
     "metadata": {},
     "output_type": "execute_result"
    }
   ],
   "source": [
    "# use pandas indexer on merged data\n",
    "#----------------------------------\n",
    "conjecture_merged_data.loc[0]"
   ]
  },
  {
   "cell_type": "code",
   "execution_count": 50,
   "metadata": {},
   "outputs": [
    {
     "data": {
      "text/html": [
       "<div>\n",
       "<style>\n",
       "    .dataframe thead tr:only-child th {\n",
       "        text-align: right;\n",
       "    }\n",
       "\n",
       "    .dataframe thead th {\n",
       "        text-align: left;\n",
       "    }\n",
       "\n",
       "    .dataframe tbody tr th {\n",
       "        vertical-align: top;\n",
       "    }\n",
       "</style>\n",
       "<table border=\"1\" class=\"dataframe\">\n",
       "  <thead>\n",
       "    <tr style=\"text-align: right;\">\n",
       "      <th></th>\n",
       "      <th>rating</th>\n",
       "      <th>reviews</th>\n",
       "    </tr>\n",
       "    <tr>\n",
       "      <th>occupation_desc</th>\n",
       "      <th></th>\n",
       "      <th></th>\n",
       "    </tr>\n",
       "  </thead>\n",
       "  <tbody>\n",
       "    <tr>\n",
       "      <th>retired</th>\n",
       "      <td>3.781736</td>\n",
       "      <td>13754</td>\n",
       "    </tr>\n",
       "    <tr>\n",
       "      <th>scientist</th>\n",
       "      <td>3.689774</td>\n",
       "      <td>22951</td>\n",
       "    </tr>\n",
       "    <tr>\n",
       "      <th>doctor/health care</th>\n",
       "      <td>3.661578</td>\n",
       "      <td>37205</td>\n",
       "    </tr>\n",
       "    <tr>\n",
       "      <th>homemaker</th>\n",
       "      <td>3.656589</td>\n",
       "      <td>11345</td>\n",
       "    </tr>\n",
       "    <tr>\n",
       "      <th>clerical/admin</th>\n",
       "      <td>3.656516</td>\n",
       "      <td>31623</td>\n",
       "    </tr>\n",
       "    <tr>\n",
       "      <th>programmer</th>\n",
       "      <td>3.654001</td>\n",
       "      <td>57214</td>\n",
       "    </tr>\n",
       "    <tr>\n",
       "      <th>sales/marketing</th>\n",
       "      <td>3.618481</td>\n",
       "      <td>49109</td>\n",
       "    </tr>\n",
       "    <tr>\n",
       "      <th>lawyer</th>\n",
       "      <td>3.617371</td>\n",
       "      <td>20563</td>\n",
       "    </tr>\n",
       "    <tr>\n",
       "      <th>technician/engineer</th>\n",
       "      <td>3.613574</td>\n",
       "      <td>72816</td>\n",
       "    </tr>\n",
       "    <tr>\n",
       "      <th>executive/managerial</th>\n",
       "      <td>3.599772</td>\n",
       "      <td>105425</td>\n",
       "    </tr>\n",
       "    <tr>\n",
       "      <th>self-employed</th>\n",
       "      <td>3.596575</td>\n",
       "      <td>46021</td>\n",
       "    </tr>\n",
       "    <tr>\n",
       "      <th>academic/educator</th>\n",
       "      <td>3.576642</td>\n",
       "      <td>85351</td>\n",
       "    </tr>\n",
       "    <tr>\n",
       "      <th>artist</th>\n",
       "      <td>3.573081</td>\n",
       "      <td>50068</td>\n",
       "    </tr>\n",
       "    <tr>\n",
       "      <th>other or not specified</th>\n",
       "      <td>3.537544</td>\n",
       "      <td>130499</td>\n",
       "    </tr>\n",
       "    <tr>\n",
       "      <th>customer service</th>\n",
       "      <td>3.537529</td>\n",
       "      <td>21850</td>\n",
       "    </tr>\n",
       "    <tr>\n",
       "      <th>college/grad student</th>\n",
       "      <td>3.536793</td>\n",
       "      <td>131032</td>\n",
       "    </tr>\n",
       "    <tr>\n",
       "      <th>K-12 student</th>\n",
       "      <td>3.532675</td>\n",
       "      <td>23290</td>\n",
       "    </tr>\n",
       "    <tr>\n",
       "      <th>tradesman/craftsman</th>\n",
       "      <td>3.530117</td>\n",
       "      <td>12086</td>\n",
       "    </tr>\n",
       "    <tr>\n",
       "      <th>writer</th>\n",
       "      <td>3.497392</td>\n",
       "      <td>60397</td>\n",
       "    </tr>\n",
       "    <tr>\n",
       "      <th>farmer</th>\n",
       "      <td>3.466741</td>\n",
       "      <td>2706</td>\n",
       "    </tr>\n",
       "    <tr>\n",
       "      <th>unemployed</th>\n",
       "      <td>3.414050</td>\n",
       "      <td>14904</td>\n",
       "    </tr>\n",
       "  </tbody>\n",
       "</table>\n",
       "</div>"
      ],
      "text/plain": [
       "                          rating  reviews\n",
       "occupation_desc                          \n",
       "retired                 3.781736    13754\n",
       "scientist               3.689774    22951\n",
       "doctor/health care      3.661578    37205\n",
       "homemaker               3.656589    11345\n",
       "clerical/admin          3.656516    31623\n",
       "programmer              3.654001    57214\n",
       "sales/marketing         3.618481    49109\n",
       "lawyer                  3.617371    20563\n",
       "technician/engineer     3.613574    72816\n",
       "executive/managerial    3.599772   105425\n",
       "self-employed           3.596575    46021\n",
       "academic/educator       3.576642    85351\n",
       "artist                  3.573081    50068\n",
       "other or not specified  3.537544   130499\n",
       "customer service        3.537529    21850\n",
       "college/grad student    3.536793   131032\n",
       "K-12 student            3.532675    23290\n",
       "tradesman/craftsman     3.530117    12086\n",
       "writer                  3.497392    60397\n",
       "farmer                  3.466741     2706\n",
       "unemployed              3.414050    14904"
      ]
     },
     "execution_count": 50,
     "metadata": {},
     "output_type": "execute_result"
    }
   ],
   "source": [
    "# create pivot table with mean rating by occupation\n",
    "ratings_by_occupation = pd.pivot_table(conjecture_merged_data,index=['occupation_desc'],values=['rating'],aggfunc='mean')\n",
    "# add column to show number of reviews for an occupation\n",
    "ratings_by_occupation['reviews'] = pd.pivot_table(conjecture_merged_data,index=['occupation_desc'],values=['rating'],aggfunc={len})\n",
    "# view the details: show average ratings by occupation, sorted in descending order of average rating\n",
    "ratings_by_occupation.sort_values(by='rating', ascending=False)"
   ]
  },
  {
   "cell_type": "markdown",
   "metadata": {
    "collapsed": true
   },
   "source": [
    "Conjecture 1: Proven true by the above data. For the occupation 'Retired' the average rating is ranked 1st with 3.781736\n",
    "==="
   ]
  },
  {
   "cell_type": "markdown",
   "metadata": {},
   "source": [
    "---"
   ]
  },
  {
   "cell_type": "markdown",
   "metadata": {
    "collapsed": true
   },
   "source": [
    "Conjecture 2: Reviewers in science, technology, engineering, education & math occupations have average ratings lower than every other occupation.\n",
    "==="
   ]
  },
  {
   "cell_type": "code",
   "execution_count": 51,
   "metadata": {
    "collapsed": true
   },
   "outputs": [],
   "source": [
    "# Conjecture: Movie reviewers with occupations in the science, technology, engineering, education & math (STEEM) domains\n",
    "# have average ratings lowers than all other non-STEEM occupations. \n",
    "#----------------------------------------------------------------------------------\n",
    "# Our theory is that people in STEEM occupations generally :\n",
    "# 1) follow stricter models for awarding \"merit\".\n",
    "# 2) are analytical by nature and make data-driven awards of merit whereas rating a movie is more of an emotional response.\n",
    "# 3) hold back on higher ratings because they believe there is only a small set of deservedly 5-star movies."
   ]
  },
  {
   "cell_type": "code",
   "execution_count": 52,
   "metadata": {},
   "outputs": [
    {
     "data": {
      "text/html": [
       "<div>\n",
       "<style>\n",
       "    .dataframe thead tr:only-child th {\n",
       "        text-align: right;\n",
       "    }\n",
       "\n",
       "    .dataframe thead th {\n",
       "        text-align: left;\n",
       "    }\n",
       "\n",
       "    .dataframe tbody tr th {\n",
       "        vertical-align: top;\n",
       "    }\n",
       "</style>\n",
       "<table border=\"1\" class=\"dataframe\">\n",
       "  <thead>\n",
       "    <tr>\n",
       "      <th></th>\n",
       "      <th colspan=\"2\" halign=\"left\">rating</th>\n",
       "    </tr>\n",
       "    <tr>\n",
       "      <th>steem_ind</th>\n",
       "      <th>N</th>\n",
       "      <th>Y</th>\n",
       "    </tr>\n",
       "    <tr>\n",
       "      <th>occupation_desc</th>\n",
       "      <th></th>\n",
       "      <th></th>\n",
       "    </tr>\n",
       "  </thead>\n",
       "  <tbody>\n",
       "    <tr>\n",
       "      <th>K-12 student</th>\n",
       "      <td>3.53267</td>\n",
       "      <td></td>\n",
       "    </tr>\n",
       "    <tr>\n",
       "      <th>academic/educator</th>\n",
       "      <td></td>\n",
       "      <td>3.57664</td>\n",
       "    </tr>\n",
       "    <tr>\n",
       "      <th>artist</th>\n",
       "      <td>3.57308</td>\n",
       "      <td></td>\n",
       "    </tr>\n",
       "    <tr>\n",
       "      <th>clerical/admin</th>\n",
       "      <td>3.65652</td>\n",
       "      <td></td>\n",
       "    </tr>\n",
       "    <tr>\n",
       "      <th>college/grad student</th>\n",
       "      <td>3.53679</td>\n",
       "      <td></td>\n",
       "    </tr>\n",
       "    <tr>\n",
       "      <th>customer service</th>\n",
       "      <td>3.53753</td>\n",
       "      <td></td>\n",
       "    </tr>\n",
       "    <tr>\n",
       "      <th>doctor/health care</th>\n",
       "      <td></td>\n",
       "      <td>3.66158</td>\n",
       "    </tr>\n",
       "    <tr>\n",
       "      <th>executive/managerial</th>\n",
       "      <td>3.59977</td>\n",
       "      <td></td>\n",
       "    </tr>\n",
       "    <tr>\n",
       "      <th>farmer</th>\n",
       "      <td>3.46674</td>\n",
       "      <td></td>\n",
       "    </tr>\n",
       "    <tr>\n",
       "      <th>homemaker</th>\n",
       "      <td>3.65659</td>\n",
       "      <td></td>\n",
       "    </tr>\n",
       "    <tr>\n",
       "      <th>lawyer</th>\n",
       "      <td>3.61737</td>\n",
       "      <td></td>\n",
       "    </tr>\n",
       "    <tr>\n",
       "      <th>other or not specified</th>\n",
       "      <td>3.53754</td>\n",
       "      <td></td>\n",
       "    </tr>\n",
       "    <tr>\n",
       "      <th>programmer</th>\n",
       "      <td></td>\n",
       "      <td>3.654</td>\n",
       "    </tr>\n",
       "    <tr>\n",
       "      <th>retired</th>\n",
       "      <td>3.78174</td>\n",
       "      <td></td>\n",
       "    </tr>\n",
       "    <tr>\n",
       "      <th>sales/marketing</th>\n",
       "      <td>3.61848</td>\n",
       "      <td></td>\n",
       "    </tr>\n",
       "    <tr>\n",
       "      <th>scientist</th>\n",
       "      <td></td>\n",
       "      <td>3.68977</td>\n",
       "    </tr>\n",
       "    <tr>\n",
       "      <th>self-employed</th>\n",
       "      <td>3.59658</td>\n",
       "      <td></td>\n",
       "    </tr>\n",
       "    <tr>\n",
       "      <th>technician/engineer</th>\n",
       "      <td></td>\n",
       "      <td>3.61357</td>\n",
       "    </tr>\n",
       "    <tr>\n",
       "      <th>tradesman/craftsman</th>\n",
       "      <td>3.53012</td>\n",
       "      <td></td>\n",
       "    </tr>\n",
       "    <tr>\n",
       "      <th>unemployed</th>\n",
       "      <td>3.41405</td>\n",
       "      <td></td>\n",
       "    </tr>\n",
       "    <tr>\n",
       "      <th>writer</th>\n",
       "      <td>3.49739</td>\n",
       "      <td></td>\n",
       "    </tr>\n",
       "  </tbody>\n",
       "</table>\n",
       "</div>"
      ],
      "text/plain": [
       "                         rating         \n",
       "steem_ind                     N        Y\n",
       "occupation_desc                         \n",
       "K-12 student            3.53267         \n",
       "academic/educator                3.57664\n",
       "artist                  3.57308         \n",
       "clerical/admin          3.65652         \n",
       "college/grad student    3.53679         \n",
       "customer service        3.53753         \n",
       "doctor/health care               3.66158\n",
       "executive/managerial    3.59977         \n",
       "farmer                  3.46674         \n",
       "homemaker               3.65659         \n",
       "lawyer                  3.61737         \n",
       "other or not specified  3.53754         \n",
       "programmer                         3.654\n",
       "retired                 3.78174         \n",
       "sales/marketing         3.61848         \n",
       "scientist                        3.68977\n",
       "self-employed           3.59658         \n",
       "technician/engineer              3.61357\n",
       "tradesman/craftsman     3.53012         \n",
       "unemployed              3.41405         \n",
       "writer                  3.49739         "
      ]
     },
     "execution_count": 52,
     "metadata": {},
     "output_type": "execute_result"
    }
   ],
   "source": [
    "# create pivot table with mean rating and steem_ind \n",
    "ratings_by_occupation = pd.pivot_table(conjecture_merged_data,index=['occupation_desc'],columns=['steem_ind'],values=['rating'],fill_value='',aggfunc='mean')\n",
    "# view the details: show average ratings by occupation description, split out by steem indicator\n",
    "ratings_by_occupation"
   ]
  },
  {
   "cell_type": "code",
   "execution_count": 53,
   "metadata": {},
   "outputs": [
    {
     "data": {
      "text/html": [
       "<div>\n",
       "<style>\n",
       "    .dataframe thead tr:only-child th {\n",
       "        text-align: right;\n",
       "    }\n",
       "\n",
       "    .dataframe thead th {\n",
       "        text-align: left;\n",
       "    }\n",
       "\n",
       "    .dataframe tbody tr th {\n",
       "        vertical-align: top;\n",
       "    }\n",
       "</style>\n",
       "<table border=\"1\" class=\"dataframe\">\n",
       "  <thead>\n",
       "    <tr style=\"text-align: right;\">\n",
       "      <th></th>\n",
       "      <th>rating</th>\n",
       "    </tr>\n",
       "    <tr>\n",
       "      <th>steem_ind</th>\n",
       "      <th></th>\n",
       "    </tr>\n",
       "  </thead>\n",
       "  <tbody>\n",
       "    <tr>\n",
       "      <th>N</th>\n",
       "      <td>3.565674</td>\n",
       "    </tr>\n",
       "    <tr>\n",
       "      <th>Y</th>\n",
       "      <td>3.623357</td>\n",
       "    </tr>\n",
       "  </tbody>\n",
       "</table>\n",
       "</div>"
      ],
      "text/plain": [
       "             rating\n",
       "steem_ind          \n",
       "N          3.565674\n",
       "Y          3.623357"
      ]
     },
     "execution_count": 53,
     "metadata": {},
     "output_type": "execute_result"
    }
   ],
   "source": [
    "# create pivot table with mean rating by steem_ind \n",
    "ratings_by_occupation = pd.pivot_table(conjecture_merged_data,index=['steem_ind'],values=['rating'],fill_value='',aggfunc='mean')\n",
    "# show the average rating by occupational steem indicator\n",
    "ratings_by_occupation"
   ]
  },
  {
   "cell_type": "markdown",
   "metadata": {},
   "source": [
    "Conjecture 2: Proven false by the above data. For all the STEEM-related occupations the average rating is slightly higher (by 0.058) than all the Non-STEEM occupations.\n",
    "==="
   ]
  },
  {
   "cell_type": "markdown",
   "metadata": {},
   "source": [
    "---"
   ]
  },
  {
   "cell_type": "markdown",
   "metadata": {},
   "source": [
    "Conjecture 3: Movies associated with the 'Action' genre are more universally liked (smallest standard deviation) than any other movie genre.\n",
    "===\n",
    "\tPossible genres are:\n",
    "    Action\n",
    "\tAdventure\n",
    "\tAnimation\n",
    "\tChildren's\n",
    "\tComedy\n",
    "\tCrime\n",
    "\tDocumentary\n",
    "\tDrama\n",
    "\tFantasy\n",
    "\tFilm-Noir\n",
    "\tHorror\n",
    "\tMusical\n",
    "\tMystery\n",
    "\tRomance\n",
    "\tSci-Fi\n",
    "\tThriller\n",
    "\tWar\n",
    "\tWestern"
   ]
  },
  {
   "cell_type": "code",
   "execution_count": 54,
   "metadata": {},
   "outputs": [
    {
     "data": {
      "text/plain": [
       "['Action',\n",
       " 'Adventure',\n",
       " 'Animation',\n",
       " \"Children's\",\n",
       " 'Comedy',\n",
       " 'Crime',\n",
       " 'Documentary',\n",
       " 'Drama',\n",
       " 'Fantasy',\n",
       " 'Film-Noir',\n",
       " 'Horror',\n",
       " 'Musical',\n",
       " 'Mystery',\n",
       " 'Romance',\n",
       " 'Sci-Fi',\n",
       " 'Thriller',\n",
       " 'War',\n",
       " 'Western']"
      ]
     },
     "execution_count": 54,
     "metadata": {},
     "output_type": "execute_result"
    }
   ],
   "source": [
    "# Chapter 7: Data Transfomation, Computing Indicator/ Dummy Variables\n",
    "# Source: McKinney, Wes. Python for Data Analysis: Data Wrangling with Pandas, NumPy, and IPython\n",
    "# ----------------------------------------------------------------------------------------\n",
    "import numpy as np\n",
    "\n",
    "#extract list of unique genres in the dataset\n",
    "genre_iter = (set( x.split('|')) for x in movies.genres)\n",
    "# sort it\n",
    "genres = sorted( set.union(* genre_iter))\n",
    "# view the dataframe to verify results\n",
    "genres"
   ]
  },
  {
   "cell_type": "code",
   "execution_count": 55,
   "metadata": {
    "collapsed": true
   },
   "outputs": [],
   "source": [
    "# Construct the indicator DataFrame by starting with a DataFrame of all zeros\n",
    "dummies = pd.DataFrame( np.zeros(( len( movies), len( genres))), columns = genres)"
   ]
  },
  {
   "cell_type": "code",
   "execution_count": 56,
   "metadata": {
    "collapsed": true
   },
   "outputs": [],
   "source": [
    "# Iterate through each movie and set entries in each row of dummies to 1\n",
    "for i, gen in enumerate( movies.genres): \n",
    "            dummies.loc[ i, gen.split('|')] = 1"
   ]
  },
  {
   "cell_type": "code",
   "execution_count": 57,
   "metadata": {},
   "outputs": [
    {
     "data": {
      "text/html": [
       "<div>\n",
       "<style>\n",
       "    .dataframe thead tr:only-child th {\n",
       "        text-align: right;\n",
       "    }\n",
       "\n",
       "    .dataframe thead th {\n",
       "        text-align: left;\n",
       "    }\n",
       "\n",
       "    .dataframe tbody tr th {\n",
       "        vertical-align: top;\n",
       "    }\n",
       "</style>\n",
       "<table border=\"1\" class=\"dataframe\">\n",
       "  <thead>\n",
       "    <tr style=\"text-align: right;\">\n",
       "      <th></th>\n",
       "      <th>movie_id</th>\n",
       "      <th>title</th>\n",
       "      <th>genres</th>\n",
       "      <th>Genre_Action</th>\n",
       "      <th>Genre_Adventure</th>\n",
       "      <th>Genre_Animation</th>\n",
       "      <th>Genre_Children's</th>\n",
       "      <th>Genre_Comedy</th>\n",
       "      <th>Genre_Crime</th>\n",
       "      <th>Genre_Documentary</th>\n",
       "      <th>...</th>\n",
       "      <th>Genre_Fantasy</th>\n",
       "      <th>Genre_Film-Noir</th>\n",
       "      <th>Genre_Horror</th>\n",
       "      <th>Genre_Musical</th>\n",
       "      <th>Genre_Mystery</th>\n",
       "      <th>Genre_Romance</th>\n",
       "      <th>Genre_Sci-Fi</th>\n",
       "      <th>Genre_Thriller</th>\n",
       "      <th>Genre_War</th>\n",
       "      <th>Genre_Western</th>\n",
       "    </tr>\n",
       "  </thead>\n",
       "  <tbody>\n",
       "    <tr>\n",
       "      <th>0</th>\n",
       "      <td>1</td>\n",
       "      <td>Toy Story (1995)</td>\n",
       "      <td>Animation|Children's|Comedy</td>\n",
       "      <td>0.0</td>\n",
       "      <td>0.0</td>\n",
       "      <td>1.0</td>\n",
       "      <td>1.0</td>\n",
       "      <td>1.0</td>\n",
       "      <td>0.0</td>\n",
       "      <td>0.0</td>\n",
       "      <td>...</td>\n",
       "      <td>0.0</td>\n",
       "      <td>0.0</td>\n",
       "      <td>0.0</td>\n",
       "      <td>0.0</td>\n",
       "      <td>0.0</td>\n",
       "      <td>0.0</td>\n",
       "      <td>0.0</td>\n",
       "      <td>0.0</td>\n",
       "      <td>0.0</td>\n",
       "      <td>0.0</td>\n",
       "    </tr>\n",
       "    <tr>\n",
       "      <th>1</th>\n",
       "      <td>2</td>\n",
       "      <td>Jumanji (1995)</td>\n",
       "      <td>Adventure|Children's|Fantasy</td>\n",
       "      <td>0.0</td>\n",
       "      <td>1.0</td>\n",
       "      <td>0.0</td>\n",
       "      <td>1.0</td>\n",
       "      <td>0.0</td>\n",
       "      <td>0.0</td>\n",
       "      <td>0.0</td>\n",
       "      <td>...</td>\n",
       "      <td>1.0</td>\n",
       "      <td>0.0</td>\n",
       "      <td>0.0</td>\n",
       "      <td>0.0</td>\n",
       "      <td>0.0</td>\n",
       "      <td>0.0</td>\n",
       "      <td>0.0</td>\n",
       "      <td>0.0</td>\n",
       "      <td>0.0</td>\n",
       "      <td>0.0</td>\n",
       "    </tr>\n",
       "    <tr>\n",
       "      <th>2</th>\n",
       "      <td>3</td>\n",
       "      <td>Grumpier Old Men (1995)</td>\n",
       "      <td>Comedy|Romance</td>\n",
       "      <td>0.0</td>\n",
       "      <td>0.0</td>\n",
       "      <td>0.0</td>\n",
       "      <td>0.0</td>\n",
       "      <td>1.0</td>\n",
       "      <td>0.0</td>\n",
       "      <td>0.0</td>\n",
       "      <td>...</td>\n",
       "      <td>0.0</td>\n",
       "      <td>0.0</td>\n",
       "      <td>0.0</td>\n",
       "      <td>0.0</td>\n",
       "      <td>0.0</td>\n",
       "      <td>1.0</td>\n",
       "      <td>0.0</td>\n",
       "      <td>0.0</td>\n",
       "      <td>0.0</td>\n",
       "      <td>0.0</td>\n",
       "    </tr>\n",
       "    <tr>\n",
       "      <th>3</th>\n",
       "      <td>4</td>\n",
       "      <td>Waiting to Exhale (1995)</td>\n",
       "      <td>Comedy|Drama</td>\n",
       "      <td>0.0</td>\n",
       "      <td>0.0</td>\n",
       "      <td>0.0</td>\n",
       "      <td>0.0</td>\n",
       "      <td>1.0</td>\n",
       "      <td>0.0</td>\n",
       "      <td>0.0</td>\n",
       "      <td>...</td>\n",
       "      <td>0.0</td>\n",
       "      <td>0.0</td>\n",
       "      <td>0.0</td>\n",
       "      <td>0.0</td>\n",
       "      <td>0.0</td>\n",
       "      <td>0.0</td>\n",
       "      <td>0.0</td>\n",
       "      <td>0.0</td>\n",
       "      <td>0.0</td>\n",
       "      <td>0.0</td>\n",
       "    </tr>\n",
       "    <tr>\n",
       "      <th>4</th>\n",
       "      <td>5</td>\n",
       "      <td>Father of the Bride Part II (1995)</td>\n",
       "      <td>Comedy</td>\n",
       "      <td>0.0</td>\n",
       "      <td>0.0</td>\n",
       "      <td>0.0</td>\n",
       "      <td>0.0</td>\n",
       "      <td>1.0</td>\n",
       "      <td>0.0</td>\n",
       "      <td>0.0</td>\n",
       "      <td>...</td>\n",
       "      <td>0.0</td>\n",
       "      <td>0.0</td>\n",
       "      <td>0.0</td>\n",
       "      <td>0.0</td>\n",
       "      <td>0.0</td>\n",
       "      <td>0.0</td>\n",
       "      <td>0.0</td>\n",
       "      <td>0.0</td>\n",
       "      <td>0.0</td>\n",
       "      <td>0.0</td>\n",
       "    </tr>\n",
       "  </tbody>\n",
       "</table>\n",
       "<p>5 rows × 21 columns</p>\n",
       "</div>"
      ],
      "text/plain": [
       "   movie_id                               title                        genres  \\\n",
       "0         1                    Toy Story (1995)   Animation|Children's|Comedy   \n",
       "1         2                      Jumanji (1995)  Adventure|Children's|Fantasy   \n",
       "2         3             Grumpier Old Men (1995)                Comedy|Romance   \n",
       "3         4            Waiting to Exhale (1995)                  Comedy|Drama   \n",
       "4         5  Father of the Bride Part II (1995)                        Comedy   \n",
       "\n",
       "   Genre_Action  Genre_Adventure  Genre_Animation  Genre_Children's  \\\n",
       "0           0.0              0.0              1.0               1.0   \n",
       "1           0.0              1.0              0.0               1.0   \n",
       "2           0.0              0.0              0.0               0.0   \n",
       "3           0.0              0.0              0.0               0.0   \n",
       "4           0.0              0.0              0.0               0.0   \n",
       "\n",
       "   Genre_Comedy  Genre_Crime  Genre_Documentary      ...        Genre_Fantasy  \\\n",
       "0           1.0          0.0                0.0      ...                  0.0   \n",
       "1           0.0          0.0                0.0      ...                  1.0   \n",
       "2           1.0          0.0                0.0      ...                  0.0   \n",
       "3           1.0          0.0                0.0      ...                  0.0   \n",
       "4           1.0          0.0                0.0      ...                  0.0   \n",
       "\n",
       "   Genre_Film-Noir  Genre_Horror  Genre_Musical  Genre_Mystery  Genre_Romance  \\\n",
       "0              0.0           0.0            0.0            0.0            0.0   \n",
       "1              0.0           0.0            0.0            0.0            0.0   \n",
       "2              0.0           0.0            0.0            0.0            1.0   \n",
       "3              0.0           0.0            0.0            0.0            0.0   \n",
       "4              0.0           0.0            0.0            0.0            0.0   \n",
       "\n",
       "   Genre_Sci-Fi  Genre_Thriller  Genre_War  Genre_Western  \n",
       "0           0.0             0.0        0.0            0.0  \n",
       "1           0.0             0.0        0.0            0.0  \n",
       "2           0.0             0.0        0.0            0.0  \n",
       "3           0.0             0.0        0.0            0.0  \n",
       "4           0.0             0.0        0.0            0.0  \n",
       "\n",
       "[5 rows x 21 columns]"
      ]
     },
     "execution_count": 57,
     "metadata": {},
     "output_type": "execute_result"
    }
   ],
   "source": [
    "# Combine this with movies\n",
    "movies_windic = movies.join(dummies.add_prefix('Genre_'))\n",
    "# view to verify results\n",
    "movies_windic.head()"
   ]
  },
  {
   "cell_type": "code",
   "execution_count": 58,
   "metadata": {
    "scrolled": false
   },
   "outputs": [
    {
     "data": {
      "text/html": [
       "<div>\n",
       "<style>\n",
       "    .dataframe thead tr:only-child th {\n",
       "        text-align: right;\n",
       "    }\n",
       "\n",
       "    .dataframe thead th {\n",
       "        text-align: left;\n",
       "    }\n",
       "\n",
       "    .dataframe tbody tr th {\n",
       "        vertical-align: top;\n",
       "    }\n",
       "</style>\n",
       "<table border=\"1\" class=\"dataframe\">\n",
       "  <thead>\n",
       "    <tr style=\"text-align: right;\">\n",
       "      <th></th>\n",
       "      <th>user_id</th>\n",
       "      <th>movie_id</th>\n",
       "      <th>rating</th>\n",
       "      <th>timestamp</th>\n",
       "      <th>gender</th>\n",
       "      <th>age</th>\n",
       "      <th>occupation</th>\n",
       "      <th>zip</th>\n",
       "      <th>title</th>\n",
       "      <th>genres</th>\n",
       "      <th>...</th>\n",
       "      <th>Genre_Fantasy</th>\n",
       "      <th>Genre_Film-Noir</th>\n",
       "      <th>Genre_Horror</th>\n",
       "      <th>Genre_Musical</th>\n",
       "      <th>Genre_Mystery</th>\n",
       "      <th>Genre_Romance</th>\n",
       "      <th>Genre_Sci-Fi</th>\n",
       "      <th>Genre_Thriller</th>\n",
       "      <th>Genre_War</th>\n",
       "      <th>Genre_Western</th>\n",
       "    </tr>\n",
       "  </thead>\n",
       "  <tbody>\n",
       "    <tr>\n",
       "      <th>0</th>\n",
       "      <td>1</td>\n",
       "      <td>1193</td>\n",
       "      <td>5</td>\n",
       "      <td>978300760</td>\n",
       "      <td>F</td>\n",
       "      <td>1</td>\n",
       "      <td>10</td>\n",
       "      <td>48067</td>\n",
       "      <td>One Flew Over the Cuckoo's Nest (1975)</td>\n",
       "      <td>Drama</td>\n",
       "      <td>...</td>\n",
       "      <td>0.0</td>\n",
       "      <td>0.0</td>\n",
       "      <td>0.0</td>\n",
       "      <td>0.0</td>\n",
       "      <td>0.0</td>\n",
       "      <td>0.0</td>\n",
       "      <td>0.0</td>\n",
       "      <td>0.0</td>\n",
       "      <td>0.0</td>\n",
       "      <td>0.0</td>\n",
       "    </tr>\n",
       "    <tr>\n",
       "      <th>1</th>\n",
       "      <td>2</td>\n",
       "      <td>1193</td>\n",
       "      <td>5</td>\n",
       "      <td>978298413</td>\n",
       "      <td>M</td>\n",
       "      <td>56</td>\n",
       "      <td>16</td>\n",
       "      <td>70072</td>\n",
       "      <td>One Flew Over the Cuckoo's Nest (1975)</td>\n",
       "      <td>Drama</td>\n",
       "      <td>...</td>\n",
       "      <td>0.0</td>\n",
       "      <td>0.0</td>\n",
       "      <td>0.0</td>\n",
       "      <td>0.0</td>\n",
       "      <td>0.0</td>\n",
       "      <td>0.0</td>\n",
       "      <td>0.0</td>\n",
       "      <td>0.0</td>\n",
       "      <td>0.0</td>\n",
       "      <td>0.0</td>\n",
       "    </tr>\n",
       "    <tr>\n",
       "      <th>2</th>\n",
       "      <td>12</td>\n",
       "      <td>1193</td>\n",
       "      <td>4</td>\n",
       "      <td>978220179</td>\n",
       "      <td>M</td>\n",
       "      <td>25</td>\n",
       "      <td>12</td>\n",
       "      <td>32793</td>\n",
       "      <td>One Flew Over the Cuckoo's Nest (1975)</td>\n",
       "      <td>Drama</td>\n",
       "      <td>...</td>\n",
       "      <td>0.0</td>\n",
       "      <td>0.0</td>\n",
       "      <td>0.0</td>\n",
       "      <td>0.0</td>\n",
       "      <td>0.0</td>\n",
       "      <td>0.0</td>\n",
       "      <td>0.0</td>\n",
       "      <td>0.0</td>\n",
       "      <td>0.0</td>\n",
       "      <td>0.0</td>\n",
       "    </tr>\n",
       "    <tr>\n",
       "      <th>3</th>\n",
       "      <td>15</td>\n",
       "      <td>1193</td>\n",
       "      <td>4</td>\n",
       "      <td>978199279</td>\n",
       "      <td>M</td>\n",
       "      <td>25</td>\n",
       "      <td>7</td>\n",
       "      <td>22903</td>\n",
       "      <td>One Flew Over the Cuckoo's Nest (1975)</td>\n",
       "      <td>Drama</td>\n",
       "      <td>...</td>\n",
       "      <td>0.0</td>\n",
       "      <td>0.0</td>\n",
       "      <td>0.0</td>\n",
       "      <td>0.0</td>\n",
       "      <td>0.0</td>\n",
       "      <td>0.0</td>\n",
       "      <td>0.0</td>\n",
       "      <td>0.0</td>\n",
       "      <td>0.0</td>\n",
       "      <td>0.0</td>\n",
       "    </tr>\n",
       "    <tr>\n",
       "      <th>4</th>\n",
       "      <td>17</td>\n",
       "      <td>1193</td>\n",
       "      <td>5</td>\n",
       "      <td>978158471</td>\n",
       "      <td>M</td>\n",
       "      <td>50</td>\n",
       "      <td>1</td>\n",
       "      <td>95350</td>\n",
       "      <td>One Flew Over the Cuckoo's Nest (1975)</td>\n",
       "      <td>Drama</td>\n",
       "      <td>...</td>\n",
       "      <td>0.0</td>\n",
       "      <td>0.0</td>\n",
       "      <td>0.0</td>\n",
       "      <td>0.0</td>\n",
       "      <td>0.0</td>\n",
       "      <td>0.0</td>\n",
       "      <td>0.0</td>\n",
       "      <td>0.0</td>\n",
       "      <td>0.0</td>\n",
       "      <td>0.0</td>\n",
       "    </tr>\n",
       "  </tbody>\n",
       "</table>\n",
       "<p>5 rows × 28 columns</p>\n",
       "</div>"
      ],
      "text/plain": [
       "   user_id  movie_id  rating  timestamp gender  age  occupation    zip  \\\n",
       "0        1      1193       5  978300760      F    1          10  48067   \n",
       "1        2      1193       5  978298413      M   56          16  70072   \n",
       "2       12      1193       4  978220179      M   25          12  32793   \n",
       "3       15      1193       4  978199279      M   25           7  22903   \n",
       "4       17      1193       5  978158471      M   50           1  95350   \n",
       "\n",
       "                                    title genres      ...        \\\n",
       "0  One Flew Over the Cuckoo's Nest (1975)  Drama      ...         \n",
       "1  One Flew Over the Cuckoo's Nest (1975)  Drama      ...         \n",
       "2  One Flew Over the Cuckoo's Nest (1975)  Drama      ...         \n",
       "3  One Flew Over the Cuckoo's Nest (1975)  Drama      ...         \n",
       "4  One Flew Over the Cuckoo's Nest (1975)  Drama      ...         \n",
       "\n",
       "   Genre_Fantasy  Genre_Film-Noir  Genre_Horror  Genre_Musical  Genre_Mystery  \\\n",
       "0            0.0              0.0           0.0            0.0            0.0   \n",
       "1            0.0              0.0           0.0            0.0            0.0   \n",
       "2            0.0              0.0           0.0            0.0            0.0   \n",
       "3            0.0              0.0           0.0            0.0            0.0   \n",
       "4            0.0              0.0           0.0            0.0            0.0   \n",
       "\n",
       "   Genre_Romance  Genre_Sci-Fi  Genre_Thriller  Genre_War  Genre_Western  \n",
       "0            0.0           0.0             0.0        0.0            0.0  \n",
       "1            0.0           0.0             0.0        0.0            0.0  \n",
       "2            0.0           0.0             0.0        0.0            0.0  \n",
       "3            0.0           0.0             0.0        0.0            0.0  \n",
       "4            0.0           0.0             0.0        0.0            0.0  \n",
       "\n",
       "[5 rows x 28 columns]"
      ]
     },
     "execution_count": 58,
     "metadata": {},
     "output_type": "execute_result"
    }
   ],
   "source": [
    "# create new merged datafame with genre indicators using movies_windic\n",
    "merged_data_genre_ind = pd.merge( pd.merge(ratings, users), movies_windic)\n",
    "# verify merge by viewing rows\n",
    "merged_data_genre_ind.head()"
   ]
  },
  {
   "cell_type": "code",
   "execution_count": 59,
   "metadata": {
    "scrolled": false
   },
   "outputs": [
    {
     "data": {
      "text/html": [
       "<div>\n",
       "<style>\n",
       "    .dataframe thead tr:only-child th {\n",
       "        text-align: right;\n",
       "    }\n",
       "\n",
       "    .dataframe thead th {\n",
       "        text-align: left;\n",
       "    }\n",
       "\n",
       "    .dataframe tbody tr th {\n",
       "        vertical-align: top;\n",
       "    }\n",
       "</style>\n",
       "<table border=\"1\" class=\"dataframe\">\n",
       "  <thead>\n",
       "    <tr style=\"text-align: right;\">\n",
       "      <th></th>\n",
       "      <th>user_id</th>\n",
       "      <th>movie_id</th>\n",
       "      <th>rating</th>\n",
       "      <th>timestamp</th>\n",
       "      <th>gender</th>\n",
       "      <th>age</th>\n",
       "      <th>occupation</th>\n",
       "      <th>zip</th>\n",
       "      <th>title</th>\n",
       "      <th>genres</th>\n",
       "      <th>...</th>\n",
       "      <th>Genre_Fantasy</th>\n",
       "      <th>Genre_Film-Noir</th>\n",
       "      <th>Genre_Horror</th>\n",
       "      <th>Genre_Musical</th>\n",
       "      <th>Genre_Mystery</th>\n",
       "      <th>Genre_Romance</th>\n",
       "      <th>Genre_Sci-Fi</th>\n",
       "      <th>Genre_Thriller</th>\n",
       "      <th>Genre_War</th>\n",
       "      <th>Genre_Western</th>\n",
       "    </tr>\n",
       "  </thead>\n",
       "  <tbody>\n",
       "    <tr>\n",
       "      <th>5904</th>\n",
       "      <td>1</td>\n",
       "      <td>1197</td>\n",
       "      <td>3</td>\n",
       "      <td>978302268</td>\n",
       "      <td>F</td>\n",
       "      <td>1</td>\n",
       "      <td>10</td>\n",
       "      <td>48067</td>\n",
       "      <td>Princess Bride, The (1987)</td>\n",
       "      <td>Action|Adventure|Comedy|Romance</td>\n",
       "      <td>...</td>\n",
       "      <td>0.0</td>\n",
       "      <td>0.0</td>\n",
       "      <td>0.0</td>\n",
       "      <td>0.0</td>\n",
       "      <td>0.0</td>\n",
       "      <td>1.0</td>\n",
       "      <td>0.0</td>\n",
       "      <td>0.0</td>\n",
       "      <td>0.0</td>\n",
       "      <td>0.0</td>\n",
       "    </tr>\n",
       "    <tr>\n",
       "      <th>5905</th>\n",
       "      <td>3</td>\n",
       "      <td>1197</td>\n",
       "      <td>5</td>\n",
       "      <td>978297570</td>\n",
       "      <td>M</td>\n",
       "      <td>25</td>\n",
       "      <td>15</td>\n",
       "      <td>55117</td>\n",
       "      <td>Princess Bride, The (1987)</td>\n",
       "      <td>Action|Adventure|Comedy|Romance</td>\n",
       "      <td>...</td>\n",
       "      <td>0.0</td>\n",
       "      <td>0.0</td>\n",
       "      <td>0.0</td>\n",
       "      <td>0.0</td>\n",
       "      <td>0.0</td>\n",
       "      <td>1.0</td>\n",
       "      <td>0.0</td>\n",
       "      <td>0.0</td>\n",
       "      <td>0.0</td>\n",
       "      <td>0.0</td>\n",
       "    </tr>\n",
       "    <tr>\n",
       "      <th>5906</th>\n",
       "      <td>10</td>\n",
       "      <td>1197</td>\n",
       "      <td>5</td>\n",
       "      <td>979167660</td>\n",
       "      <td>F</td>\n",
       "      <td>35</td>\n",
       "      <td>1</td>\n",
       "      <td>95370</td>\n",
       "      <td>Princess Bride, The (1987)</td>\n",
       "      <td>Action|Adventure|Comedy|Romance</td>\n",
       "      <td>...</td>\n",
       "      <td>0.0</td>\n",
       "      <td>0.0</td>\n",
       "      <td>0.0</td>\n",
       "      <td>0.0</td>\n",
       "      <td>0.0</td>\n",
       "      <td>1.0</td>\n",
       "      <td>0.0</td>\n",
       "      <td>0.0</td>\n",
       "      <td>0.0</td>\n",
       "      <td>0.0</td>\n",
       "    </tr>\n",
       "    <tr>\n",
       "      <th>5907</th>\n",
       "      <td>11</td>\n",
       "      <td>1197</td>\n",
       "      <td>5</td>\n",
       "      <td>978903297</td>\n",
       "      <td>F</td>\n",
       "      <td>25</td>\n",
       "      <td>1</td>\n",
       "      <td>04093</td>\n",
       "      <td>Princess Bride, The (1987)</td>\n",
       "      <td>Action|Adventure|Comedy|Romance</td>\n",
       "      <td>...</td>\n",
       "      <td>0.0</td>\n",
       "      <td>0.0</td>\n",
       "      <td>0.0</td>\n",
       "      <td>0.0</td>\n",
       "      <td>0.0</td>\n",
       "      <td>1.0</td>\n",
       "      <td>0.0</td>\n",
       "      <td>0.0</td>\n",
       "      <td>0.0</td>\n",
       "      <td>0.0</td>\n",
       "    </tr>\n",
       "    <tr>\n",
       "      <th>5908</th>\n",
       "      <td>13</td>\n",
       "      <td>1197</td>\n",
       "      <td>4</td>\n",
       "      <td>978201320</td>\n",
       "      <td>M</td>\n",
       "      <td>45</td>\n",
       "      <td>1</td>\n",
       "      <td>93304</td>\n",
       "      <td>Princess Bride, The (1987)</td>\n",
       "      <td>Action|Adventure|Comedy|Romance</td>\n",
       "      <td>...</td>\n",
       "      <td>0.0</td>\n",
       "      <td>0.0</td>\n",
       "      <td>0.0</td>\n",
       "      <td>0.0</td>\n",
       "      <td>0.0</td>\n",
       "      <td>1.0</td>\n",
       "      <td>0.0</td>\n",
       "      <td>0.0</td>\n",
       "      <td>0.0</td>\n",
       "      <td>0.0</td>\n",
       "    </tr>\n",
       "  </tbody>\n",
       "</table>\n",
       "<p>5 rows × 28 columns</p>\n",
       "</div>"
      ],
      "text/plain": [
       "      user_id  movie_id  rating  timestamp gender  age  occupation    zip  \\\n",
       "5904        1      1197       3  978302268      F    1          10  48067   \n",
       "5905        3      1197       5  978297570      M   25          15  55117   \n",
       "5906       10      1197       5  979167660      F   35           1  95370   \n",
       "5907       11      1197       5  978903297      F   25           1  04093   \n",
       "5908       13      1197       4  978201320      M   45           1  93304   \n",
       "\n",
       "                           title                           genres  \\\n",
       "5904  Princess Bride, The (1987)  Action|Adventure|Comedy|Romance   \n",
       "5905  Princess Bride, The (1987)  Action|Adventure|Comedy|Romance   \n",
       "5906  Princess Bride, The (1987)  Action|Adventure|Comedy|Romance   \n",
       "5907  Princess Bride, The (1987)  Action|Adventure|Comedy|Romance   \n",
       "5908  Princess Bride, The (1987)  Action|Adventure|Comedy|Romance   \n",
       "\n",
       "          ...        Genre_Fantasy  Genre_Film-Noir  Genre_Horror  \\\n",
       "5904      ...                  0.0              0.0           0.0   \n",
       "5905      ...                  0.0              0.0           0.0   \n",
       "5906      ...                  0.0              0.0           0.0   \n",
       "5907      ...                  0.0              0.0           0.0   \n",
       "5908      ...                  0.0              0.0           0.0   \n",
       "\n",
       "      Genre_Musical  Genre_Mystery  Genre_Romance  Genre_Sci-Fi  \\\n",
       "5904            0.0            0.0            1.0           0.0   \n",
       "5905            0.0            0.0            1.0           0.0   \n",
       "5906            0.0            0.0            1.0           0.0   \n",
       "5907            0.0            0.0            1.0           0.0   \n",
       "5908            0.0            0.0            1.0           0.0   \n",
       "\n",
       "      Genre_Thriller  Genre_War  Genre_Western  \n",
       "5904             0.0        0.0            0.0  \n",
       "5905             0.0        0.0            0.0  \n",
       "5906             0.0        0.0            0.0  \n",
       "5907             0.0        0.0            0.0  \n",
       "5908             0.0        0.0            0.0  \n",
       "\n",
       "[5 rows x 28 columns]"
      ]
     },
     "execution_count": 59,
     "metadata": {},
     "output_type": "execute_result"
    }
   ],
   "source": [
    "# isolate movies with an genre_action = 1 indicator\n",
    "action_genre = merged_data_genre_ind.loc[merged_data_genre_ind['Genre_Action'] == 1]\n",
    "# view dataframe of all movies with action genre = 1\n",
    "action_genre.head()"
   ]
  },
  {
   "cell_type": "code",
   "execution_count": 60,
   "metadata": {
    "scrolled": false
   },
   "outputs": [
    {
     "data": {
      "text/html": [
       "<div>\n",
       "<style>\n",
       "    .dataframe thead tr:only-child th {\n",
       "        text-align: right;\n",
       "    }\n",
       "\n",
       "    .dataframe thead th {\n",
       "        text-align: left;\n",
       "    }\n",
       "\n",
       "    .dataframe tbody tr th {\n",
       "        vertical-align: top;\n",
       "    }\n",
       "</style>\n",
       "<table border=\"1\" class=\"dataframe\">\n",
       "  <thead>\n",
       "    <tr>\n",
       "      <th></th>\n",
       "      <th>std</th>\n",
       "      <th>len</th>\n",
       "    </tr>\n",
       "    <tr>\n",
       "      <th></th>\n",
       "      <th>rating</th>\n",
       "      <th>rating</th>\n",
       "    </tr>\n",
       "    <tr>\n",
       "      <th>Genre_Action</th>\n",
       "      <th></th>\n",
       "      <th></th>\n",
       "    </tr>\n",
       "  </thead>\n",
       "  <tbody>\n",
       "    <tr>\n",
       "      <th>1.0</th>\n",
       "      <td>1.133471</td>\n",
       "      <td>257457</td>\n",
       "    </tr>\n",
       "  </tbody>\n",
       "</table>\n",
       "</div>"
      ],
      "text/plain": [
       "                   std     len\n",
       "                rating  rating\n",
       "Genre_Action                  \n",
       "1.0           1.133471  257457"
      ]
     },
     "execution_count": 60,
     "metadata": {},
     "output_type": "execute_result"
    }
   ],
   "source": [
    "# create pivot table with standard devation of rating for all movies with the action genre indicator \n",
    "ratings_stdev_for_action = pd.pivot_table(action_genre,index=['Genre_Action'],values=['rating'],aggfunc=[np.std, len])\n",
    "# sort the standard deviation of rating by genre in ascending order\n",
    "ratings_stdev_for_action.sort_values(('std', 'rating'), ascending=True)"
   ]
  },
  {
   "cell_type": "code",
   "execution_count": 61,
   "metadata": {
    "scrolled": true
   },
   "outputs": [
    {
     "data": {
      "text/html": [
       "<div>\n",
       "<style>\n",
       "    .dataframe thead tr:only-child th {\n",
       "        text-align: right;\n",
       "    }\n",
       "\n",
       "    .dataframe thead th {\n",
       "        text-align: left;\n",
       "    }\n",
       "\n",
       "    .dataframe tbody tr th {\n",
       "        vertical-align: top;\n",
       "    }\n",
       "</style>\n",
       "<table border=\"1\" class=\"dataframe\">\n",
       "  <thead>\n",
       "    <tr style=\"text-align: right;\">\n",
       "      <th></th>\n",
       "      <th>user_id</th>\n",
       "      <th>movie_id</th>\n",
       "      <th>rating</th>\n",
       "      <th>timestamp</th>\n",
       "      <th>gender</th>\n",
       "      <th>age</th>\n",
       "      <th>occupation</th>\n",
       "      <th>zip</th>\n",
       "      <th>title</th>\n",
       "      <th>genres</th>\n",
       "      <th>...</th>\n",
       "      <th>Genre_Fantasy</th>\n",
       "      <th>Genre_Film-Noir</th>\n",
       "      <th>Genre_Horror</th>\n",
       "      <th>Genre_Musical</th>\n",
       "      <th>Genre_Mystery</th>\n",
       "      <th>Genre_Romance</th>\n",
       "      <th>Genre_Sci-Fi</th>\n",
       "      <th>Genre_Thriller</th>\n",
       "      <th>Genre_War</th>\n",
       "      <th>Genre_Western</th>\n",
       "    </tr>\n",
       "  </thead>\n",
       "  <tbody>\n",
       "    <tr>\n",
       "      <th>0</th>\n",
       "      <td>1</td>\n",
       "      <td>1193</td>\n",
       "      <td>5</td>\n",
       "      <td>978300760</td>\n",
       "      <td>F</td>\n",
       "      <td>1</td>\n",
       "      <td>10</td>\n",
       "      <td>48067</td>\n",
       "      <td>One Flew Over the Cuckoo's Nest (1975)</td>\n",
       "      <td>Drama</td>\n",
       "      <td>...</td>\n",
       "      <td>0.0</td>\n",
       "      <td>0.0</td>\n",
       "      <td>0.0</td>\n",
       "      <td>0.0</td>\n",
       "      <td>0.0</td>\n",
       "      <td>0.0</td>\n",
       "      <td>0.0</td>\n",
       "      <td>0.0</td>\n",
       "      <td>0.0</td>\n",
       "      <td>0.0</td>\n",
       "    </tr>\n",
       "    <tr>\n",
       "      <th>1</th>\n",
       "      <td>2</td>\n",
       "      <td>1193</td>\n",
       "      <td>5</td>\n",
       "      <td>978298413</td>\n",
       "      <td>M</td>\n",
       "      <td>56</td>\n",
       "      <td>16</td>\n",
       "      <td>70072</td>\n",
       "      <td>One Flew Over the Cuckoo's Nest (1975)</td>\n",
       "      <td>Drama</td>\n",
       "      <td>...</td>\n",
       "      <td>0.0</td>\n",
       "      <td>0.0</td>\n",
       "      <td>0.0</td>\n",
       "      <td>0.0</td>\n",
       "      <td>0.0</td>\n",
       "      <td>0.0</td>\n",
       "      <td>0.0</td>\n",
       "      <td>0.0</td>\n",
       "      <td>0.0</td>\n",
       "      <td>0.0</td>\n",
       "    </tr>\n",
       "    <tr>\n",
       "      <th>2</th>\n",
       "      <td>12</td>\n",
       "      <td>1193</td>\n",
       "      <td>4</td>\n",
       "      <td>978220179</td>\n",
       "      <td>M</td>\n",
       "      <td>25</td>\n",
       "      <td>12</td>\n",
       "      <td>32793</td>\n",
       "      <td>One Flew Over the Cuckoo's Nest (1975)</td>\n",
       "      <td>Drama</td>\n",
       "      <td>...</td>\n",
       "      <td>0.0</td>\n",
       "      <td>0.0</td>\n",
       "      <td>0.0</td>\n",
       "      <td>0.0</td>\n",
       "      <td>0.0</td>\n",
       "      <td>0.0</td>\n",
       "      <td>0.0</td>\n",
       "      <td>0.0</td>\n",
       "      <td>0.0</td>\n",
       "      <td>0.0</td>\n",
       "    </tr>\n",
       "    <tr>\n",
       "      <th>3</th>\n",
       "      <td>15</td>\n",
       "      <td>1193</td>\n",
       "      <td>4</td>\n",
       "      <td>978199279</td>\n",
       "      <td>M</td>\n",
       "      <td>25</td>\n",
       "      <td>7</td>\n",
       "      <td>22903</td>\n",
       "      <td>One Flew Over the Cuckoo's Nest (1975)</td>\n",
       "      <td>Drama</td>\n",
       "      <td>...</td>\n",
       "      <td>0.0</td>\n",
       "      <td>0.0</td>\n",
       "      <td>0.0</td>\n",
       "      <td>0.0</td>\n",
       "      <td>0.0</td>\n",
       "      <td>0.0</td>\n",
       "      <td>0.0</td>\n",
       "      <td>0.0</td>\n",
       "      <td>0.0</td>\n",
       "      <td>0.0</td>\n",
       "    </tr>\n",
       "    <tr>\n",
       "      <th>4</th>\n",
       "      <td>17</td>\n",
       "      <td>1193</td>\n",
       "      <td>5</td>\n",
       "      <td>978158471</td>\n",
       "      <td>M</td>\n",
       "      <td>50</td>\n",
       "      <td>1</td>\n",
       "      <td>95350</td>\n",
       "      <td>One Flew Over the Cuckoo's Nest (1975)</td>\n",
       "      <td>Drama</td>\n",
       "      <td>...</td>\n",
       "      <td>0.0</td>\n",
       "      <td>0.0</td>\n",
       "      <td>0.0</td>\n",
       "      <td>0.0</td>\n",
       "      <td>0.0</td>\n",
       "      <td>0.0</td>\n",
       "      <td>0.0</td>\n",
       "      <td>0.0</td>\n",
       "      <td>0.0</td>\n",
       "      <td>0.0</td>\n",
       "    </tr>\n",
       "  </tbody>\n",
       "</table>\n",
       "<p>5 rows × 28 columns</p>\n",
       "</div>"
      ],
      "text/plain": [
       "   user_id  movie_id  rating  timestamp gender  age  occupation    zip  \\\n",
       "0        1      1193       5  978300760      F    1          10  48067   \n",
       "1        2      1193       5  978298413      M   56          16  70072   \n",
       "2       12      1193       4  978220179      M   25          12  32793   \n",
       "3       15      1193       4  978199279      M   25           7  22903   \n",
       "4       17      1193       5  978158471      M   50           1  95350   \n",
       "\n",
       "                                    title genres      ...        \\\n",
       "0  One Flew Over the Cuckoo's Nest (1975)  Drama      ...         \n",
       "1  One Flew Over the Cuckoo's Nest (1975)  Drama      ...         \n",
       "2  One Flew Over the Cuckoo's Nest (1975)  Drama      ...         \n",
       "3  One Flew Over the Cuckoo's Nest (1975)  Drama      ...         \n",
       "4  One Flew Over the Cuckoo's Nest (1975)  Drama      ...         \n",
       "\n",
       "   Genre_Fantasy  Genre_Film-Noir  Genre_Horror  Genre_Musical  Genre_Mystery  \\\n",
       "0            0.0              0.0           0.0            0.0            0.0   \n",
       "1            0.0              0.0           0.0            0.0            0.0   \n",
       "2            0.0              0.0           0.0            0.0            0.0   \n",
       "3            0.0              0.0           0.0            0.0            0.0   \n",
       "4            0.0              0.0           0.0            0.0            0.0   \n",
       "\n",
       "   Genre_Romance  Genre_Sci-Fi  Genre_Thriller  Genre_War  Genre_Western  \n",
       "0            0.0           0.0             0.0        0.0            0.0  \n",
       "1            0.0           0.0             0.0        0.0            0.0  \n",
       "2            0.0           0.0             0.0        0.0            0.0  \n",
       "3            0.0           0.0             0.0        0.0            0.0  \n",
       "4            0.0           0.0             0.0        0.0            0.0  \n",
       "\n",
       "[5 rows x 28 columns]"
      ]
     },
     "execution_count": 61,
     "metadata": {},
     "output_type": "execute_result"
    }
   ],
   "source": [
    "# isolate movies with an genre_action = 0 indicator (all movies without the Action genre)\n",
    "non_action_genre = merged_data_genre_ind.loc[merged_data_genre_ind['Genre_Action'] == 0]\n",
    "# view dataframe of all movies with action genre = 1\n",
    "non_action_genre.head()"
   ]
  },
  {
   "cell_type": "code",
   "execution_count": 62,
   "metadata": {
    "scrolled": true
   },
   "outputs": [
    {
     "data": {
      "text/html": [
       "<div>\n",
       "<style>\n",
       "    .dataframe thead tr:only-child th {\n",
       "        text-align: right;\n",
       "    }\n",
       "\n",
       "    .dataframe thead th {\n",
       "        text-align: left;\n",
       "    }\n",
       "\n",
       "    .dataframe tbody tr th {\n",
       "        vertical-align: top;\n",
       "    }\n",
       "</style>\n",
       "<table border=\"1\" class=\"dataframe\">\n",
       "  <thead>\n",
       "    <tr>\n",
       "      <th></th>\n",
       "      <th>std</th>\n",
       "      <th>len</th>\n",
       "    </tr>\n",
       "    <tr>\n",
       "      <th></th>\n",
       "      <th>rating</th>\n",
       "      <th>rating</th>\n",
       "    </tr>\n",
       "    <tr>\n",
       "      <th>Genre_Action</th>\n",
       "      <th></th>\n",
       "      <th></th>\n",
       "    </tr>\n",
       "  </thead>\n",
       "  <tbody>\n",
       "    <tr>\n",
       "      <th>0.0</th>\n",
       "      <td>1.109656</td>\n",
       "      <td>742752</td>\n",
       "    </tr>\n",
       "  </tbody>\n",
       "</table>\n",
       "</div>"
      ],
      "text/plain": [
       "                   std     len\n",
       "                rating  rating\n",
       "Genre_Action                  \n",
       "0.0           1.109656  742752"
      ]
     },
     "execution_count": 62,
     "metadata": {},
     "output_type": "execute_result"
    }
   ],
   "source": [
    "# create pivot table with standard devation of rating for all movies without the action genre indicator \n",
    "ratings_stdev_for_non_action = pd.pivot_table(non_action_genre,index=['Genre_Action'], values=['rating'],aggfunc=[np.std, len])\n",
    "# sort the standard deviation of rating by genre in ascending order\n",
    "ratings_stdev_for_non_action.sort_values(('std', 'rating'), ascending=True)"
   ]
  },
  {
   "cell_type": "markdown",
   "metadata": {},
   "source": [
    "Conjecture 3: Is proven false by the above data.  \n",
    "===\n",
    "However, it is worth noting that even though the standard deviation for movies with the Action genre is slightly higher (0.023815) than all Non-Action genre movies, the sample size for Action genre movies is approximately 1/3 of the sample size of all Non-Action movies.  \n",
    "===\n",
    "A larger sample size for movies with the Action genre could have an effect on the calculation for standard deviation.  \n",
    "===\n",
    "* The standard deviation for movies with an 'Action' genre indicator is: 1.133471\t(based on sample size of 257,457)\n",
    "\n",
    "* The standard deviation for movies without an 'Action' genre indicator is: 1.109656 (based on sample size of 742,752)\n"
   ]
  },
  {
   "cell_type": "markdown",
   "metadata": {},
   "source": [
    " ---"
   ]
  },
  {
   "cell_type": "markdown",
   "metadata": {},
   "source": [
    "# Problem 2 (20 points total): Expand our investigation to histograms\n",
    "\n",
    "**An obvious issue with any inferences drawn from Problem 1 is that we did not consider how many times a movie was rated.** \n",
    "* (2 points) Plot a histogram of the ratings of all movies.\n",
    "* (2 points) Plot a histogram of the *number* of ratings each movie recieved.\n",
    "* (2 points) Plot a histogram of the *average rating* for each movie.\n",
    "* (6 points) Plot a histogram of the *average rating* for movies which are rated more than 100 times.\n",
    "    * What do you observe about the tails of the histogram where you use all the movies versus the one where you only use movies rated more than 100 times?\n",
    "    * Which highly rated movies would you trust are actually good?  Those rated more than 100 times or those rated less than 100 times?\n",
    "* (8 points) Make some conjectures about the distribution of ratings? Support your answers with data!  \n",
    "    *  For example, what age range do you think has more extreme ratings?  Do you think children are more or less likely to rate a movie 1 or 5?\n",
    "    *  Be sure to come up with your own conjectures and support them with data!"
   ]
  },
  {
   "cell_type": "code",
   "execution_count": 63,
   "metadata": {
    "scrolled": false
   },
   "outputs": [
    {
     "data": {
      "image/png": "[encoded data removed]",
      "text/plain": [
       "<matplotlib.figure.Figure at 0x29cad87e668>"
      ]
     },
     "metadata": {},
     "output_type": "display_data"
    }
   ],
   "source": [
    "# Plot a histogram of the ratings of all movies.\n",
    "import matplotlib.pyplot as plt\n",
    "%matplotlib inline\n",
    "n=6\n",
    "bins=np.arange(0,n+2,1)\n",
    "merged_data.rating.hist(bins=bins[:-1], align='left', rwidth=.98)\n",
    "plt.xlabel('Number of Ratings')\n",
    "plt.ylabel('Number of Movies')\n",
    "plt.grid=True\n",
    "plt.show()"
   ]
  },
  {
   "cell_type": "code",
   "execution_count": 64,
   "metadata": {
    "scrolled": true
   },
   "outputs": [
    {
     "data": {
      "text/plain": [
       "<matplotlib.text.Text at 0x29cc4c2c320>"
      ]
     },
     "execution_count": 64,
     "metadata": {},
     "output_type": "execute_result"
    },
    {
     "data": {
      "image/png": "[encoded data removed]",
      "text/plain": [
       "<matplotlib.figure.Figure at 0x29cc01b5550>"
      ]
     },
     "metadata": {},
     "output_type": "display_data"
    }
   ],
   "source": [
    "# Plot a histogram of the number of ratings each movie recieved.\n",
    "%matplotlib inline\n",
    "pivot_table = merged_data.pivot_table('rating', index='movie_id', aggfunc='count')\n",
    "pivot_table.hist()\n",
    "plt.xlabel(\"number of ratings\")\n",
    "plt.ylabel(\"number of movies\")"
   ]
  },
  {
   "cell_type": "code",
   "execution_count": 65,
   "metadata": {
    "scrolled": true
   },
   "outputs": [
    {
     "data": {
      "text/plain": [
       "<matplotlib.text.Text at 0x29cc4cf6ba8>"
      ]
     },
     "execution_count": 65,
     "metadata": {},
     "output_type": "execute_result"
    },
    {
     "data": {
      "image/png": "[encoded data removed]",
      "text/plain": [
       "<matplotlib.figure.Figure at 0x29cc4ce3c18>"
      ]
     },
     "metadata": {},
     "output_type": "display_data"
    }
   ],
   "source": [
    "# Plot a histogram of the average rating for each movie.\n",
    "%matplotlib inline\n",
    "avg_rating_pivot_table = merged_data.pivot_table('rating', index='movie_id', aggfunc='mean')\n",
    "avg_rating_pivot_table.hist()\n",
    "plt.xlabel('Ratings')\n",
    "plt.ylabel('Number of Movies')"
   ]
  },
  {
   "cell_type": "code",
   "execution_count": 66,
   "metadata": {},
   "outputs": [
    {
     "data": {
      "text/plain": [
       "3706"
      ]
     },
     "execution_count": 66,
     "metadata": {},
     "output_type": "execute_result"
    }
   ],
   "source": [
    "# The number of movies plotted in the above histogram (ALL MOVIE RATINGS)\n",
    "len(avg_rating_pivot_table)"
   ]
  },
  {
   "cell_type": "code",
   "execution_count": 67,
   "metadata": {
    "scrolled": true
   },
   "outputs": [
    {
     "data": {
      "text/plain": [
       "<matplotlib.text.Text at 0x29cc4c14048>"
      ]
     },
     "execution_count": 67,
     "metadata": {},
     "output_type": "execute_result"
    },
    {
     "data": {
      "image/png": "[encoded data removed]",
      "text/plain": [
       "<matplotlib.figure.Figure at 0x29cc4d39be0>"
      ]
     },
     "metadata": {},
     "output_type": "display_data"
    }
   ],
   "source": [
    "# Plot a histogram of the average rating for movies which are rated more than 100 times.\n",
    "%matplotlib inline\n",
    "rated_more_than_100_times = merged_data.groupby('movie_id').filter(lambda x: len(x) > 100)\n",
    "table = rated_more_than_100_times.pivot_table('rating', index='movie_id', aggfunc='mean')\n",
    "table.hist()\n",
    "plt.xlabel('Ratings')\n",
    "plt.ylabel('Number of Movies')"
   ]
  },
  {
   "cell_type": "code",
   "execution_count": 68,
   "metadata": {},
   "outputs": [
    {
     "data": {
      "text/plain": [
       "2006"
      ]
     },
     "execution_count": 68,
     "metadata": {},
     "output_type": "execute_result"
    }
   ],
   "source": [
    "# The number of movies plotted for the above histogram (MORE THAN 100 RATINGS)\n",
    "len(table)"
   ]
  },
  {
   "cell_type": "code",
   "execution_count": 69,
   "metadata": {},
   "outputs": [
    {
     "data": {
      "text/plain": [
       "<matplotlib.text.Text at 0x29c81946320>"
      ]
     },
     "execution_count": 69,
     "metadata": {},
     "output_type": "execute_result"
    },
    {
     "data": {
      "image/png": "[encoded data removed]",
      "text/plain": [
       "<matplotlib.figure.Figure at 0x29c877bccc0>"
      ]
     },
     "metadata": {},
     "output_type": "display_data"
    }
   ],
   "source": [
    "# Plot a histogram of the average rating for movies which are rated less than or equal to 100 times.\n",
    "%matplotlib inline\n",
    "rated_less_than_100_times = merged_data.groupby('movie_id').filter(lambda x: len(x) <= 100)\n",
    "table_less_100 = rated_less_than_100_times.pivot_table('rating', index='movie_id', aggfunc='mean')\n",
    "table_less_100.hist()\n",
    "plt.xlabel('Ratings')\n",
    "plt.ylabel('Number of Movies')"
   ]
  },
  {
   "cell_type": "code",
   "execution_count": 70,
   "metadata": {},
   "outputs": [
    {
     "data": {
      "text/plain": [
       "1700"
      ]
     },
     "execution_count": 70,
     "metadata": {},
     "output_type": "execute_result"
    }
   ],
   "source": [
    "# The number of movies plotted for the above histogram (LESS THAN OR EQUAL TO 100 RATINGS)\n",
    "len(table_less_100)"
   ]
  },
  {
   "cell_type": "markdown",
   "metadata": {},
   "source": [
    "What do you observe about the tails of the histogram where you use all the movies versus the one where you only use movies rated more than 100 times?\n",
    "===\n",
    "\n",
    "   By observation about the tails of the histogram where I use all the movies versus the one where I use movies rated more than 100 times, I find histogram of movies with more than 100 reviews has fewer data points in the left and right tails; fewer outliers.\n",
    "\n",
    "Which highly rated movies would you trust are actually good? Those rated more than 100 times or those rated less than 100 times?\n",
    "===\n",
    "\n",
    "   After observing the histograms of all the movies, movies rated more than 100 times, and movies rated less than 100 times, we would trust the movie ratings in the data frame where there are more than 100 reviews.Movies with fewer than 100 reviews appear to have more outlier ratings and the larger the sample size, in general, the more accurate the results.\n"
   ]
  },
  {
   "cell_type": "markdown",
   "metadata": {
    "collapsed": true
   },
   "source": [
    "Conjecture 1: Reviewers in science, technology, engineering, education & math (STEEM) occupations have more extreme ratings than non-STEEM occupations.\n",
    "===="
   ]
  },
  {
   "cell_type": "code",
   "execution_count": 72,
   "metadata": {
    "scrolled": true
   },
   "outputs": [
    {
     "data": {
      "text/plain": [
       "<matplotlib.text.Text at 0x29c80aa16d8>"
      ]
     },
     "execution_count": 72,
     "metadata": {},
     "output_type": "execute_result"
    },
    {
     "data": {
      "image/png": "[encoded data removed]",
      "text/plain": [
       "<matplotlib.figure.Figure at 0x29cc01cc588>"
      ]
     },
     "metadata": {},
     "output_type": "display_data"
    }
   ],
   "source": [
    "# plot histogram for average rating by occupation description - which occupation more likey to have extreme ratings 1 or 5 ?\n",
    "from matplotlib import  pylab\n",
    "plt.rcParams['figure.figsize'] = (8, 4)\n",
    "table = conjecture_merged_data.pivot_table('rating', index=['movie_id','steem_ind'], aggfunc='mean')\n",
    "#print(table[])\n",
    "#help(table.hist)\n",
    "table.hist(bins=30, by= 'steem_ind', sharex=False, sharey=False)\n",
    "pylab.xlabel('Ratings')\n",
    "pylab.ylabel('Number of Ratings')"
   ]
  },
  {
   "cell_type": "markdown",
   "metadata": {},
   "source": [
    "Conjecture 1: Is proven true by the above data.  Reviewers in science, technology, engineering, education & math (STEEM) occupations have more extreme ratings than non-STEEM occupations.  The number of extreme ratings is approximately double when compared to Non-STEEM occupations.\n",
    "==="
   ]
  },
  {
   "cell_type": "markdown",
   "metadata": {},
   "source": [
    "Conjecture 2: Reviewers from the West region are more likely to have extreme ratings than all other regions.\n",
    "==="
   ]
  },
  {
   "cell_type": "code",
   "execution_count": 73,
   "metadata": {
    "scrolled": false
   },
   "outputs": [
    {
     "data": {
      "text/plain": [
       "<matplotlib.text.Text at 0x29c80d9c0b8>"
      ]
     },
     "execution_count": 73,
     "metadata": {},
     "output_type": "execute_result"
    },
    {
     "data": {
      "image/png": "[encoded data removed]",
      "text/plain": [
       "<matplotlib.figure.Figure at 0x29c80c3e7b8>"
      ]
     },
     "metadata": {},
     "output_type": "display_data"
    }
   ],
   "source": [
    "# plot histogram for average rating by region\n",
    "plt.rcParams['figure.figsize'] = (10, 15)\n",
    "table2 = conjecture_merged_data.pivot_table('rating', index=['movie_id','us_census_region'], aggfunc='mean')\n",
    "#print(table2)\n",
    "table2.hist(bins=30, by='us_census_region', sharex=False, sharey=False)\n",
    "plt.xlabel('Ratings')\n",
    "plt.ylabel('Number of Ratings')"
   ]
  },
  {
   "cell_type": "markdown",
   "metadata": {},
   "source": [
    "Conjecture 2: \"Reviewers from the West region are more likely to have extreme ratings than all other regions\" is partially true.  Reviewers from the West region are more likely to give a review of 1-star compared to all other regions.\n",
    "==="
   ]
  },
  {
   "cell_type": "markdown",
   "metadata": {},
   "source": [
    "---"
   ]
  },
  {
   "cell_type": "markdown",
   "metadata": {},
   "source": [
    "Conjecture 3: Male and Females have similar extremities in ratings for every age group.\n",
    "=="
   ]
  },
  {
   "cell_type": "code",
   "execution_count": 86,
   "metadata": {},
   "outputs": [
    {
     "data": {
      "text/plain": [
       "<matplotlib.text.Text at 0x1e5ced87e48>"
      ]
     },
     "execution_count": 86,
     "metadata": {},
     "output_type": "execute_result"
    },
    {
     "data": {
      "image/png": "[encoded data removed]",
      "text/plain": [
       "<matplotlib.figure.Figure at 0x1e5bef54c88>"
      ]
     },
     "metadata": {},
     "output_type": "display_data"
    }
   ],
   "source": [
    "\n",
    "%matplotlib inline\n",
    "plt.rcParams['figure.figsize'] = (15, 15)\n",
    "table3 = conjecture_merged_data.pivot_table('rating', index=['movie_id','age_group'], columns='gender', aggfunc='mean')\n",
    "table3.hist(bins=30, by='age_group', color=['black','red'],label=['M','F'],sharex=False, sharey=False)\n",
    "pylab.xlabel('Ratings')\n",
    "pylab.ylabel('Number of Ratings')"
   ]
  },
  {
   "cell_type": "markdown",
   "metadata": {},
   "source": [
    "We separated the data into 3 broader age groups. In each group, we further separated and plotted data for both genders.(Black- Men | Red-Female). This was specifically done to remove any gender-bias that could have led to misleading results.\n",
    "* 1) We observe that for age group 18-49, Men and Women ratings have close to normal distribution, with a couple of spikes at both the ends in Mens ratings.\n",
    "* 2) We observe that for age group Under 18, ratings for movies below 3 are almost similar. However, spikes after 3 indicate a sharp difference between ratings by men and women. This probably points to the fact that for mediocre movies (Below 3), men and women rate somewhat equally, however for good and exceptional movies (above 3), men have different opinion than that of females. \n",
    "* 3) We observe that for age group above 50, the extremeties through the range of ratings is quite evident i.e. lot of dissimilar opinions.\n",
    "\n",
    "Hence, our conjecture that \"Male and Females have similar extremities in ratings for every age group\" is contradicted as it can be seen that except age group 18-49, both the other age groups have wide extremities. "
   ]
  },
  {
   "cell_type": "markdown",
   "metadata": {},
   "source": [
    "*------------------------\n",
    "\n",
    "# Problem 3: (20 points total)\n",
    "## Correlation:  Men versus women\n",
    "\n",
    "Let look more closely at the relationship between the pieces of data we have."
   ]
  },
  {
   "cell_type": "markdown",
   "metadata": {},
   "source": [
    "* (2 points) Make a scatter plot of men versus women and their mean rating for every movie.\n",
    "* (2 points) Make a scatter plot of men versus women and their mean rating for movies rated more than 200 times.\n",
    "* (6 points) Compute the *correlation coefficent* between the ratings of men and women.\n",
    "    * What do you observe?\n",
    "    * Are the ratings similiar or not? Support your answer with data!\n",
    "* (10 points) Conjecture under what circumstances the rating given by one gender can be used to predict the rating given by the other gender.\n",
    "    * For example, are men and women more similar when they are younger or older?\n",
    "    * Be sure to come up with your own conjectures and support them with data!"
   ]
  },
  {
   "cell_type": "code",
   "execution_count": 91,
   "metadata": {},
   "outputs": [
    {
     "data": {
      "image/png": "[encoded data removed]",
      "text/plain": [
       "<matplotlib.figure.Figure at 0x21d107c52b0>"
      ]
     },
     "metadata": {},
     "output_type": "display_data"
    }
   ],
   "source": [
    "# Make a scatter plot of men versus women and their mean rating for every movie.\n",
    "from matplotlib import  pylab\n",
    "table_gender = merged_data.pivot_table('rating', index='movie_id', columns='gender', aggfunc='mean')\n",
    "\n",
    "plt.rcParams['figure.figsize'] = (6, 6)\n",
    "plt.xlabel=('Rating from Male')\n",
    "plt.ylabel=('Rating from Female')\n",
    "plt.title=('Male versus Female Rating')\n",
    "#plt.grid(True)\n",
    "plt.scatter(table_gender['M'], table_gender['F'])\n",
    "pylab.xlabel(\"Rating from Male\")\n",
    "pylab.ylabel(\"Rating from Female\")\n",
    "plt.show()"
   ]
  },
  {
   "cell_type": "code",
   "execution_count": 74,
   "metadata": {},
   "outputs": [
    {
     "data": {
      "image/png": "[encoded data removed]",
      "text/plain": [
       "<matplotlib.figure.Figure at 0x21d0a690518>"
      ]
     },
     "metadata": {},
     "output_type": "display_data"
    }
   ],
   "source": [
    "#Make a scatter plot of men versus women and their mean rating for movies rated more than 200 times.\n",
    "rated_more_than_200_times = merged_data.groupby('movie_id').filter(lambda x: len(x) > 200)\n",
    "table_gender_200 = rated_more_than_100_times.pivot_table('rating', index='movie_id', columns='gender', aggfunc='mean')\n",
    "plt.rcParams['figure.figsize'] = (6, 6)\n",
    "plt.scatter(table_gender_200['M'], table_gender_200['F'])\n",
    "pylab.xlabel(\"Rating from Male\")\n",
    "pylab.ylabel(\"Rating from Female\")\n",
    "plt.show()"
   ]
  },
  {
   "cell_type": "markdown",
   "metadata": {},
   "source": [
    "Compute the correlation coefficent between the average ratings of men and women.\n",
    "==="
   ]
  },
  {
   "cell_type": "code",
   "execution_count": 75,
   "metadata": {
    "scrolled": true
   },
   "outputs": [
    {
     "data": {
      "text/html": [
       "<div>\n",
       "<table border=\"1\" class=\"dataframe\">\n",
       "  <thead>\n",
       "    <tr style=\"text-align: right;\">\n",
       "      <th>gender</th>\n",
       "      <th>F</th>\n",
       "      <th>M</th>\n",
       "    </tr>\n",
       "    <tr>\n",
       "      <th>gender</th>\n",
       "      <th></th>\n",
       "      <th></th>\n",
       "    </tr>\n",
       "  </thead>\n",
       "  <tbody>\n",
       "    <tr>\n",
       "      <th>F</th>\n",
       "      <td>1.00000</td>\n",
       "      <td>0.76319</td>\n",
       "    </tr>\n",
       "    <tr>\n",
       "      <th>M</th>\n",
       "      <td>0.76319</td>\n",
       "      <td>1.00000</td>\n",
       "    </tr>\n",
       "  </tbody>\n",
       "</table>\n",
       "</div>"
      ],
      "text/plain": [
       "gender        F        M\n",
       "gender                  \n",
       "F       1.00000  0.76319\n",
       "M       0.76319  1.00000"
      ]
     },
     "execution_count": 75,
     "metadata": {},
     "output_type": "execute_result"
    }
   ],
   "source": [
    "# Compute the correlation coefficent between the average ratings of men and women.\n",
    "table_gender.corr()"
   ]
  },
  {
   "cell_type": "code",
   "execution_count": 76,
   "metadata": {},
   "outputs": [
    {
     "data": {
      "text/html": [
       "<div>\n",
       "<table border=\"1\" class=\"dataframe\">\n",
       "  <thead>\n",
       "    <tr style=\"text-align: right;\">\n",
       "      <th>gender</th>\n",
       "      <th>F</th>\n",
       "      <th>M</th>\n",
       "    </tr>\n",
       "    <tr>\n",
       "      <th>gender</th>\n",
       "      <th></th>\n",
       "      <th></th>\n",
       "    </tr>\n",
       "  </thead>\n",
       "  <tbody>\n",
       "    <tr>\n",
       "      <th>F</th>\n",
       "      <td>0.510240</td>\n",
       "      <td>0.351683</td>\n",
       "    </tr>\n",
       "    <tr>\n",
       "      <th>M</th>\n",
       "      <td>0.351683</td>\n",
       "      <td>0.470851</td>\n",
       "    </tr>\n",
       "  </tbody>\n",
       "</table>\n",
       "</div>"
      ],
      "text/plain": [
       "gender         F         M\n",
       "gender                    \n",
       "F       0.510240  0.351683\n",
       "M       0.351683  0.470851"
      ]
     },
     "execution_count": 76,
     "metadata": {},
     "output_type": "execute_result"
    }
   ],
   "source": [
    "# Compute the covariance between the average ratings of men and women.\n",
    "# Covariance - a measure indicating the extent to which two variables change in tandem.\n",
    "# Correlation - a measure that indicates how strongly two variables are related.\n",
    "table_gender.cov()"
   ]
  },
  {
   "cell_type": "markdown",
   "metadata": {},
   "source": [
    "Compute the correlation coefficent between the average ratings of men and women where movies are rated more than 200 times.\n",
    "==="
   ]
  },
  {
   "cell_type": "code",
   "execution_count": 77,
   "metadata": {},
   "outputs": [
    {
     "data": {
      "text/html": [
       "<div>\n",
       "<table border=\"1\" class=\"dataframe\">\n",
       "  <thead>\n",
       "    <tr style=\"text-align: right;\">\n",
       "      <th>gender</th>\n",
       "      <th>F</th>\n",
       "      <th>M</th>\n",
       "    </tr>\n",
       "    <tr>\n",
       "      <th>gender</th>\n",
       "      <th></th>\n",
       "      <th></th>\n",
       "    </tr>\n",
       "  </thead>\n",
       "  <tbody>\n",
       "    <tr>\n",
       "      <th>F</th>\n",
       "      <td>1.000000</td>\n",
       "      <td>0.920446</td>\n",
       "    </tr>\n",
       "    <tr>\n",
       "      <th>M</th>\n",
       "      <td>0.920446</td>\n",
       "      <td>1.000000</td>\n",
       "    </tr>\n",
       "  </tbody>\n",
       "</table>\n",
       "</div>"
      ],
      "text/plain": [
       "gender         F         M\n",
       "gender                    \n",
       "F       1.000000  0.920446\n",
       "M       0.920446  1.000000"
      ]
     },
     "execution_count": 77,
     "metadata": {},
     "output_type": "execute_result"
    }
   ],
   "source": [
    "# Compute the correlation coefficent between the average ratings of men and women where movies are rated more than 200 times.\n",
    "table_gender_200.corr()"
   ]
  },
  {
   "cell_type": "code",
   "execution_count": 78,
   "metadata": {},
   "outputs": [
    {
     "data": {
      "text/html": [
       "<div>\n",
       "<table border=\"1\" class=\"dataframe\">\n",
       "  <thead>\n",
       "    <tr style=\"text-align: right;\">\n",
       "      <th>gender</th>\n",
       "      <th>F</th>\n",
       "      <th>M</th>\n",
       "    </tr>\n",
       "    <tr>\n",
       "      <th>gender</th>\n",
       "      <th></th>\n",
       "      <th></th>\n",
       "    </tr>\n",
       "  </thead>\n",
       "  <tbody>\n",
       "    <tr>\n",
       "      <th>F</th>\n",
       "      <td>0.34145</td>\n",
       "      <td>0.315180</td>\n",
       "    </tr>\n",
       "    <tr>\n",
       "      <th>M</th>\n",
       "      <td>0.31518</td>\n",
       "      <td>0.343394</td>\n",
       "    </tr>\n",
       "  </tbody>\n",
       "</table>\n",
       "</div>"
      ],
      "text/plain": [
       "gender        F         M\n",
       "gender                   \n",
       "F       0.34145  0.315180\n",
       "M       0.31518  0.343394"
      ]
     },
     "execution_count": 78,
     "metadata": {},
     "output_type": "execute_result"
    }
   ],
   "source": [
    "# Compute the covariance between the average ratings of men and women where movies are rated more than 200 times.\n",
    "# Covariance - a measure indicating the extent to which two variables change in tandem.\n",
    "# Correlation - a measure that indicates how strongly two variables are related.\n",
    "table_gender_200.cov()"
   ]
  },
  {
   "cell_type": "markdown",
   "metadata": {},
   "source": [
    " * What do you observe?\n",
    " ==\n",
    " * Are the ratings similiar or not? Support your answer with data!\n",
    " ==\n",
    " *  Correlations can tell us about the direction, and the degree (strength) of the relationship between two variables. Scatterplots can also tell us about the form (shape) of the relationship.\n",
    " \n",
    " * According to figure 1:\n",
    "    \n",
    "    * \tThe relationship between mean ratings of men and women is linear, and positive, though not perfect. (Correlation Coefficient= 0.76319). \n",
    "    * \tAlso, there is more variation (spread) between the ratings provided by men and women which points to cases when mean ratings for movies were relatively different between men and women i.e. deviation from the positive linear relationship. \n",
    "    * \tAdditionally, there are observations where women rated significantly low for movies which men rated very high. (Points lying on the X-Axis)\n",
    "\n",
    " * According to figure 2\n",
    "    * \tThe relationship between ratings of men and women is strong, linear, and positive, though not perfect. (Correlation Coefficient= 0.918361). \n",
    "    *  \tAlso, there is relatively lesser variation (spread) between the ratings provided by men and women i.e. deviation from the positive linear relationship is less. \n",
    "    *  \tAdditionally, there are no observations where women rated significantly low for movies which men rated very high. (No Points lying on the X-Axis)\n",
    "    \n",
    "    \n",
    "   * Observations based on pointers derived above for Figure 1 and Figure 2\n",
    "        * 1)  It seems that for movies rated less than 200 times, there is more deviation in the mean ratings given by men and women. Apparently, these points could be movie genre which men liked and women disliked or which men disliked and women liked, and only constitute a small number of observations. \n",
    "        * 2) For movies rated more than 200 times, it seems that those movies were equally liked by men and women.\n",
    "        \n",
    "* Therefore, we can say that the movie ratings are similar. However, the question of how much similar is answered by the correlation coefficienct values. The more the correlation coefficienct, the more predictable or similar the rating are.\n",
    "\n"
   ]
  },
  {
   "cell_type": "markdown",
   "metadata": {},
   "source": [
    "Conjecture 1: Are Movie Ratings for Men and Women more or less similar for different occupations?\n",
    "==="
   ]
  },
  {
   "cell_type": "code",
   "execution_count": 79,
   "metadata": {
    "collapsed": true
   },
   "outputs": [],
   "source": [
    "plt.rcParams['figure.figsize'] = (6, 6)\n",
    "conjecture_merged_data_genre_ind = pd.merge(left=conjecture_merged_data, right=movies_windic, how='inner', on=['movie_id'])"
   ]
  },
  {
   "cell_type": "code",
   "execution_count": 80,
   "metadata": {},
   "outputs": [
    {
     "data": {
      "image/png": "[encoded data removed]",
      "text/plain": [
       "<matplotlib.figure.Figure at 0x21d0a666400>"
      ]
     },
     "metadata": {},
     "output_type": "display_data"
    }
   ],
   "source": [
    "#Make a scatter plot of men versus women and their mean rating grouped by occupation description\n",
    "table_gender_occupation =  conjecture_merged_data_genre_ind.pivot_table('rating', index='occupation', columns='gender', aggfunc='mean')\n",
    "#plt.xlabel=('Rating from Male')\n",
    "#plt.ylabel=('Rating from Female')\n",
    "#plt.title=('Male versus Female Rating - Across Occupations')\n",
    "#plt.grid(True)\n",
    "plt.scatter(table_gender_occupation['M'], table_gender_occupation['F'])\n",
    "pylab.xlabel(\"Rating from Male\")\n",
    "pylab.ylabel(\"Rating from Female\")\n",
    "plt.show()"
   ]
  },
  {
   "cell_type": "code",
   "execution_count": 81,
   "metadata": {},
   "outputs": [
    {
     "data": {
      "text/html": [
       "<div>\n",
       "<table border=\"1\" class=\"dataframe\">\n",
       "  <thead>\n",
       "    <tr style=\"text-align: right;\">\n",
       "      <th>gender</th>\n",
       "      <th>F</th>\n",
       "      <th>M</th>\n",
       "    </tr>\n",
       "    <tr>\n",
       "      <th>gender</th>\n",
       "      <th></th>\n",
       "      <th></th>\n",
       "    </tr>\n",
       "  </thead>\n",
       "  <tbody>\n",
       "    <tr>\n",
       "      <th>F</th>\n",
       "      <td>1.000000</td>\n",
       "      <td>0.437431</td>\n",
       "    </tr>\n",
       "    <tr>\n",
       "      <th>M</th>\n",
       "      <td>0.437431</td>\n",
       "      <td>1.000000</td>\n",
       "    </tr>\n",
       "  </tbody>\n",
       "</table>\n",
       "</div>"
      ],
      "text/plain": [
       "gender         F         M\n",
       "gender                    \n",
       "F       1.000000  0.437431\n",
       "M       0.437431  1.000000"
      ]
     },
     "execution_count": 81,
     "metadata": {},
     "output_type": "execute_result"
    }
   ],
   "source": [
    "table_gender_occupation.corr()"
   ]
  },
  {
   "cell_type": "markdown",
   "metadata": {},
   "source": [
    "Conjecture 2: Are Movie Ratings for Men and Women more or less similar for movies with the Action genre indictor?\n",
    "==="
   ]
  },
  {
   "cell_type": "code",
   "execution_count": 82,
   "metadata": {},
   "outputs": [
    {
     "data": {
      "text/plain": [
       "<matplotlib.text.Text at 0x21d1c0b0278>"
      ]
     },
     "execution_count": 82,
     "metadata": {},
     "output_type": "execute_result"
    },
    {
     "data": {
      "image/png": "[encoded data removed]",
      "text/plain": [
       "<matplotlib.figure.Figure at 0x21d1c053cf8>"
      ]
     },
     "metadata": {},
     "output_type": "display_data"
    }
   ],
   "source": [
    "#Make a scatter plot of men versus women and their mean rating by Action movie genre \n",
    "gender_action_genre = conjecture_merged_data_genre_ind.loc[conjecture_merged_data_genre_ind['Genre_Action'] == 1]\n",
    "table_gender_action_genre =  gender_action_genre.pivot_table('rating', index='movie_id', columns='gender', aggfunc='mean')\n",
    "#table_gender_action_genre  \n",
    "plt.title=('Male versus Female Rating - Movies with Action genre indicator')\n",
    "plt.scatter(table_gender_action_genre['M'], table_gender_action_genre['F'])\n",
    "pylab.xlabel(\"Rating form Male\")\n",
    "pylab.ylabel(\"Rating from Female\")\n",
    "#plt.show()"
   ]
  },
  {
   "cell_type": "code",
   "execution_count": 83,
   "metadata": {},
   "outputs": [
    {
     "data": {
      "text/html": [
       "<div>\n",
       "<table border=\"1\" class=\"dataframe\">\n",
       "  <thead>\n",
       "    <tr style=\"text-align: right;\">\n",
       "      <th>gender</th>\n",
       "      <th>F</th>\n",
       "      <th>M</th>\n",
       "    </tr>\n",
       "    <tr>\n",
       "      <th>gender</th>\n",
       "      <th></th>\n",
       "      <th></th>\n",
       "    </tr>\n",
       "  </thead>\n",
       "  <tbody>\n",
       "    <tr>\n",
       "      <th>F</th>\n",
       "      <td>1.000000</td>\n",
       "      <td>0.840376</td>\n",
       "    </tr>\n",
       "    <tr>\n",
       "      <th>M</th>\n",
       "      <td>0.840376</td>\n",
       "      <td>1.000000</td>\n",
       "    </tr>\n",
       "  </tbody>\n",
       "</table>\n",
       "</div>"
      ],
      "text/plain": [
       "gender         F         M\n",
       "gender                    \n",
       "F       1.000000  0.840376\n",
       "M       0.840376  1.000000"
      ]
     },
     "execution_count": 83,
     "metadata": {},
     "output_type": "execute_result"
    }
   ],
   "source": [
    "table_gender_action_genre.corr()"
   ]
  },
  {
   "cell_type": "markdown",
   "metadata": {},
   "source": [
    "*------------------------\n",
    "\n",
    "# Problem 4: (20 points total)\n",
    "## Open Ended Question:  Business Intelligence"
   ]
  },
  {
   "cell_type": "markdown",
   "metadata": {},
   "source": [
    "* Do any of your conjectures in Problems 1, 2, and 3 provide insights that a movie company might be interested in?\n",
    "* Propose a business question that you think this data can answer.\n",
    "* Suppose you are a Data Sciencetist at a movie company.  **Convince your boss that your conjecture is correct!**"
   ]
  },
  {
   "cell_type": "markdown",
   "metadata": {},
   "source": [
    "Using MovieLens 1M Dataset to aid Movie Production Houses in data driven decision making: We recommend that the movie company DreamWorks create a minimally viable product, in the form of a movie trailer, for an action genre movie. \n",
    "\n",
    "Further analysis was done through IMDB and Youtube to support our conjectures.\n",
    "\n",
    "Code below is the calculation for rating metrics from MovieLens data that correspond to the metrics used in the IMDB website.\n",
    "\n",
    "For detailed explaination, please refer the report."
   ]
  },
  {
   "cell_type": "code",
   "execution_count": 284,
   "metadata": {},
   "outputs": [
    {
     "name": "stdout",
     "output_type": "stream",
     "text": [
      "4.33735393894\n",
      "5.0\n"
     ]
    },
    {
     "data": {
      "image/png": "[encoded data removed]",
      "text/plain": [
       "<matplotlib.figure.Figure at 0x16327ac27b8>"
      ]
     },
     "metadata": {},
     "output_type": "display_data"
    }
   ],
   "source": [
    "#Select all the observations (Users) who rated the movie Saving Private Ryan (1998).\n",
    "\n",
    "movie =merged_data[merged_data.movie_id == 2028]\n",
    "#print(movie)\n",
    "averageRating = movie[\"rating\"]\n",
    "#help(averageRating)\n",
    "print(averageRating.mean())\n",
    "print(averageRating.median())\n",
    "\n",
    "ax = plt.subplot(111)\n",
    "y = [averageRating.mean(), averageRating.median()]\n",
    "N = len(y)\n",
    "x = range(N)\n",
    "ind = np.arange(N)   \n",
    "width = 0.4\n",
    "#help(ax.bar)\n",
    "rect = ax.bar(x, y, width, color=(0.2588,0.4433,1.0))\n",
    "ax.set_ylabel('Rating')\n",
    "ax.set_xticks(ind + width/2.)\n",
    "ax.set_xticklabels(('Mean', 'Median'))\n",
    "\n",
    "def autolabel(rects):\n",
    "    \"\"\"\n",
    "    Attach a text label above each bar displaying its height\n",
    "    \"\"\"\n",
    "    for rect in rects:\n",
    "        height = rect.get_height()\n",
    "        ax.text(rect.get_x() + rect.get_width()/2., 1.05*height,\n",
    "                '%f' % height, ha='center', va='bottom')\n",
    "\n",
    "autolabel(rect)\n",
    "\n",
    "plt.show()"
   ]
  },
  {
   "cell_type": "code",
   "execution_count": 287,
   "metadata": {},
   "outputs": [
    {
     "data": {
      "image/png": "[encoded data removed]",
      "text/plain": [
       "<matplotlib.figure.Figure at 0x16327d91cc0>"
      ]
     },
     "metadata": {},
     "output_type": "display_data"
    }
   ],
   "source": [
    "import numpy as np\n",
    "import matplotlib.pyplot as plt\n",
    "from matplotlib.ticker import FuncFormatter\n",
    "from matplotlib import cm\n",
    "cmap = cm.get_cmap('Accent')\n",
    "male = movie[movie.gender == 'M']\n",
    "female = movie[movie.gender == 'F']\n",
    "ageunder18 = movie[movie.age <= 18]\n",
    "mageunder18 = male[male.age <= 18]\n",
    "fageunder18 = female[female.age <= 18]\n",
    "ageover18 = movie[movie.age > 18]\n",
    "mageover18 = male[male.age > 18]\n",
    "fageover18 = female[female.age > 18]\n",
    "agefrom18to29 = ageover18[ageover18.age <= 29]\n",
    "magefrom18to29 =mageover18[mageover18.age <= 29]\n",
    "fagefrom18to29 =fageover18[fageover18.age <= 29]\n",
    "ageover30 = movie[movie.age > 30]\n",
    "mageover30 = male[male.age > 30]\n",
    "fageover30 = female[female.age > 30]\n",
    "agefrom30to44 = ageover30[ageover30.age <= 44]\n",
    "magefrom30to44 =mageover30[mageover30.age <= 44]\n",
    "fagefrom30to44 =fageover30[fageover30.age <= 44]\n",
    "ageabovie45 = movie[movie.age > 44]\n",
    "mageabovie45 = male[male.age > 44]\n",
    "fageabovie45 = female[female.age > 44]\n",
    "averageRatingm = male[\"rating\"]\n",
    "averageRatingf = female[\"rating\"]\n",
    "averageRatingm18 = mageunder18[\"rating\"]\n",
    "averageRatingf18 = fageunder18[\"rating\"]\n",
    "averageRatingm29 = magefrom18to29[\"rating\"]\n",
    "averageRatingf29 = fagefrom18to29[\"rating\"]\n",
    "averageRatingm44 = magefrom30to44[\"rating\"]\n",
    "averageRatingf44 = fagefrom30to44[\"rating\"]\n",
    "averageRatingm45 = mageabovie45[\"rating\"]\n",
    "averageRatingf45 = fageabovie45[\"rating\"]\n",
    "averageRating18 = ageunder18[\"rating\"]\n",
    "averageRating29 = agefrom18to29[\"rating\"]\n",
    "averageRating44 = agefrom30to44[\"rating\"]\n",
    "averageRating45 = ageabovie45[\"rating\"]\n",
    "#print(\"Men's average rating: \", averageRating1.mean())\n",
    "#print(\"Women's average rating: \", averageRating2.mean())\n",
    "\n",
    "\n",
    "y = [averageRatingm.mean(), averageRatingf.mean(), averageRating18.mean(), averageRatingm18.mean(), averageRatingf18.mean(),\n",
    "     averageRating29.mean(), averageRatingm29.mean(), averageRatingf29.mean(), averageRating44.mean(), averageRatingm44.mean(),\n",
    "     averageRatingf44.mean(), averageRating45.mean(), averageRatingm45.mean(), averageRatingf45.mean()]\n",
    "group_name =list(['Male', 'Female', 'Age under 18', 'Male under 18', 'Female under 18', 'Aged 18 - 29', 'Male 18 - 29', \n",
    "             'Female 18 - 29','Aged 30 - 44', 'Male 30 - 44', 'Female 30 - 44', 'Aged 45+', 'Male 45+', 'Female 45+'])\n",
    "colors = cm.RdYlGn(np.linspace(0,1,len(df)))\n",
    "ax = plt.subplot(111)\n",
    "N = len(y)\n",
    "x = range(N)\n",
    "ind = np.arange(N)   \n",
    "width = 0.2\n",
    "left =1\n",
    "#help(ax.bar)\n",
    "#print(y)\n",
    "rect = ax.barh(x, y, width, color = colors, tick_label=group_name)\n",
    "ax.set_xlabel('Rating')\n",
    "ax.invert_yaxis() \n",
    "ax.set_title('Average rating of the movie from different categories')\n",
    "def autolabel(rects):\n",
    "    for rect in rects:\n",
    "        width = rect.get_width()\n",
    "        plt.text(1.05*rect.get_width(), rect.get_y()+0.5*rect.get_height(),\n",
    "                 '%.2f' % float(width),\n",
    "                 ha='center', va='center')\n",
    "\n",
    "autolabel(rect)\n",
    "\n",
    "plt.show()"
   ]
  },
  {
   "cell_type": "code",
   "execution_count": null,
   "metadata": {
    "collapsed": true
   },
   "outputs": [],
   "source": []
  }
 ],
 "metadata": {
  "anaconda-cloud": {},
  "kernelspec": {
   "display_name": "Python 3",
   "language": "python",
   "name": "python3"
  },
  "language_info": {
   "codemirror_mode": {
    "name": "ipython",
    "version": 3
   },
   "file_extension": ".py",
   "mimetype": "text/x-python",
   "name": "python",
   "nbconvert_exporter": "python",
   "pygments_lexer": "ipython3",
   "version": "3.6.1"
  }
 },
 "nbformat": 4,
 "nbformat_minor": 1
}
